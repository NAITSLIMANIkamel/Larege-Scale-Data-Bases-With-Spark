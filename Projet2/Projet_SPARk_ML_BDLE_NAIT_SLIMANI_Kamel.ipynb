{
  "nbformat": 4,
  "nbformat_minor": 0,
  "metadata": {
    "application/vnd.databricks.v1+notebook": {
      "dashboards": [],
      "language": "python",
      "notebookMetadata": {
        "pythonIndentUnit": 2
      },
      "notebookName": "Spark-RDD-2021_solutions",
      "notebookOrigID": 2832703719774903,
      "widgets": {}
    },
    "colab": {
      "name": "Projet_SparkML_Fake_jobs.ipynb",
      "provenance": [],
      "collapsed_sections": [
        "levNDESpS1hT",
        "xaVx1sukv9s8",
        "R5ZJa3iU_2bh",
        "BkXWXj85mrxv",
        "Px1GgnFFBCPf",
        "PNOV7Tl5AHpW",
        "TOaJHj_Xnq3s",
        "MeBQqkcWttnc",
        "xTrfxUMki0D7",
        "veMe_NGJByHT",
        "9oOaBJgawg3D",
        "FpTu1EVMw5f1",
        "z6nrkm7ww5f7",
        "P11nPZ6_xLpa",
        "w9FXvnrDdeDC",
        "9Bcfz0gD970e",
        "Cu07o4bq-m3P",
        "OqBS9IhHyBpq",
        "mdrfmPHPyBpu",
        "CsAplesPFsNf",
        "T2JsqpZxdwuR",
        "IuGJOcLN2c7L"
      ]
    },
    "kernelspec": {
      "display_name": "Python 3",
      "name": "python3"
    },
    "language_info": {
      "name": "python"
    }
  },
  "cells": [
    {
      "cell_type": "markdown",
      "metadata": {
        "id": "kCaImCHx_2a_"
      },
      "source": [
        "* Master DAC, BDLE, 2021 \n",
        "* Author:Kamel NAIT SLIMANI\n",
        "* Affiliation: Faculté des Sciences - Sorbonne Université\n",
        "* Email: kamel.nait_slimani@etu.sorbonne-universite.fr\n"
      ]
    },
    {
      "cell_type": "markdown",
      "metadata": {
        "id": "levNDESpS1hT"
      },
      "source": [
        "#Spark Session Préparation"
      ]
    },
    {
      "cell_type": "markdown",
      "metadata": {
        "id": "4pZBsez9S1hT"
      },
      "source": [
        "Vérifier que des ressources de calcul sont allouées à votre notebook est connecté (cf RAM  de disque indiqués en haut à droite) . Sinon cliquer sur le bouton connecter pour obtenir des ressources.\n",
        "\n",
        "\n"
      ]
    },
    {
      "cell_type": "markdown",
      "metadata": {
        "id": "CEjerqQ6Ink6"
      },
      "source": [
        "Pour accéder directement aux fichiers stockées sur votre google drive. Renseigner le code d'authentification lorsqu'il est demandé"
      ]
    },
    {
      "cell_type": "code",
      "metadata": {
        "colab": {
          "base_uri": "https://localhost:8080/"
        },
        "id": "g7Dv93rsImuM",
        "outputId": "459e7a6d-cf22-47cc-bacd-eeb132ccd608"
      },
      "source": [
        "import os\n",
        "from google.colab import drive\n",
        "drive.mount(\"/content/drive\", force_remount=True)\n",
        "\n",
        "drive_dir = \"/content/drive/MyDrive/ens/bdle/dir/DM2\"\n",
        "os.makedirs(drive_dir, exist_ok=True)\n",
        "os.listdir(drive_dir)\n"
      ],
      "execution_count": 1,
      "outputs": [
        {
          "output_type": "stream",
          "name": "stdout",
          "text": [
            "Mounted at /content/drive\n"
          ]
        },
        {
          "output_type": "execute_result",
          "data": {
            "text/plain": [
              "['census-income.data.gz',\n",
              " 'census-income.data',\n",
              " 'census-income.test.gz',\n",
              " 'census-income.test',\n",
              " 'train_data.parquet',\n",
              " 'test_data.parquet']"
            ]
          },
          "metadata": {},
          "execution_count": 1
        }
      ]
    },
    {
      "cell_type": "markdown",
      "metadata": {
        "id": "7v9EXMl8aPZC"
      },
      "source": [
        "Installer pyspark et findspark :\n"
      ]
    },
    {
      "cell_type": "code",
      "metadata": {
        "id": "3zlwNHy1S8C2",
        "colab": {
          "base_uri": "https://localhost:8080/"
        },
        "outputId": "d129ddee-72a7-4b9f-d7d9-c495e959ea18"
      },
      "source": [
        "!pip install -q pyspark\n",
        "!pip install -q findspark"
      ],
      "execution_count": 2,
      "outputs": [
        {
          "output_type": "stream",
          "name": "stdout",
          "text": [
            "\u001b[K     |████████████████████████████████| 281.3 MB 37 kB/s \n",
            "\u001b[K     |████████████████████████████████| 198 kB 47.4 MB/s \n",
            "\u001b[?25h  Building wheel for pyspark (setup.py) ... \u001b[?25l\u001b[?25hdone\n"
          ]
        }
      ]
    },
    {
      "cell_type": "markdown",
      "metadata": {
        "id": "PnEmOd_zOUo0"
      },
      "source": [
        "Démarrer la session spark"
      ]
    },
    {
      "cell_type": "code",
      "metadata": {
        "id": "W0ADH0J-VW7i"
      },
      "source": [
        "import os\n",
        "# !find /usr/local -name \"pyspark\"\n",
        "os.environ[\"SPARK_HOME\"] = \"/usr/local/lib/python3.7/dist-packages/pyspark\"\n",
        "os.environ[\"JAVA_HOME\"] = \"/usr\""
      ],
      "execution_count": 3,
      "outputs": []
    },
    {
      "cell_type": "code",
      "metadata": {
        "colab": {
          "base_uri": "https://localhost:8080/"
        },
        "id": "Q_WxQZB7TaUC",
        "outputId": "7672c8e6-4809-42b7-f919-c6020342ac49"
      },
      "source": [
        "# Principaux import\n",
        "import findspark\n",
        "from pyspark.sql import SparkSession \n",
        "from pyspark import SparkConf  \n",
        "\n",
        "# pour les dataframe et udf\n",
        "from pyspark.sql import *  \n",
        "from pyspark.sql.functions import *\n",
        "from pyspark.sql.types import *\n",
        "from datetime import *\n",
        "\n",
        "# pour le chronomètre\n",
        "import time\n",
        "\n",
        "# initialise les variables d'environnement pour spark\n",
        "findspark.init()\n",
        "\n",
        "# Démarrage session spark \n",
        "# --------------------------\n",
        "def demarrer_spark():\n",
        "  local = \"local[*]\"\n",
        "  appName = \"TP\"\n",
        "  configLocale = SparkConf().setAppName(appName).setMaster(local).\\\n",
        "  set(\"spark.executor.memory\", \"15G\").\\\n",
        "  set(\"spark.driver.memory\",\"25G\").\\\n",
        "  set(\"spark.sql.catalogImplementation\",\"in-memory\")\n",
        "  \n",
        "  spark = SparkSession.builder.config(conf = configLocale).getOrCreate()\n",
        "  sc = spark.sparkContext\n",
        "  sc.setLogLevel(\"ERROR\")\n",
        "  \n",
        "  spark.conf.set(\"spark.sql.autoBroadcastJoinThreshold\",\"-1\")\n",
        "\n",
        "  # On ajuste l'environnement d'exécution des requêtes à la taille du cluster (4 coeurs)\n",
        "  spark.conf.set(\"spark.sql.shuffle.partitions\",\"4\")    \n",
        "  print(\"session démarrée, son id est \", sc.applicationId)\n",
        "  return spark\n",
        "spark = demarrer_spark()"
      ],
      "execution_count": 4,
      "outputs": [
        {
          "output_type": "stream",
          "name": "stdout",
          "text": [
            "session démarrée, son id est  local-1637429432551\n"
          ]
        }
      ]
    },
    {
      "cell_type": "code",
      "metadata": {
        "colab": {
          "base_uri": "https://localhost:8080/"
        },
        "id": "fj9pUgrmGpLe",
        "outputId": "fa75e8c1-bc07-4199-b408-45aba63cc850"
      },
      "source": [
        "# on utilise 8 partitions au lieu de 200 par défaut\n",
        "spark.conf.set(\"spark.sql.shuffle.partitions\", \"8\")\n",
        "print(\"Nombre de partitions utilisées : \", spark.conf.get(\"spark.sql.shuffle.partitions\"))"
      ],
      "execution_count": 5,
      "outputs": [
        {
          "output_type": "stream",
          "name": "stdout",
          "text": [
            "Nombre de partitions utilisées :  8\n"
          ]
        }
      ]
    },
    {
      "cell_type": "code",
      "metadata": {
        "id": "Xg0C-SKHTg9v"
      },
      "source": [
        "import pandas as pd\n",
        "from google.colab import data_table\n",
        "import gc\n",
        "import matplotlib.pyplot as plt\n",
        "\n",
        "# Alternative to Databricks display function.\n",
        "pd.options.display.max_colwidth = 400\n",
        "\n",
        "def display(df, n=10000):\n",
        "  return data_table.DataTable(df.limit(n).toPandas(), include_index=False, num_rows_per_page=10)\n"
      ],
      "execution_count": 25,
      "outputs": []
    },
    {
      "cell_type": "markdown",
      "metadata": {
        "id": "xaVx1sukv9s8"
      },
      "source": [
        "#Data Downloading\n"
      ]
    },
    {
      "cell_type": "code",
      "metadata": {
        "colab": {
          "base_uri": "https://localhost:8080/"
        },
        "id": "ilsuCcjSv8b7",
        "outputId": "11f2f5db-00ba-470d-fea8-d11e0e5e4889"
      },
      "source": [
        "import os\n",
        "from urllib import request\n",
        "import gzip\n",
        "\n",
        "url_train =  \"http://kdd.ics.uci.edu/databases/census-income/census-income.data.gz\"\n",
        "url_test =  \"http://kdd.ics.uci.edu/databases/census-income/census-income.test.gz\"\n",
        "# temp = \"/temp\"\n",
        "local_archive_train = drive_dir +\"/census-income.data.gz\"\n",
        "local_archive_test = drive_dir +\"/census-income.test.gz\"\n",
        "local_train=drive_dir +\"/census-income.data\"\n",
        "local_test= drive_dir +\"/census-income.test\"\n",
        "os.makedirs(drive_dir,exist_ok=True)\n",
        "\n",
        "\n",
        "if(os.path.isfile(local_train)):\n",
        "  print(\"train data already downloaded\")\n",
        "else:\n",
        "  print(\"downloading from URL: \", url_train, \"save in : \", local_archive_train)\n",
        "  request.urlretrieve(url_train, local_archive_train)\n",
        "  os.chdir(drive_dir)\n",
        "  print(drive_dir,local_archive_train)\n",
        "  with  gzip.open(local_archive_train,\"rb\") as gz_f:\n",
        "    with open(local_train,\"wb\") as f:\n",
        "      f.write(gz_f.read())\n",
        "\n",
        "\n",
        "if(os.path.isfile(local_archive_test)):\n",
        "  print(\"test data already downloaded\")\n",
        "else:\n",
        "  print(\"downloading from URL: \", url_test, \"save in : \", local_archive_test)\n",
        "  request.urlretrieve(url_test, local_archive_test)\n",
        "  os.chdir(drive_dir)\n",
        "  with  gzip.open(local_archive_test,\"rb\") as gz_f:\n",
        "    with open(local_test,\"wb\") as f:\n",
        "      f.write(gz_f.read())\n",
        "\n",
        "#liste des fichier des données \n",
        "os.listdir(drive_dir)"
      ],
      "execution_count": 7,
      "outputs": [
        {
          "output_type": "stream",
          "name": "stdout",
          "text": [
            "train data already downloaded\n",
            "test data already downloaded\n"
          ]
        },
        {
          "output_type": "execute_result",
          "data": {
            "text/plain": [
              "['census-income.data.gz',\n",
              " 'census-income.data',\n",
              " 'census-income.test.gz',\n",
              " 'census-income.test',\n",
              " 'train_data.parquet',\n",
              " 'test_data.parquet']"
            ]
          },
          "metadata": {},
          "execution_count": 7
        }
      ]
    },
    {
      "cell_type": "markdown",
      "metadata": {
        "id": "QMjfZstYdTEb"
      },
      "source": [
        "#Data Processing"
      ]
    },
    {
      "cell_type": "markdown",
      "metadata": {
        "id": "R5ZJa3iU_2bh"
      },
      "source": [
        "##Data Loading \n",
        "\n",
        "Dans cette section nous avons chercher une base de donées et nous avons crée le dataFrame suivant le schema des données puis enlever des features."
      ]
    },
    {
      "cell_type": "code",
      "metadata": {
        "id": "QM8upb4nK0WP"
      },
      "source": [
        "import pandas as pd\n",
        "import gc\n",
        "import matplotlib.pyplot as plt\n"
      ],
      "execution_count": 30,
      "outputs": []
    },
    {
      "cell_type": "code",
      "metadata": {
        "id": "3dBDkD4ADMqi"
      },
      "source": [
        "schema=\"\"\"AAGE float , \n",
        "ACLSWKR string , \n",
        "ADTIND string , \n",
        "ADTOCC string , \n",
        "AHGA string , \n",
        "AHRSPAY float , \n",
        "AHSCOL string , \n",
        "AMARITL string , \n",
        "AMJIND string , \n",
        "AMJOCC string , \n",
        "ARACE string , \n",
        "AREORGN string , \n",
        "ASEX string , \n",
        "AUNMEM string , \n",
        "AUNTYPE string , \n",
        "AWKSTAT string , \n",
        "CAPGAIN float , \n",
        "CAPLOSS float , \n",
        "DIVVAL float , \n",
        "FILESTAT string , \n",
        "GRINREG string , \n",
        "GRINST string , \n",
        "HHDFMX string , \n",
        "HHDREL string , \n",
        "MARSUPWT float,\n",
        "MIGMTR1 string , \n",
        "MIGMTR3 string , \n",
        "MIGMTR4 string , \n",
        "MIGSAME string , \n",
        "MIGSUN string , \n",
        "NOEMP float , \n",
        "PARENT string , \n",
        "PEFNTVTY string , \n",
        "PEMNTVTY string , \n",
        "PENATVTY string , \n",
        "PRCITSHP string , \n",
        "SEOTR string , \n",
        "VETQVA string , \n",
        "VETYN string , \n",
        "WKSWORK float , \n",
        "YEAR string ,\n",
        "Label string\"\"\"\n"
      ],
      "execution_count": 31,
      "outputs": []
    },
    {
      "cell_type": "code",
      "metadata": {
        "id": "4jZSuMPaMU5h"
      },
      "source": [
        "train_dataset = spark.read.csv(path = drive_dir + \"/census-income.data\",schema=schema).persist()\n",
        "test_dataset=spark.read.csv(path = drive_dir + \"/census-income.test\",schema=schema).persist()"
      ],
      "execution_count": 32,
      "outputs": []
    },
    {
      "cell_type": "code",
      "metadata": {
        "colab": {
          "base_uri": "https://localhost:8080/"
        },
        "id": "NPLUZeK_HFtp",
        "outputId": "e1a93b50-911a-42c1-8bfc-50fa0f670683"
      },
      "source": [
        "train_dataset.show(5)"
      ],
      "execution_count": 33,
      "outputs": [
        {
          "output_type": "stream",
          "name": "stdout",
          "text": [
            "+----+--------------------+------+------+--------------------+-------+----------------+--------------+--------------------+--------------------+--------------------+----------+-------+----------------+----------------+--------------------+-------+-------+------+------------------+----------------+----------------+--------------------+--------------------+--------+-----------+------------+------------+--------------------+----------------+-----+--------------------+--------------+--------------+--------------+--------------------+-----+----------------+-----+-------+----+---------+\n",
            "|AAGE|             ACLSWKR|ADTIND|ADTOCC|                AHGA|AHRSPAY|          AHSCOL|       AMARITL|              AMJIND|              AMJOCC|               ARACE|   AREORGN|   ASEX|          AUNMEM|         AUNTYPE|             AWKSTAT|CAPGAIN|CAPLOSS|DIVVAL|          FILESTAT|         GRINREG|          GRINST|              HHDFMX|              HHDREL|MARSUPWT|    MIGMTR1|     MIGMTR3|     MIGMTR4|             MIGSAME|          MIGSUN|NOEMP|              PARENT|      PEFNTVTY|      PEMNTVTY|      PENATVTY|            PRCITSHP|SEOTR|          VETQVA|VETYN|WKSWORK|YEAR|    Label|\n",
            "+----+--------------------+------+------+--------------------+-------+----------------+--------------+--------------------+--------------------+--------------------+----------+-------+----------------+----------------+--------------------+-------+-------+------+------------------+----------------+----------------+--------------------+--------------------+--------+-----------+------------+------------+--------------------+----------------+-----+--------------------+--------------+--------------+--------------+--------------------+-----+----------------+-----+-------+----+---------+\n",
            "|73.0|     Not in universe|     0|     0| High school grad...|    0.0| Not in universe|       Widowed| Not in universe ...|     Not in universe|               White| All other| Female| Not in universe| Not in universe|  Not in labor force|    0.0|    0.0|   0.0|          Nonfiler| Not in universe| Not in universe| Other Rel 18+ ev...| Other relative o...| 1700.09|          ?|           ?|           ?| Not in universe ...|               ?|  0.0|     Not in universe| United-States| United-States| United-States| Native- Born in ...|    0| Not in universe|    2|    0.0|  95| - 50000.|\n",
            "|58.0| Self-employed-no...|     4|    34| Some college but...|    0.0| Not in universe|      Divorced|        Construction| Precision produc...|               White| All other|   Male| Not in universe| Not in universe| Children or Arme...|    0.0|    0.0|   0.0| Head of household|           South|        Arkansas|         Householder|         Householder| 1053.55| MSA to MSA| Same county| Same county|                  No|             Yes|  1.0|     Not in universe| United-States| United-States| United-States| Native- Born in ...|    0| Not in universe|    2|   52.0|  94| - 50000.|\n",
            "|18.0|     Not in universe|     0|     0|          10th grade|    0.0|     High school| Never married| Not in universe ...|     Not in universe| Asian or Pacific...| All other| Female| Not in universe| Not in universe|  Not in labor force|    0.0|    0.0|   0.0|          Nonfiler| Not in universe| Not in universe| Child 18+ never ...|   Child 18 or older|  991.95|          ?|           ?|           ?| Not in universe ...|               ?|  0.0|     Not in universe|       Vietnam|       Vietnam|       Vietnam| Foreign born- No...|    0| Not in universe|    2|    0.0|  95| - 50000.|\n",
            "| 9.0|     Not in universe|     0|     0|            Children|    0.0| Not in universe| Never married| Not in universe ...|     Not in universe|               White| All other| Female| Not in universe| Not in universe| Children or Arme...|    0.0|    0.0|   0.0|          Nonfiler| Not in universe| Not in universe| Child <18 never ...| Child under 18 n...| 1758.14|   Nonmover|    Nonmover|    Nonmover|                 Yes| Not in universe|  0.0| Both parents pre...| United-States| United-States| United-States| Native- Born in ...|    0| Not in universe|    0|    0.0|  94| - 50000.|\n",
            "|10.0|     Not in universe|     0|     0|            Children|    0.0| Not in universe| Never married| Not in universe ...|     Not in universe|               White| All other| Female| Not in universe| Not in universe| Children or Arme...|    0.0|    0.0|   0.0|          Nonfiler| Not in universe| Not in universe| Child <18 never ...| Child under 18 n...| 1069.16|   Nonmover|    Nonmover|    Nonmover|                 Yes| Not in universe|  0.0| Both parents pre...| United-States| United-States| United-States| Native- Born in ...|    0| Not in universe|    0|    0.0|  94| - 50000.|\n",
            "+----+--------------------+------+------+--------------------+-------+----------------+--------------+--------------------+--------------------+--------------------+----------+-------+----------------+----------------+--------------------+-------+-------+------+------------------+----------------+----------------+--------------------+--------------------+--------+-----------+------------+------------+--------------------+----------------+-----+--------------------+--------------+--------------+--------------+--------------------+-----+----------------+-----+-------+----+---------+\n",
            "only showing top 5 rows\n",
            "\n"
          ]
        }
      ]
    },
    {
      "cell_type": "code",
      "metadata": {
        "id": "ywzEKgh0xLrs"
      },
      "source": [
        "distinct_values=train_dataset.agg(*(countDistinct(col(c)).alias(c) for c in test_dataset.columns))"
      ],
      "execution_count": 34,
      "outputs": []
    },
    {
      "cell_type": "code",
      "metadata": {
        "colab": {
          "base_uri": "https://localhost:8080/"
        },
        "id": "BfUwkRTs9JKd",
        "outputId": "54011d5d-682c-4b2a-dc13-c5071baef1cb"
      },
      "source": [
        "distinct_values.show()"
      ],
      "execution_count": 35,
      "outputs": [
        {
          "output_type": "stream",
          "name": "stdout",
          "text": [
            "+----+-------+------+------+----+-------+------+-------+------+------+-----+-------+----+------+-------+-------+-------+-------+------+--------+-------+------+------+------+--------+-------+-------+-------+-------+------+-----+------+--------+--------+--------+--------+-----+------+-----+-------+----+-----+\n",
            "|AAGE|ACLSWKR|ADTIND|ADTOCC|AHGA|AHRSPAY|AHSCOL|AMARITL|AMJIND|AMJOCC|ARACE|AREORGN|ASEX|AUNMEM|AUNTYPE|AWKSTAT|CAPGAIN|CAPLOSS|DIVVAL|FILESTAT|GRINREG|GRINST|HHDFMX|HHDREL|MARSUPWT|MIGMTR1|MIGMTR3|MIGMTR4|MIGSAME|MIGSUN|NOEMP|PARENT|PEFNTVTY|PEMNTVTY|PENATVTY|PRCITSHP|SEOTR|VETQVA|VETYN|WKSWORK|YEAR|Label|\n",
            "+----+-------+------+------+----+-------+------+-------+------+------+-----+-------+----+------+-------+-------+-------+-------+------+--------+-------+------+------+------+--------+-------+-------+-------+-------+------+-----+------+--------+--------+--------+--------+-----+------+-----+-------+----+-----+\n",
            "|  91|      9|    52|    47|  17|   1240|     3|      7|    24|    15|    5|     10|   2|     3|      6|      8|    132|    113|  1478|       6|      6|    51|    38|     8|   99800|     10|      9|     10|      3|     4|    7|     5|      43|      43|      43|       5|    3|     3|    3|     53|   2|    2|\n",
            "+----+-------+------+------+----+-------+------+-------+------+------+-----+-------+----+------+-------+-------+-------+-------+------+--------+-------+------+------+------+--------+-------+-------+-------+-------+------+-----+------+--------+--------+--------+--------+-----+------+-----+-------+----+-----+\n",
            "\n"
          ]
        }
      ]
    },
    {
      "cell_type": "code",
      "metadata": {
        "id": "Yf_dqsLAFuaT"
      },
      "source": [
        "Not_in_Universe_count=pd.DataFrame([[train_dataset.where(col(column).contains(\"Not in universe\")).count() for column in test_dataset.columns]],columns= test_dataset.columns)"
      ],
      "execution_count": 36,
      "outputs": []
    },
    {
      "cell_type": "code",
      "metadata": {
        "colab": {
          "base_uri": "https://localhost:8080/",
          "height": 0
        },
        "id": "TgZw-A0zKSaR",
        "outputId": "437a79cc-7036-446e-b538-57d7eaa545ea"
      },
      "source": [
        "\n",
        "fig=plt.figure(figsize=(20,10))\n",
        "plt.xticks(range(0,len(Not_in_Universe_count.columns)),Not_in_Universe_count.columns)\n",
        "plt.xlabel(\"Feature\")\n",
        "plt.bar(Not_in_Universe_count.columns,Not_in_Universe_count.values.reshape(-1))\n",
        "plt.xticks(rotation=60)\n",
        "plt.show()"
      ],
      "execution_count": 37,
      "outputs": [
        {
          "output_type": "display_data",
          "data": {
            "image/png": "[encoded data removed]",
            "text/plain": [
              "<Figure size 1440x720 with 1 Axes>"
            ]
          },
          "metadata": {
            "needs_background": "light"
          }
        }
      ]
    },
    {
      "cell_type": "code",
      "metadata": {
        "id": "tyIpuckcKJG3"
      },
      "source": [
        "cols_to_remove=Not_in_Universe_count[Not_in_Universe_count.columns[(Not_in_Universe_count>100000).T[0]] ].columns"
      ],
      "execution_count": 38,
      "outputs": []
    },
    {
      "cell_type": "code",
      "metadata": {
        "id": "cZjnLJ3HVeCf"
      },
      "source": [
        "test_dataset=test_dataset.drop(*cols_to_remove)\n",
        "train_dataset=train_dataset.drop(*cols_to_remove)\n",
        "test_dataset=test_dataset.dropDuplicates()\n",
        "train_dataset=train_dataset.dropDuplicates()"
      ],
      "execution_count": 39,
      "outputs": []
    },
    {
      "cell_type": "code",
      "metadata": {
        "id": "HkI8hBh-xFM5"
      },
      "source": [
        "col_to_filter=Not_in_Universe_count[Not_in_Universe_count.columns[((Not_in_Universe_count<100000).T[0] &  (Not_in_Universe_count>0).T[0]) ] ].columns"
      ],
      "execution_count": 40,
      "outputs": []
    },
    {
      "cell_type": "code",
      "metadata": {
        "id": "o0blk57nXhXM"
      },
      "source": [
        "def filter_dataset_Not_in_universe(df,col_to_filter):\n",
        "  for column in col_to_filter:\n",
        "    print(\"Removing 'Not in universe' Rows in\"+column)\n",
        "    df=df.filter(~col(column).contains(\"Not in universe\"))\n",
        "  return df"
      ],
      "execution_count": 41,
      "outputs": []
    },
    {
      "cell_type": "code",
      "metadata": {
        "colab": {
          "base_uri": "https://localhost:8080/"
        },
        "id": "COsFY5GwbSSY",
        "outputId": "127fa80a-8306-4688-8a5b-8bbddd8c4ad7"
      },
      "source": [
        "train_dataset=filter_dataset_Not_in_universe(train_dataset,col_to_filter)"
      ],
      "execution_count": 42,
      "outputs": [
        {
          "output_type": "stream",
          "name": "stdout",
          "text": [
            "Removing 'Not in universe' Rows inMIGMTR1\n",
            "Removing 'Not in universe' Rows inMIGMTR3\n",
            "Removing 'Not in universe' Rows inMIGMTR4\n",
            "Removing 'Not in universe' Rows inMIGSUN\n"
          ]
        }
      ]
    },
    {
      "cell_type": "code",
      "metadata": {
        "id": "5suieJAjhJu6",
        "colab": {
          "base_uri": "https://localhost:8080/"
        },
        "outputId": "8e604218-3efc-47d9-a299-7f2629806dfd"
      },
      "source": [
        "test_dataset=filter_dataset_Not_in_universe(test_dataset,col_to_filter)"
      ],
      "execution_count": 43,
      "outputs": [
        {
          "output_type": "stream",
          "name": "stdout",
          "text": [
            "Removing 'Not in universe' Rows inMIGMTR1\n",
            "Removing 'Not in universe' Rows inMIGMTR3\n",
            "Removing 'Not in universe' Rows inMIGMTR4\n",
            "Removing 'Not in universe' Rows inMIGSUN\n"
          ]
        }
      ]
    },
    {
      "cell_type": "code",
      "metadata": {
        "colab": {
          "base_uri": "https://localhost:8080/",
          "height": 0
        },
        "id": "EuaOEH5-bl-X",
        "outputId": "6edc5e4d-6df3-471c-b7ae-e86091577441"
      },
      "source": [
        "import matplotlib.pyplot as plt\n",
        "fig=plt.figure(figsize=(120,120))\n",
        "distinct_values=train_dataset.agg(*(countDistinct(col(c)).alias(c) for c in test_dataset.columns))\n",
        "histogram = distinct_values.rdd.histogram(1)\n",
        "\n",
        "# Loading the Computed Histogram into a Pandas Dataframe for plotting\n",
        "print()\n",
        "pd.DataFrame(\n",
        "    [list(histogram[0][0])],columns=distinct_values.columns\n",
        ").plot(kind='bar',figsize=(10,10))\n",
        "plt.legend( bbox_to_anchor=(1.3, 1.05),\n",
        "          ncol=3, fancybox=True, shadow=True)\n",
        "plt.show()"
      ],
      "execution_count": 44,
      "outputs": [
        {
          "output_type": "stream",
          "name": "stdout",
          "text": [
            "\n"
          ]
        },
        {
          "output_type": "display_data",
          "data": {
            "text/plain": [
              "<Figure size 8640x8640 with 0 Axes>"
            ]
          },
          "metadata": {}
        },
        {
          "output_type": "display_data",
          "data": {
            "image/png": "[encoded data removed]",
            "text/plain": [
              "<Figure size 720x720 with 1 Axes>"
            ]
          },
          "metadata": {
            "needs_background": "light"
          }
        }
      ]
    },
    {
      "cell_type": "markdown",
      "metadata": {
        "id": "BkXWXj85mrxv"
      },
      "source": [
        "##Data Transformation\n",
        "Dans cette section nous avons éffectué des transformation:\n"
      ]
    },
    {
      "cell_type": "code",
      "metadata": {
        "id": "y-Gq024xI2WU"
      },
      "source": [
        "from pyspark.ml.feature import MinMaxScaler,VectorIndexer , VectorAssembler,StringIndexer \n",
        "from pyspark.ml import Pipeline"
      ],
      "execution_count": 46,
      "outputs": []
    },
    {
      "cell_type": "markdown",
      "metadata": {
        "id": "Px1GgnFFBCPf"
      },
      "source": [
        "####Function pour normaliser une colonnes du data frame."
      ]
    },
    {
      "cell_type": "code",
      "metadata": {
        "id": "MMd5s1AwdlYK"
      },
      "source": [
        "def normalizer(col):\n",
        "  assembler=VectorAssembler(inputCols=[col],outputCol=\"vect_\"+col)\n",
        "  scaler=MinMaxScaler(inputCol=\"vect_\"+col,outputCol=\"scal_\"+col)\n",
        "  return Pipeline(stages=[assembler, scaler])"
      ],
      "execution_count": 28,
      "outputs": []
    },
    {
      "cell_type": "code",
      "metadata": {
        "id": "CGJAr_wlMcWj"
      },
      "source": [
        "string_columns=[ c.split(\" \")[0]  for c in  schema.split('\\n') if c.split(\" \")[1]==\"string\" and c.split(\" \")[0] not in cols_to_remove ]\n",
        "continous_columns=[ c.split(\" \")[0]  for c in  schema.split('\\n') if c.split(\" \")[1]==\"float\" and c.split(\" \")[0] not in cols_to_remove ]\n",
        "label = 'Label'\n",
        "features_col= string_columns\n",
        "features_col.remove(label)\n",
        "index_prefix = 'indexed_'\n",
        "\n",
        "label_string_indexer= StringIndexer(inputCol=label, outputCol=index_prefix+label)\n",
        "\n",
        "features_str_col= list(map(lambda c:index_prefix+c, features_col))\n",
        "\n",
        "features_string_indexer= StringIndexer(inputCols=features_col,outputCols=features_str_col)\n",
        "\n",
        "#Columns values normalizers to have values between 0-1\n",
        "features_normalizers = [ normalizer(c) for c in (features_string_indexer.getOutputCols()+continous_columns) ]\n",
        "\n",
        "Scal_cols=[ \"scal_\"+c for c in (features_string_indexer.getOutputCols()+continous_columns)]\n",
        "\n",
        "vec_assembler= VectorAssembler(inputCols=Scal_cols,outputCol= 'vector')\n",
        "vec_indexer= VectorIndexer(inputCol='vector',outputCol='features')"
      ],
      "execution_count": 47,
      "outputs": []
    },
    {
      "cell_type": "code",
      "metadata": {
        "id": "spSmcAfoO-6y"
      },
      "source": [
        "from pyspark.ml import Pipeline\n",
        "stages = [label_string_indexer,features_string_indexer]\n",
        "stages.extend(features_normalizers)\n",
        "stages.extend([vec_assembler,vec_indexer])\n",
        "pipeline = Pipeline(stages = stages)"
      ],
      "execution_count": 48,
      "outputs": []
    },
    {
      "cell_type": "markdown",
      "metadata": {
        "id": "ro9ZykrVA0Nu"
      },
      "source": [
        "####Transformation des données d'entrée avec les pipelines definits"
      ]
    },
    {
      "cell_type": "code",
      "metadata": {
        "id": "An-vDwJ-mfxQ"
      },
      "source": [
        "train_data= pipeline.fit(train_dataset).transform(train_dataset)"
      ],
      "execution_count": 107,
      "outputs": []
    },
    {
      "cell_type": "code",
      "metadata": {
        "id": "NjWlTvdoFEgz"
      },
      "source": [
        "test_data= pipeline.fit(test_dataset).transform(test_dataset)"
      ],
      "execution_count": 296,
      "outputs": []
    },
    {
      "cell_type": "markdown",
      "metadata": {
        "id": "PNOV7Tl5AHpW"
      },
      "source": [
        "####Libération de mémoire\n",
        "Aprés avoir eu des problémes de saturation mémoire nous avont utilisé le garbage collector de python et de spark pour ne pas saturer la mémoire."
      ]
    },
    {
      "cell_type": "code",
      "metadata": {
        "id": "WIOKpyO1F9xz"
      },
      "source": [
        "train_dataset,test_dataset=None,None\n",
        "gc.collect()\n",
        "spark.sparkContext._jvm.System.gc()"
      ],
      "execution_count": 297,
      "outputs": []
    },
    {
      "cell_type": "markdown",
      "metadata": {
        "id": "TOaJHj_Xnq3s"
      },
      "source": [
        "##Data Statistics and dashboards"
      ]
    },
    {
      "cell_type": "code",
      "metadata": {
        "id": "P-Ndi6UeFx_C"
      },
      "source": [
        "description=train_data.select(features_string_indexer.getOutputCols()+continous_columns).describe()"
      ],
      "execution_count": 298,
      "outputs": []
    },
    {
      "cell_type": "code",
      "metadata": {
        "colab": {
          "base_uri": "https://localhost:8080/",
          "height": 0
        },
        "id": "rgzOgSF-hIC3",
        "outputId": "93d7b109-5ef3-4b2b-e34a-d70318cfb245"
      },
      "source": [
        "description.toPandas()"
      ],
      "execution_count": 299,
      "outputs": [
        {
          "output_type": "execute_result",
          "data": {
            "text/html": [
              "<div>\n",
              "<style scoped>\n",
              "    .dataframe tbody tr th:only-of-type {\n",
              "        vertical-align: middle;\n",
              "    }\n",
              "\n",
              "    .dataframe tbody tr th {\n",
              "        vertical-align: top;\n",
              "    }\n",
              "\n",
              "    .dataframe thead th {\n",
              "        text-align: right;\n",
              "    }\n",
              "</style>\n",
              "<table border=\"1\" class=\"dataframe\">\n",
              "  <thead>\n",
              "    <tr style=\"text-align: right;\">\n",
              "      <th></th>\n",
              "      <th>summary</th>\n",
              "      <th>indexed_ADTIND</th>\n",
              "      <th>indexed_ADTOCC</th>\n",
              "      <th>indexed_AHGA</th>\n",
              "      <th>indexed_AMARITL</th>\n",
              "      <th>indexed_ARACE</th>\n",
              "      <th>indexed_AREORGN</th>\n",
              "      <th>indexed_ASEX</th>\n",
              "      <th>indexed_AWKSTAT</th>\n",
              "      <th>indexed_FILESTAT</th>\n",
              "      <th>indexed_HHDFMX</th>\n",
              "      <th>indexed_HHDREL</th>\n",
              "      <th>indexed_MIGMTR1</th>\n",
              "      <th>indexed_MIGMTR3</th>\n",
              "      <th>indexed_MIGMTR4</th>\n",
              "      <th>indexed_MIGSUN</th>\n",
              "      <th>indexed_PEFNTVTY</th>\n",
              "      <th>indexed_PEMNTVTY</th>\n",
              "      <th>indexed_PENATVTY</th>\n",
              "      <th>indexed_PRCITSHP</th>\n",
              "      <th>indexed_SEOTR</th>\n",
              "      <th>indexed_VETYN</th>\n",
              "      <th>indexed_YEAR</th>\n",
              "      <th>AAGE</th>\n",
              "      <th>AHRSPAY</th>\n",
              "      <th>CAPGAIN</th>\n",
              "      <th>CAPLOSS</th>\n",
              "      <th>DIVVAL</th>\n",
              "      <th>NOEMP</th>\n",
              "      <th>WKSWORK</th>\n",
              "    </tr>\n",
              "  </thead>\n",
              "  <tbody>\n",
              "    <tr>\n",
              "      <th>0</th>\n",
              "      <td>count</td>\n",
              "      <td>113202</td>\n",
              "      <td>113202</td>\n",
              "      <td>113202</td>\n",
              "      <td>113202</td>\n",
              "      <td>113202</td>\n",
              "      <td>113202</td>\n",
              "      <td>113202</td>\n",
              "      <td>113202</td>\n",
              "      <td>113202</td>\n",
              "      <td>113202</td>\n",
              "      <td>113202</td>\n",
              "      <td>113202</td>\n",
              "      <td>113202</td>\n",
              "      <td>113202</td>\n",
              "      <td>113202</td>\n",
              "      <td>113202</td>\n",
              "      <td>113202</td>\n",
              "      <td>113202</td>\n",
              "      <td>113202</td>\n",
              "      <td>113202</td>\n",
              "      <td>113202</td>\n",
              "      <td>113202</td>\n",
              "      <td>113202</td>\n",
              "      <td>113202</td>\n",
              "      <td>113202</td>\n",
              "      <td>113202</td>\n",
              "      <td>113202</td>\n",
              "      <td>113202</td>\n",
              "      <td>113202</td>\n",
              "    </tr>\n",
              "    <tr>\n",
              "      <th>1</th>\n",
              "      <td>mean</td>\n",
              "      <td>5.763104892139715</td>\n",
              "      <td>6.773678910266603</td>\n",
              "      <td>3.0712884931361635</td>\n",
              "      <td>0.8498701436370382</td>\n",
              "      <td>0.2949859543117613</td>\n",
              "      <td>0.3980760057242805</td>\n",
              "      <td>0.47897563647285385</td>\n",
              "      <td>1.1037967527075494</td>\n",
              "      <td>1.1030105475168284</td>\n",
              "      <td>2.2470981078072825</td>\n",
              "      <td>1.3062225049027403</td>\n",
              "      <td>0.23269023515485593</td>\n",
              "      <td>0.2497570714298334</td>\n",
              "      <td>0.2643416194060176</td>\n",
              "      <td>0.18986413667603047</td>\n",
              "      <td>1.7151375417395451</td>\n",
              "      <td>1.701418702849773</td>\n",
              "      <td>1.0333297998268582</td>\n",
              "      <td>0.19476687691030195</td>\n",
              "      <td>0.1225243370258476</td>\n",
              "      <td>0.24139149484991432</td>\n",
              "      <td>0.13888447200579496</td>\n",
              "      <td>34.156923022561436</td>\n",
              "      <td>56.54419533223795</td>\n",
              "      <td>444.68028833412836</td>\n",
              "      <td>37.742760728609035</td>\n",
              "      <td>189.5134803272027</td>\n",
              "      <td>2.068488189254607</td>\n",
              "      <td>23.956334693733325</td>\n",
              "    </tr>\n",
              "    <tr>\n",
              "      <th>2</th>\n",
              "      <td>stddev</td>\n",
              "      <td>9.623414271554694</td>\n",
              "      <td>10.170134089740424</td>\n",
              "      <td>3.5744627275199483</td>\n",
              "      <td>1.045841712623933</td>\n",
              "      <td>0.7544096801420754</td>\n",
              "      <td>1.180955721463259</td>\n",
              "      <td>0.49955998708319693</td>\n",
              "      <td>1.1873411308150408</td>\n",
              "      <td>1.1582796597807439</td>\n",
              "      <td>3.1120909861078423</td>\n",
              "      <td>1.4178437150251362</td>\n",
              "      <td>0.7456537821698227</td>\n",
              "      <td>0.7876531648793718</td>\n",
              "      <td>0.8743552742542083</td>\n",
              "      <td>0.5057443376825311</td>\n",
              "      <td>5.405269826986595</td>\n",
              "      <td>5.38190019520885</td>\n",
              "      <td>4.304101422840034</td>\n",
              "      <td>0.6079233196769637</td>\n",
              "      <td>0.3711129489166722</td>\n",
              "      <td>0.4501622534899045</td>\n",
              "      <td>0.34582745976881374</td>\n",
              "      <td>21.687157719545663</td>\n",
              "      <td>272.02303823229624</td>\n",
              "      <td>4764.279551058104</td>\n",
              "      <td>274.0490140243587</td>\n",
              "      <td>1961.8583660280099</td>\n",
              "      <td>2.4038474618865666</td>\n",
              "      <td>24.367246778100174</td>\n",
              "    </tr>\n",
              "    <tr>\n",
              "      <th>3</th>\n",
              "      <td>min</td>\n",
              "      <td>0.0</td>\n",
              "      <td>0.0</td>\n",
              "      <td>0.0</td>\n",
              "      <td>0.0</td>\n",
              "      <td>0.0</td>\n",
              "      <td>0.0</td>\n",
              "      <td>0.0</td>\n",
              "      <td>0.0</td>\n",
              "      <td>0.0</td>\n",
              "      <td>0.0</td>\n",
              "      <td>0.0</td>\n",
              "      <td>0.0</td>\n",
              "      <td>0.0</td>\n",
              "      <td>0.0</td>\n",
              "      <td>0.0</td>\n",
              "      <td>0.0</td>\n",
              "      <td>0.0</td>\n",
              "      <td>0.0</td>\n",
              "      <td>0.0</td>\n",
              "      <td>0.0</td>\n",
              "      <td>0.0</td>\n",
              "      <td>0.0</td>\n",
              "      <td>0.0</td>\n",
              "      <td>0.0</td>\n",
              "      <td>0.0</td>\n",
              "      <td>0.0</td>\n",
              "      <td>0.0</td>\n",
              "      <td>0.0</td>\n",
              "      <td>0.0</td>\n",
              "    </tr>\n",
              "    <tr>\n",
              "      <th>4</th>\n",
              "      <td>max</td>\n",
              "      <td>51.0</td>\n",
              "      <td>46.0</td>\n",
              "      <td>16.0</td>\n",
              "      <td>6.0</td>\n",
              "      <td>4.0</td>\n",
              "      <td>9.0</td>\n",
              "      <td>1.0</td>\n",
              "      <td>7.0</td>\n",
              "      <td>5.0</td>\n",
              "      <td>35.0</td>\n",
              "      <td>7.0</td>\n",
              "      <td>7.0</td>\n",
              "      <td>6.0</td>\n",
              "      <td>7.0</td>\n",
              "      <td>2.0</td>\n",
              "      <td>42.0</td>\n",
              "      <td>42.0</td>\n",
              "      <td>42.0</td>\n",
              "      <td>4.0</td>\n",
              "      <td>2.0</td>\n",
              "      <td>2.0</td>\n",
              "      <td>1.0</td>\n",
              "      <td>90.0</td>\n",
              "      <td>9800.0</td>\n",
              "      <td>99999.0</td>\n",
              "      <td>4608.0</td>\n",
              "      <td>99999.0</td>\n",
              "      <td>6.0</td>\n",
              "      <td>52.0</td>\n",
              "    </tr>\n",
              "  </tbody>\n",
              "</table>\n",
              "</div>"
            ],
            "text/plain": [
              "  summary     indexed_ADTIND  ...               NOEMP             WKSWORK\n",
              "0   count             113202  ...              113202              113202\n",
              "1    mean  5.763104892139715  ...   2.068488189254607  23.956334693733325\n",
              "2  stddev  9.623414271554694  ...  2.4038474618865666  24.367246778100174\n",
              "3     min                0.0  ...                 0.0                 0.0\n",
              "4     max               51.0  ...                 6.0                52.0\n",
              "\n",
              "[5 rows x 30 columns]"
            ]
          },
          "metadata": {},
          "execution_count": 299
        }
      ]
    },
    {
      "cell_type": "code",
      "metadata": {
        "colab": {
          "base_uri": "https://localhost:8080/",
          "height": 0
        },
        "id": "fR0fXfCghc_k",
        "outputId": "0d9bafc5-91f7-4e4a-bcae-1be9e13abd7f"
      },
      "source": [
        "train_data.select(\"Label\",\"CAPGAIN\",\"DIVVAL\").toPandas().hist(figsize=(15,6),by=\"Label\",column=[\"CAPGAIN\",\"DIVVAL\"],legend=True)\n",
        "plt.legend()\n",
        "plt.show()"
      ],
      "execution_count": 109,
      "outputs": [
        {
          "output_type": "display_data",
          "data": {
            "image/png": "[encoded data removed]",
            "text/plain": [
              "<Figure size 1080x432 with 2 Axes>"
            ]
          },
          "metadata": {
            "needs_background": "light"
          }
        }
      ]
    },
    {
      "cell_type": "code",
      "metadata": {
        "colab": {
          "base_uri": "https://localhost:8080/",
          "height": 0
        },
        "id": "GGb36GOmrd2Y",
        "outputId": "f9ab2ba1-6851-4ab1-e539-9ce0f78493a3"
      },
      "source": [
        "train_data.select(\"Label\",\"AHRSPAY\",\"CAPLOSS\").toPandas().hist(figsize=(15,6),by=\"Label\",column=[\"AHRSPAY\",\"CAPLOSS\"],legend=True)\n",
        "plt.legend()\n",
        "plt.show()"
      ],
      "execution_count": 108,
      "outputs": [
        {
          "output_type": "display_data",
          "data": {
            "image/png": "[encoded data removed]",
            "text/plain": [
              "<Figure size 1080x432 with 2 Axes>"
            ]
          },
          "metadata": {
            "needs_background": "light"
          }
        }
      ]
    },
    {
      "cell_type": "code",
      "metadata": {
        "colab": {
          "base_uri": "https://localhost:8080/",
          "height": 0
        },
        "id": "HBy3LITUpiyn",
        "outputId": "f47d9bbe-5caf-4676-a529-a47695d90f79"
      },
      "source": [
        "train_data.select(\"Label\",\"WKSWORK\",\"aage\").toPandas().hist(figsize=(15,6),by=\"Label\",column=[\"WKSWORK\",\"aage\"],legend=True)"
      ],
      "execution_count": 110,
      "outputs": [
        {
          "output_type": "execute_result",
          "data": {
            "text/plain": [
              "array([<matplotlib.axes._subplots.AxesSubplot object at 0x7f5065eea790>,\n",
              "       <matplotlib.axes._subplots.AxesSubplot object at 0x7f50683b91d0>],\n",
              "      dtype=object)"
            ]
          },
          "metadata": {},
          "execution_count": 110
        },
        {
          "output_type": "display_data",
          "data": {
            "image/png": "[encoded data removed]",
            "text/plain": [
              "<Figure size 1080x432 with 2 Axes>"
            ]
          },
          "metadata": {
            "needs_background": "light"
          }
        }
      ]
    },
    {
      "cell_type": "code",
      "metadata": {
        "colab": {
          "base_uri": "https://localhost:8080/",
          "height": 0
        },
        "id": "kCFtS3fVyX2o",
        "outputId": "8bcff8a3-bad6-4726-d206-4f444ca71002"
      },
      "source": [
        "train_data.select(\"Label\",\"ASEX\").groupBy(\"ASEX\",\"Label\").count().toPandas() \t"
      ],
      "execution_count": 226,
      "outputs": [
        {
          "output_type": "execute_result",
          "data": {
            "text/html": [
              "<div>\n",
              "<style scoped>\n",
              "    .dataframe tbody tr th:only-of-type {\n",
              "        vertical-align: middle;\n",
              "    }\n",
              "\n",
              "    .dataframe tbody tr th {\n",
              "        vertical-align: top;\n",
              "    }\n",
              "\n",
              "    .dataframe thead th {\n",
              "        text-align: right;\n",
              "    }\n",
              "</style>\n",
              "<table border=\"1\" class=\"dataframe\">\n",
              "  <thead>\n",
              "    <tr style=\"text-align: right;\">\n",
              "      <th></th>\n",
              "      <th>ASEX</th>\n",
              "      <th>Label</th>\n",
              "      <th>count</th>\n",
              "    </tr>\n",
              "  </thead>\n",
              "  <tbody>\n",
              "    <tr>\n",
              "      <th>0</th>\n",
              "      <td>Female</td>\n",
              "      <td>50000+.</td>\n",
              "      <td>1565</td>\n",
              "    </tr>\n",
              "    <tr>\n",
              "      <th>1</th>\n",
              "      <td>Female</td>\n",
              "      <td>- 50000.</td>\n",
              "      <td>57416</td>\n",
              "    </tr>\n",
              "    <tr>\n",
              "      <th>2</th>\n",
              "      <td>Male</td>\n",
              "      <td>- 50000.</td>\n",
              "      <td>48625</td>\n",
              "    </tr>\n",
              "    <tr>\n",
              "      <th>3</th>\n",
              "      <td>Male</td>\n",
              "      <td>50000+.</td>\n",
              "      <td>5596</td>\n",
              "    </tr>\n",
              "  </tbody>\n",
              "</table>\n",
              "</div>"
            ],
            "text/plain": [
              "      ASEX      Label  count\n",
              "0   Female    50000+.   1565\n",
              "1   Female   - 50000.  57416\n",
              "2     Male   - 50000.  48625\n",
              "3     Male    50000+.   5596"
            ]
          },
          "metadata": {},
          "execution_count": 226
        }
      ]
    },
    {
      "cell_type": "markdown",
      "metadata": {
        "id": "41u6SHgty8A6"
      },
      "source": [
        "####Normalized Features\n",
        "Les features aprés la noramlization"
      ]
    },
    {
      "cell_type": "code",
      "metadata": {
        "colab": {
          "base_uri": "https://localhost:8080/"
        },
        "id": "HNOc9LV-O-tW",
        "outputId": "a74f4eb8-a119-4a0f-8e16-1a8e9bfdaddf"
      },
      "source": [
        "train_data.select(Scal_cols).show()"
      ],
      "execution_count": 304,
      "outputs": [
        {
          "output_type": "stream",
          "name": "stdout",
          "text": [
            "+--------------------+--------------------+-----------------+--------------------+------------------+--------------------+-----------------+--------------------+---------------------+--------------------+--------------------+--------------------+--------------------+--------------------+-------------------+---------------------+---------------------+---------------------+---------------------+------------------+------------------+-----------------+--------------------+--------------------+------------+--------------------+--------------------+--------------------+--------------------+\n",
            "| scal_indexed_ADTIND| scal_indexed_ADTOCC|scal_indexed_AHGA|scal_indexed_AMARITL|scal_indexed_ARACE|scal_indexed_AREORGN|scal_indexed_ASEX|scal_indexed_AWKSTAT|scal_indexed_FILESTAT| scal_indexed_HHDFMX| scal_indexed_HHDREL|scal_indexed_MIGMTR1|scal_indexed_MIGMTR3|scal_indexed_MIGMTR4|scal_indexed_MIGSUN|scal_indexed_PEFNTVTY|scal_indexed_PEMNTVTY|scal_indexed_PENATVTY|scal_indexed_PRCITSHP|scal_indexed_SEOTR|scal_indexed_VETYN|scal_indexed_YEAR|           scal_AAGE|        scal_AHRSPAY|scal_CAPGAIN|        scal_CAPLOSS|         scal_DIVVAL|          scal_NOEMP|        scal_WKSWORK|\n",
            "+--------------------+--------------------+-----------------+--------------------+------------------+--------------------+-----------------+--------------------+---------------------+--------------------+--------------------+--------------------+--------------------+--------------------+-------------------+---------------------+---------------------+---------------------+---------------------+------------------+------------------+-----------------+--------------------+--------------------+------------+--------------------+--------------------+--------------------+--------------------+\n",
            "|[0.3137254901960784]|[0.15217391304347...|          [0.125]|[0.16666666666666...|             [1.0]|               [0.0]|            [0.0]|               [0.0]|                [0.2]|[0.05714285714285...|[0.2857142857142857]|               [0.0]|               [0.0]|               [0.0]|              [0.0]| [0.14285714285714...|                [0.0]|                [0.0]|                [0.0]|             [0.5]|             [0.0]|            [0.0]|[0.5333333333333333]|[0.12244897959183...|       [0.0]|               [0.0]|               [0.0]|[0.16666666666666...|               [1.0]|\n",
            "|[0.0392156862745098]|[0.04347826086956...|          [0.125]|[0.16666666666666...|             [0.0]|               [0.0]|            [0.0]|               [0.0]|                [0.2]|[0.05714285714285...|[0.2857142857142857]|               [0.0]|               [0.0]|               [0.0]|              [0.0]|                [0.0]|                [0.0]|                [0.0]|                [0.0]|             [0.0]|             [0.0]|            [0.0]|[0.5222222222222223]|[0.08938775510204...|       [0.0]|               [0.0]|               [0.0]|[0.8333333333333333]|               [1.0]|\n",
            "|[0.39215686274509...|[0.17391304347826...|         [0.1875]|               [0.0]|             [0.0]|               [0.0]|            [0.0]|               [0.0]|                [0.4]|[0.08571428571428...|               [0.0]|               [0.0]|               [0.0]|               [0.0]|              [0.0]|                [0.0]|                [0.0]|                [0.0]|                [0.0]|             [0.0]|             [0.0]|            [0.0]|[0.2888888888888889]|               [0.0]|       [0.0]|               [0.0]|               [0.0]|               [1.0]|               [1.0]|\n",
            "|               [0.0]|               [0.0]|            [0.0]|[0.16666666666666...|             [0.0]|[0.4444444444444444]|            [0.0]|[0.2857142857142857]|                [0.2]|[0.05714285714285...|[0.2857142857142857]|               [0.0]|               [0.0]|               [0.0]|              [0.0]| [0.04761904761904...| [0.04761904761904...|                [0.0]|                [0.0]|             [0.0]|             [0.0]|            [0.0]|[0.4666666666666667]|               [0.0]|       [0.0]|               [0.0]|               [0.0]|               [0.0]|               [0.0]|\n",
            "|[0.47058823529411...|[0.2391304347826087]|           [0.75]|[0.16666666666666...|             [0.0]|               [0.0]|            [1.0]|               [0.0]|                [0.2]|               [0.0]|               [0.0]|               [0.0]|               [0.0]|               [0.0]|              [0.0]|                [0.0]|                [0.0]|                [0.0]|                [0.0]|             [0.0]|             [0.0]|            [0.0]|[0.5222222222222223]|               [0.0]|       [0.0]|               [0.0]|               [0.0]|               [1.0]|               [1.0]|\n",
            "|[0.45098039215686...|[0.2391304347826087]|         [0.5625]|[0.6666666666666666]|             [0.0]|               [0.0]|            [1.0]|[0.14285714285714...|                [0.4]|[0.08571428571428...|               [0.0]|[0.14285714285714...|[0.16666666666666...|[0.14285714285714...|              [0.5]|                [0.0]|                [0.0]|                [0.0]|                [0.0]|             [0.0]|             [0.0]|            [1.0]|[0.3666666666666667]|               [0.0]|       [0.0]|[0.5303819444444444]|[0.1000010000100001]|               [1.0]|               [1.0]|\n",
            "|               [0.0]|               [0.0]|         [0.0625]|               [0.0]|             [0.0]|               [0.0]|            [1.0]|[0.14285714285714...|                [0.0]|[0.02857142857142...|[0.14285714285714...|               [0.0]|               [0.0]|               [0.0]|              [0.0]|                [0.0]|                [0.0]|                [0.0]|                [0.0]|             [0.0]|             [0.5]|            [0.0]|[0.13333333333333...|               [0.0]|       [0.0]|               [0.0]|               [0.0]|               [0.0]|               [0.0]|\n",
            "|[0.19607843137254...|[0.45652173913043...|         [0.8125]|[0.16666666666666...|             [0.0]|               [0.0]|            [0.0]|               [0.0]|                [0.2]|               [0.0]|               [0.0]|               [0.0]|               [0.0]|               [0.0]|              [0.0]|                [0.0]|                [0.0]|                [0.0]|                [0.0]|             [0.0]|             [0.0]|            [0.0]|[0.6444444444444445]|               [0.0]|       [0.0]|               [0.0]|               [0.0]|[0.16666666666666...|               [1.0]|\n",
            "|               [0.0]|               [0.0]|         [0.1875]|               [0.0]|             [0.0]|               [0.0]|            [1.0]|[0.14285714285714...|                [0.0]|[0.14285714285714...|[0.7142857142857142]|[0.14285714285714...|               [1.0]|               [1.0]|              [0.5]|                [0.0]|                [0.0]|                [0.0]|                [0.0]|             [0.0]|             [0.0]|            [1.0]|[0.26666666666666...|               [0.0]|       [0.0]|               [0.0]|               [0.0]|               [0.0]|               [0.0]|\n",
            "|[0.0392156862745098]|[0.8043478260869565]|         [0.8125]|               [0.0]|             [0.0]|               [0.0]|            [1.0]|[0.14285714285714...|                [0.4]|[0.14285714285714...|[0.7142857142857142]|[0.14285714285714...|[0.16666666666666...|[0.14285714285714...|              [1.0]|                [0.0]|                [0.0]|                [0.0]|                [0.0]|             [0.5]|             [0.0]|            [1.0]|[0.3111111111111111]|               [0.0]|       [0.0]|               [0.0]|               [0.0]|               [0.5]|               [1.0]|\n",
            "|[0.11764705882352...|[0.06521739130434...|          [0.125]|               [0.0]|            [0.25]|               [0.0]|            [1.0]|               [0.0]| [0.6000000000000001]|[0.4857142857142857]|[0.42857142857142...|               [0.0]|               [0.0]|               [0.0]|              [0.0]|                [0.0]|                [0.0]|                [0.0]|                [0.0]|             [0.0]|             [0.0]|            [0.0]|[0.32222222222222...|               [0.0]|       [0.0]|               [0.0]|               [0.0]|               [1.0]|               [1.0]|\n",
            "|[0.0196078431372549]|[0.3695652173913043]|            [0.0]|[0.16666666666666...|             [0.0]|               [0.0]|            [0.0]|               [0.0]|                [0.2]|[0.05714285714285...|[0.2857142857142857]|               [0.0]|               [0.0]|               [0.0]|              [0.0]|                [0.0]|                [0.0]|                [0.0]|                [0.0]|             [0.0]|             [0.0]|            [0.0]|[0.4666666666666667]|[0.04591836734693...|       [0.0]|               [0.0]|               [0.0]|[0.6666666666666666]|[0.38461538461538...|\n",
            "|               [0.0]|               [0.0]|         [0.0625]|               [0.0]|             [0.5]|               [0.0]|            [0.0]|[0.14285714285714...|                [0.0]|[0.02857142857142...|[0.14285714285714...|               [0.0]|               [0.0]|               [0.0]|              [0.0]| [0.40476190476190...| [0.42857142857142...| [0.30952380952380...|               [0.25]|             [0.0]|             [0.5]|            [0.0]|[0.12222222222222...|               [0.0]|       [0.0]|               [0.0]|               [0.0]|               [0.0]|               [0.0]|\n",
            "|[0.13725490196078...|[0.02173913043478...|            [0.0]|               [0.5]|             [0.0]|               [0.0]|            [0.0]|               [0.0]|                [0.4]|[0.08571428571428...|               [0.0]|               [0.0]|               [0.0]|               [0.0]|              [0.0]|                [0.0]|                [0.0]|                [0.0]|                [0.0]|             [0.0]|             [0.0]|            [0.0]|[0.7000000000000001]|               [0.0]|       [0.0]|               [0.0]|               [0.0]|               [1.0]|               [1.0]|\n",
            "|[0.4117647058823529]|[0.32608695652173...|           [0.25]|[0.16666666666666...|             [0.0]|[0.1111111111111111]|            [1.0]|[0.14285714285714...|                [0.2]|               [0.0]|               [0.0]|[0.2857142857142857]|[0.16666666666666...|[0.14285714285714...|              [0.5]| [0.02380952380952...| [0.02380952380952...| [0.02380952380952...|               [0.25]|             [0.0]|             [0.0]|            [1.0]|[0.2888888888888889]|               [0.0]|       [0.0]|               [0.0]|               [0.0]|[0.6666666666666666]|               [1.0]|\n",
            "|[0.3333333333333333]|[0.4782608695652174]|            [0.0]|[0.16666666666666...|             [0.0]|               [0.0]|            [0.0]|               [0.0]|                [0.2]|[0.05714285714285...|[0.2857142857142857]|               [0.0]|               [0.0]|               [0.0]|              [0.0]|                [0.0]|                [0.0]|                [0.0]|                [0.0]|             [1.0]|             [0.0]|            [0.0]|[0.2888888888888889]|               [0.0]|       [0.0]|               [0.0]|               [0.0]|[0.16666666666666...|               [1.0]|\n",
            "|               [0.0]|               [0.0]|         [0.0625]|               [0.0]|             [0.0]|               [0.0]|            [1.0]|[0.14285714285714...|                [0.0]|[0.02857142857142...|[0.14285714285714...|               [0.0]|               [0.0]|               [0.0]|              [0.0]|                [0.0]|                [0.0]|                [0.0]|                [0.0]|             [0.0]|             [0.5]|            [0.0]|[0.11111111111111...|               [0.0]|       [0.0]|               [0.0]|               [0.0]|               [0.0]|               [0.0]|\n",
            "|               [0.0]|               [0.0]|         [0.0625]|               [0.0]|             [0.0]|               [0.0]|            [0.0]|[0.14285714285714...|                [0.0]|[0.2571428571428571]|[0.5714285714285714]|[0.14285714285714...|[0.6666666666666666]|[0.42857142857142...|              [0.5]|                [0.0]|                [0.0]|                [0.0]|                [0.0]|             [0.0]|             [0.5]|            [1.0]|[0.14444444444444...|               [0.0]|       [0.0]|               [0.0]|               [0.0]|               [0.0]|               [0.0]|\n",
            "|[0.0196078431372549]|[0.2391304347826087]|            [0.0]|[0.16666666666666...|             [0.0]|               [0.0]|            [1.0]|               [0.0]|                [0.2]|               [0.0]|               [0.0]|               [0.0]|               [0.0]|               [0.0]|              [0.0]|                [0.0]|                [0.0]|                [0.0]|                [0.0]|             [0.0]|             [0.0]|            [0.0]|[0.4666666666666667]|               [0.0]|       [0.0]|               [0.0]|               [0.0]|               [0.5]|               [1.0]|\n",
            "|[0.1568627450980392]|[0.3913043478260869]|         [0.1875]|[0.16666666666666...|             [0.5]|               [0.0]|            [0.0]|               [0.0]|                [0.2]|[0.05714285714285...|[0.2857142857142857]|               [0.0]|               [0.0]|               [0.0]|              [0.0]| [0.14285714285714...| [0.14285714285714...| [0.09523809523809...|                [0.5]|             [0.5]|             [0.0]|            [0.0]|               [0.5]|               [0.0]|       [0.0]|               [0.0]|               [0.0]|               [1.0]|[0.6538461538461539]|\n",
            "+--------------------+--------------------+-----------------+--------------------+------------------+--------------------+-----------------+--------------------+---------------------+--------------------+--------------------+--------------------+--------------------+--------------------+-------------------+---------------------+---------------------+---------------------+---------------------+------------------+------------------+-----------------+--------------------+--------------------+------------+--------------------+--------------------+--------------------+--------------------+\n",
            "only showing top 20 rows\n",
            "\n"
          ]
        }
      ]
    },
    {
      "cell_type": "markdown",
      "metadata": {
        "id": "MeBQqkcWttnc"
      },
      "source": [
        "##Data features label Selection"
      ]
    },
    {
      "cell_type": "code",
      "metadata": {
        "id": "CWeVneWTPepV"
      },
      "source": [
        "train_data=train_data.select('features','indexed_Label')"
      ],
      "execution_count": 118,
      "outputs": []
    },
    {
      "cell_type": "code",
      "metadata": {
        "id": "EyDpf3BiOchD"
      },
      "source": [
        "test_data=test_data.select('features','indexed_Label')"
      ],
      "execution_count": 119,
      "outputs": []
    },
    {
      "cell_type": "code",
      "metadata": {
        "id": "Svji7wmLM8Lj"
      },
      "source": [
        "gc.collect()\n",
        "spark.sparkContext._jvm.System.gc()"
      ],
      "execution_count": 120,
      "outputs": []
    },
    {
      "cell_type": "markdown",
      "metadata": {
        "id": "xTrfxUMki0D7"
      },
      "source": [
        "##Transformed_data saving\n",
        "Nous sauvegardons les features et les labels de train et de test si on a un probléme pour ne pas exécuter tout le pipeline à chaque si la session se bloque"
      ]
    },
    {
      "cell_type": "code",
      "metadata": {
        "id": "O2cVx5gXiA23"
      },
      "source": [
        "!rm -r /content/drive/MyDrive/ens/bdle/dir/DM2/train_data.parquet\n",
        "train_data.write.save(drive_dir+\"/train_data.parquet\")"
      ],
      "execution_count": 308,
      "outputs": []
    },
    {
      "cell_type": "code",
      "metadata": {
        "id": "tD5IhkN2lsl4"
      },
      "source": [
        "!rm -r /content/drive/MyDrive/ens/bdle/dir/DM2/test_data.parquet\n",
        "test_data.write.save(drive_dir+\"/test_data.parquet\")"
      ],
      "execution_count": 309,
      "outputs": []
    },
    {
      "cell_type": "markdown",
      "metadata": {
        "id": "edg3aPUli7zV"
      },
      "source": [
        "##Transformed Data Loading"
      ]
    },
    {
      "cell_type": "code",
      "metadata": {
        "id": "gDxR-9HYjflm"
      },
      "source": [
        "train_data= spark.read.load(drive_dir+\"/train_data.parquet\")\n",
        "test_data=spark.read.load(drive_dir+\"/test_data.parquet\")"
      ],
      "execution_count": 27,
      "outputs": []
    },
    {
      "cell_type": "markdown",
      "metadata": {
        "id": "veMe_NGJByHT"
      },
      "source": [
        "##Data Balancing\n",
        "Pour êtres dans la limite des données demandée nous avons fait un undersampling sur la classes majoritaire dans les données de train et de test"
      ]
    },
    {
      "cell_type": "code",
      "metadata": {
        "id": "PpSQAhdfK0gZ"
      },
      "source": [
        "train_Positive_class = train_data.filter(col(\"indexed_Label\") == 1 )\n",
        "train_Negative_class =train_data.filter(col(\"indexed_Label\") == 0 )\n",
        "test_Positive_class=test_data.filter(col(\"indexed_Label\") == 1 )\n",
        "test_Negative_class=test_data.filter(col(\"indexed_Label\") ==  0 )"
      ],
      "execution_count": 8,
      "outputs": []
    },
    {
      "cell_type": "code",
      "metadata": {
        "colab": {
          "base_uri": "https://localhost:8080/"
        },
        "id": "Z8BXkA0F8LGL",
        "outputId": "c0ca0679-688b-4366-fb7c-e4f5eada17f5"
      },
      "source": [
        "minor_class_train=int(train_Positive_class.count())\n",
        "train_ratio = int(train_Negative_class.count()/minor_class_train)\n",
        "test_ratio=int(test_Negative_class.count()/test_Positive_class.count())\n",
        "print(\"train ratio: {}, test ratio: {}\".format(train_ratio,test_ratio))"
      ],
      "execution_count": 9,
      "outputs": [
        {
          "output_type": "stream",
          "name": "stdout",
          "text": [
            "train ratio: 14, test ratio: 14\n"
          ]
        }
      ]
    },
    {
      "cell_type": "code",
      "metadata": {
        "id": "qH0qjmY1Dc-H"
      },
      "source": [
        "train_data_balanced_by_under_Sampling=train_Positive_class.unionAll(train_Negative_class.sample(False, 1/train_ratio))\n",
        "\n",
        "df=train_Positive_class\n",
        "for x in range(int(train_ratio*0.95)):\n",
        "  df=df.unionAll(train_Positive_class)\n",
        "train_data_balanced_by_over_Sampling=df.unionAll(train_Negative_class)\n",
        "\n",
        "df=train_Positive_class\n",
        "for x in range(int(train_ratio/7)):\n",
        "  df=df.unionAll(train_Positive_class)\n",
        "train_data_by_OverandUnder_Sampling=df.unionAll(train_Negative_class.sample(0.5))"
      ],
      "execution_count": 10,
      "outputs": []
    },
    {
      "cell_type": "code",
      "metadata": {
        "id": "1EnuiFo0_bxT"
      },
      "source": [
        "#Pour qu'il garde pas les données en Ram\n",
        "train_Positive_class,train_Negative_class,test_Positive_class,test_Negative_class=None,None,None,None\n",
        "gc.collect()\n",
        "spark.sparkContext._jvm.System.gc()"
      ],
      "execution_count": 14,
      "outputs": []
    },
    {
      "cell_type": "code",
      "metadata": {
        "colab": {
          "base_uri": "https://localhost:8080/",
          "height": 0
        },
        "id": "2I85Pu6Q1H-g",
        "outputId": "cb49310f-6ebf-480a-e384-fa934bc5b67e"
      },
      "source": [
        "train_data.groupBy(\"indexed_Label\").count().toPandas()"
      ],
      "execution_count": 18,
      "outputs": [
        {
          "output_type": "execute_result",
          "data": {
            "text/html": [
              "<div>\n",
              "<style scoped>\n",
              "    .dataframe tbody tr th:only-of-type {\n",
              "        vertical-align: middle;\n",
              "    }\n",
              "\n",
              "    .dataframe tbody tr th {\n",
              "        vertical-align: top;\n",
              "    }\n",
              "\n",
              "    .dataframe thead th {\n",
              "        text-align: right;\n",
              "    }\n",
              "</style>\n",
              "<table border=\"1\" class=\"dataframe\">\n",
              "  <thead>\n",
              "    <tr style=\"text-align: right;\">\n",
              "      <th></th>\n",
              "      <th>indexed_Label</th>\n",
              "      <th>count</th>\n",
              "    </tr>\n",
              "  </thead>\n",
              "  <tbody>\n",
              "    <tr>\n",
              "      <th>0</th>\n",
              "      <td>1.0</td>\n",
              "      <td>7161</td>\n",
              "    </tr>\n",
              "    <tr>\n",
              "      <th>1</th>\n",
              "      <td>0.0</td>\n",
              "      <td>106041</td>\n",
              "    </tr>\n",
              "  </tbody>\n",
              "</table>\n",
              "</div>"
            ],
            "text/plain": [
              "   indexed_Label   count\n",
              "0            1.0    7161\n",
              "1            0.0  106041"
            ]
          },
          "metadata": {},
          "execution_count": 18
        }
      ]
    },
    {
      "cell_type": "code",
      "metadata": {
        "id": "NreyTP-i0LV1",
        "colab": {
          "base_uri": "https://localhost:8080/",
          "height": 0
        },
        "outputId": "455cb155-4dea-4175-dc0b-9efa3ae70e0a"
      },
      "source": [
        "train_data_balanced_by_under_Sampling.groupBy(\"indexed_Label\").count().toPandas()"
      ],
      "execution_count": 15,
      "outputs": [
        {
          "output_type": "execute_result",
          "data": {
            "text/html": [
              "<div>\n",
              "<style scoped>\n",
              "    .dataframe tbody tr th:only-of-type {\n",
              "        vertical-align: middle;\n",
              "    }\n",
              "\n",
              "    .dataframe tbody tr th {\n",
              "        vertical-align: top;\n",
              "    }\n",
              "\n",
              "    .dataframe thead th {\n",
              "        text-align: right;\n",
              "    }\n",
              "</style>\n",
              "<table border=\"1\" class=\"dataframe\">\n",
              "  <thead>\n",
              "    <tr style=\"text-align: right;\">\n",
              "      <th></th>\n",
              "      <th>indexed_Label</th>\n",
              "      <th>count</th>\n",
              "    </tr>\n",
              "  </thead>\n",
              "  <tbody>\n",
              "    <tr>\n",
              "      <th>0</th>\n",
              "      <td>1.0</td>\n",
              "      <td>7161</td>\n",
              "    </tr>\n",
              "    <tr>\n",
              "      <th>1</th>\n",
              "      <td>0.0</td>\n",
              "      <td>7468</td>\n",
              "    </tr>\n",
              "  </tbody>\n",
              "</table>\n",
              "</div>"
            ],
            "text/plain": [
              "   indexed_Label  count\n",
              "0            1.0   7161\n",
              "1            0.0   7468"
            ]
          },
          "metadata": {},
          "execution_count": 15
        }
      ]
    },
    {
      "cell_type": "code",
      "metadata": {
        "colab": {
          "base_uri": "https://localhost:8080/",
          "height": 0
        },
        "id": "87XrBR9kiaLy",
        "outputId": "ca67b5f1-369d-48ee-b54a-efcbc01b32ca"
      },
      "source": [
        "test_data.groupBy(\"indexed_Label\").count().toPandas()"
      ],
      "execution_count": 19,
      "outputs": [
        {
          "output_type": "execute_result",
          "data": {
            "text/html": [
              "<div>\n",
              "<style scoped>\n",
              "    .dataframe tbody tr th:only-of-type {\n",
              "        vertical-align: middle;\n",
              "    }\n",
              "\n",
              "    .dataframe tbody tr th {\n",
              "        vertical-align: top;\n",
              "    }\n",
              "\n",
              "    .dataframe thead th {\n",
              "        text-align: right;\n",
              "    }\n",
              "</style>\n",
              "<table border=\"1\" class=\"dataframe\">\n",
              "  <thead>\n",
              "    <tr style=\"text-align: right;\">\n",
              "      <th></th>\n",
              "      <th>indexed_Label</th>\n",
              "      <th>count</th>\n",
              "    </tr>\n",
              "  </thead>\n",
              "  <tbody>\n",
              "    <tr>\n",
              "      <th>0</th>\n",
              "      <td>1.0</td>\n",
              "      <td>3656</td>\n",
              "    </tr>\n",
              "    <tr>\n",
              "      <th>1</th>\n",
              "      <td>0.0</td>\n",
              "      <td>53367</td>\n",
              "    </tr>\n",
              "  </tbody>\n",
              "</table>\n",
              "</div>"
            ],
            "text/plain": [
              "   indexed_Label  count\n",
              "0            1.0   3656\n",
              "1            0.0  53367"
            ]
          },
          "metadata": {},
          "execution_count": 19
        }
      ]
    },
    {
      "cell_type": "code",
      "metadata": {
        "colab": {
          "base_uri": "https://localhost:8080/",
          "height": 0
        },
        "id": "YzVE313fDwyZ",
        "outputId": "183827bb-db57-42b4-84b5-531998bffb6d"
      },
      "source": [
        "train_data_by_OverandUnder_Sampling.groupBy(\"indexed_Label\").count().toPandas()"
      ],
      "execution_count": 16,
      "outputs": [
        {
          "output_type": "execute_result",
          "data": {
            "text/html": [
              "<div>\n",
              "<style scoped>\n",
              "    .dataframe tbody tr th:only-of-type {\n",
              "        vertical-align: middle;\n",
              "    }\n",
              "\n",
              "    .dataframe tbody tr th {\n",
              "        vertical-align: top;\n",
              "    }\n",
              "\n",
              "    .dataframe thead th {\n",
              "        text-align: right;\n",
              "    }\n",
              "</style>\n",
              "<table border=\"1\" class=\"dataframe\">\n",
              "  <thead>\n",
              "    <tr style=\"text-align: right;\">\n",
              "      <th></th>\n",
              "      <th>indexed_Label</th>\n",
              "      <th>count</th>\n",
              "    </tr>\n",
              "  </thead>\n",
              "  <tbody>\n",
              "    <tr>\n",
              "      <th>0</th>\n",
              "      <td>1.0</td>\n",
              "      <td>21483</td>\n",
              "    </tr>\n",
              "    <tr>\n",
              "      <th>1</th>\n",
              "      <td>0.0</td>\n",
              "      <td>53037</td>\n",
              "    </tr>\n",
              "  </tbody>\n",
              "</table>\n",
              "</div>"
            ],
            "text/plain": [
              "   indexed_Label  count\n",
              "0            1.0  21483\n",
              "1            0.0  53037"
            ]
          },
          "metadata": {},
          "execution_count": 16
        }
      ]
    },
    {
      "cell_type": "code",
      "metadata": {
        "colab": {
          "base_uri": "https://localhost:8080/",
          "height": 0
        },
        "id": "-UGVnx70y3iU",
        "outputId": "6b6c8449-56fd-4335-ab73-ce4dd20cf9c8"
      },
      "source": [
        "train_data_balanced_by_over_Sampling.groupBy(\"indexed_Label\").count().toPandas()"
      ],
      "execution_count": 17,
      "outputs": [
        {
          "output_type": "execute_result",
          "data": {
            "text/html": [
              "<div>\n",
              "<style scoped>\n",
              "    .dataframe tbody tr th:only-of-type {\n",
              "        vertical-align: middle;\n",
              "    }\n",
              "\n",
              "    .dataframe tbody tr th {\n",
              "        vertical-align: top;\n",
              "    }\n",
              "\n",
              "    .dataframe thead th {\n",
              "        text-align: right;\n",
              "    }\n",
              "</style>\n",
              "<table border=\"1\" class=\"dataframe\">\n",
              "  <thead>\n",
              "    <tr style=\"text-align: right;\">\n",
              "      <th></th>\n",
              "      <th>indexed_Label</th>\n",
              "      <th>count</th>\n",
              "    </tr>\n",
              "  </thead>\n",
              "  <tbody>\n",
              "    <tr>\n",
              "      <th>0</th>\n",
              "      <td>1.0</td>\n",
              "      <td>100254</td>\n",
              "    </tr>\n",
              "    <tr>\n",
              "      <th>1</th>\n",
              "      <td>0.0</td>\n",
              "      <td>106041</td>\n",
              "    </tr>\n",
              "  </tbody>\n",
              "</table>\n",
              "</div>"
            ],
            "text/plain": [
              "   indexed_Label   count\n",
              "0            1.0  100254\n",
              "1            0.0  106041"
            ]
          },
          "metadata": {},
          "execution_count": 17
        }
      ]
    },
    {
      "cell_type": "markdown",
      "metadata": {
        "id": "WfE18OVb0MhN"
      },
      "source": [
        "#Training And Testing Models"
      ]
    },
    {
      "cell_type": "code",
      "metadata": {
        "id": "j8iIv1BzKZ9D"
      },
      "source": [
        "from pyspark.ml.classification import RandomForestClassifier ,LinearSVC,GBTClassifier\n",
        "from  pyspark.ml.evaluation import BinaryClassificationEvaluator,MulticlassClassificationEvaluator"
      ],
      "execution_count": 20,
      "outputs": []
    },
    {
      "cell_type": "code",
      "metadata": {
        "id": "j96LiU8_cxdM"
      },
      "source": [
        "def predict_(model,data_test,col_features=\"features\"):\n",
        "  return model.transform(\n",
        "      data_test.select(col_features,\"indexed_Label\").withColumnRenamed(\"indexed_Label\",\"label\")\n",
        "      ).select(\"label\",\"prediction\")\n"
      ],
      "execution_count": 21,
      "outputs": []
    },
    {
      "cell_type": "code",
      "metadata": {
        "id": "YF7hFXr1KhD9"
      },
      "source": [
        "def eval_Model(predictions):\n",
        "  #Preppate test data\n",
        "  mytrics=[\"accuracy\",\"weightedPrecision\",\"weightedRecall\",\"fMeasureByLabel\"]\n",
        "  evaluator = MulticlassClassificationEvaluator(metricName='fMeasureByLabel', metricLabel=1, beta=1.0) \n",
        "  evalulations={}\n",
        "  for mytric in mytrics:\n",
        "    evaluator.setMetricName(mytric)\n",
        "    evalulations[mytric]=evaluator.evaluate(predictions)\n",
        "  return evalulations"
      ],
      "execution_count": 22,
      "outputs": []
    },
    {
      "cell_type": "markdown",
      "metadata": {
        "id": "9oOaBJgawg3D"
      },
      "source": [
        "##Train and Test with unbalanced data\n",
        "\n"
      ]
    },
    {
      "cell_type": "markdown",
      "metadata": {
        "id": "FpTu1EVMw5f1"
      },
      "source": [
        "###Random Forest Perforamances\n"
      ]
    },
    {
      "cell_type": "code",
      "metadata": {
        "colab": {
          "base_uri": "https://localhost:8080/"
        },
        "id": "bEdHw_hnw5f4",
        "outputId": "2f5c1bb9-f03f-4e5b-f661-66e58a31d755"
      },
      "source": [
        "eval_Model(predict_(RandomForestClassifier(featuresCol=\"features\",labelCol=\"indexed_Label\").fit(train_data),test_data))"
      ],
      "execution_count": 347,
      "outputs": [
        {
          "output_type": "execute_result",
          "data": {
            "text/plain": [
              "{'accuracy': 0.9379548603195202,\n",
              " 'fMeasureByLabel': 0.07333682556312206,\n",
              " 'weightedPrecision': 0.933422613100567,\n",
              " 'weightedRecall': 0.9379548603195201}"
            ]
          },
          "metadata": {},
          "execution_count": 347
        }
      ]
    },
    {
      "cell_type": "markdown",
      "metadata": {
        "id": "z6nrkm7ww5f7"
      },
      "source": [
        "###SVM Model Performances"
      ]
    },
    {
      "cell_type": "code",
      "metadata": {
        "colab": {
          "base_uri": "https://localhost:8080/"
        },
        "id": "acbB8Mxlw5f-",
        "outputId": "1a7bd7bb-a8a6-4631-f2fc-733ff2717b67"
      },
      "source": [
        "eval_Model(predict_(LinearSVC(featuresCol=\"features\",labelCol=\"indexed_Label\").fit(train_data),test_data))"
      ],
      "execution_count": 323,
      "outputs": [
        {
          "output_type": "execute_result",
          "data": {
            "text/plain": [
              "{'accuracy': 0.9392350455079529,\n",
              " 'fMeasureByLabel': 0.11267605633802817,\n",
              " 'weightedPrecision': 0.9358924415548626,\n",
              " 'weightedRecall': 0.9392350455079529}"
            ]
          },
          "metadata": {},
          "execution_count": 323
        }
      ]
    },
    {
      "cell_type": "markdown",
      "metadata": {
        "id": "P11nPZ6_xLpa"
      },
      "source": [
        "###Gradient Boost Model Performances"
      ]
    },
    {
      "cell_type": "code",
      "metadata": {
        "colab": {
          "base_uri": "https://localhost:8080/"
        },
        "id": "wAVcKvN2xLpi",
        "outputId": "6eb500d3-79b4-4e6a-c911-8a9a25866ec5"
      },
      "source": [
        "eval_Model(predict_(GBTClassifier(featuresCol=\"features\",labelCol=\"indexed_Label\").fit(train_data),test_data))"
      ],
      "execution_count": 324,
      "outputs": [
        {
          "output_type": "execute_result",
          "data": {
            "text/plain": [
              "{'accuracy': 0.9469161566385493,\n",
              " 'fMeasureByLabel': 0.43133571294382866,\n",
              " 'weightedPrecision': 0.9376368195223541,\n",
              " 'weightedRecall': 0.9469161566385493}"
            ]
          },
          "metadata": {},
          "execution_count": 324
        }
      ]
    },
    {
      "cell_type": "markdown",
      "metadata": {
        "id": "w9FXvnrDdeDC"
      },
      "source": [
        "##Train and Test with balanced data\n"
      ]
    },
    {
      "cell_type": "code",
      "metadata": {
        "id": "rVPciYbU4miY"
      },
      "source": [
        "gc.collect()\n",
        "spark.sparkContext._jvm.System.gc()"
      ],
      "execution_count": 325,
      "outputs": []
    },
    {
      "cell_type": "markdown",
      "metadata": {
        "id": "9Bcfz0gD970e"
      },
      "source": [
        "###By Under Sampling"
      ]
    },
    {
      "cell_type": "markdown",
      "metadata": {
        "id": "2BrripYxgnFH"
      },
      "source": [
        "\n",
        "\n",
        "####Random Forest Perforamances\n"
      ]
    },
    {
      "cell_type": "code",
      "metadata": {
        "colab": {
          "base_uri": "https://localhost:8080/"
        },
        "id": "vSRY755Cggsk",
        "outputId": "e26b98f8-2a6e-43e0-93ec-8074baaf358e"
      },
      "source": [
        "eval_Model(predict_(RandomForestClassifier(featuresCol=\"features\",labelCol=\"indexed_Label\").fit(train_data_balanced_by_under_Sampling),test_data))"
      ],
      "execution_count": 326,
      "outputs": [
        {
          "output_type": "execute_result",
          "data": {
            "text/plain": [
              "{'accuracy': 0.7718990582747313,\n",
              " 'fMeasureByLabel': 0.3355300127713921,\n",
              " 'weightedPrecision': 0.9406420115367441,\n",
              " 'weightedRecall': 0.7718990582747313}"
            ]
          },
          "metadata": {},
          "execution_count": 326
        }
      ]
    },
    {
      "cell_type": "markdown",
      "metadata": {
        "id": "JrS5V2fGgwJw"
      },
      "source": [
        "####SVM Model Performances"
      ]
    },
    {
      "cell_type": "code",
      "metadata": {
        "colab": {
          "base_uri": "https://localhost:8080/"
        },
        "id": "uCcB2HwSg0xT",
        "outputId": "54b7e73c-6cfb-404d-e8c2-f25a99fad817"
      },
      "source": [
        "eval_Model(predict_(LinearSVC(featuresCol=\"features\",labelCol=\"indexed_Label\").fit(train_data_balanced_by_under_Sampling),test_data))"
      ],
      "execution_count": 327,
      "outputs": [
        {
          "output_type": "execute_result",
          "data": {
            "text/plain": [
              "{'accuracy': 0.8079546849516862,\n",
              " 'fMeasureByLabel': 0.364459404561546,\n",
              " 'weightedPrecision': 0.9396008579675283,\n",
              " 'weightedRecall': 0.8079546849516862}"
            ]
          },
          "metadata": {},
          "execution_count": 327
        }
      ]
    },
    {
      "cell_type": "markdown",
      "metadata": {
        "id": "yUpBGldFxmds"
      },
      "source": [
        "####Gradient Boost Model Performances"
      ]
    },
    {
      "cell_type": "code",
      "metadata": {
        "colab": {
          "base_uri": "https://localhost:8080/"
        },
        "id": "37fboMaKxmdv",
        "outputId": "b2f8db7d-3ff0-4ecc-9ff6-223503cfd934"
      },
      "source": [
        "eval_Model(predict_(GBTClassifier(featuresCol=\"features\",labelCol=\"indexed_Label\").fit(train_data_balanced_by_under_Sampling),test_data))"
      ],
      "execution_count": 328,
      "outputs": [
        {
          "output_type": "execute_result",
          "data": {
            "text/plain": [
              "{'accuracy': 0.8376795328200901,\n",
              " 'fMeasureByLabel': 0.407122726108122,\n",
              " 'weightedPrecision': 0.9430012545547024,\n",
              " 'weightedRecall': 0.8376795328200901}"
            ]
          },
          "metadata": {},
          "execution_count": 328
        }
      ]
    },
    {
      "cell_type": "markdown",
      "metadata": {
        "id": "Cu07o4bq-m3P"
      },
      "source": [
        "###By Over Sampling"
      ]
    },
    {
      "cell_type": "markdown",
      "metadata": {
        "id": "qdVbUT_F-m3T"
      },
      "source": [
        "\n",
        "\n",
        "####Random Forest Perforamances\n"
      ]
    },
    {
      "cell_type": "code",
      "metadata": {
        "colab": {
          "base_uri": "https://localhost:8080/"
        },
        "id": "bjyMs5BL-m3X",
        "outputId": "c3261999-5cdf-4ace-fc84-0a61c64c10fe"
      },
      "source": [
        "eval_Model(predict_(RandomForestClassifier(featuresCol=\"features\",labelCol=\"indexed_Label\").fit(train_data_balanced_by_over_Sampling),test_data))"
      ],
      "execution_count": 26,
      "outputs": [
        {
          "output_type": "execute_result",
          "data": {
            "text/plain": [
              "{'accuracy': 0.7681987969766585,\n",
              " 'fMeasureByLabel': 0.33423995164702325,\n",
              " 'weightedPrecision': 0.941270315185325,\n",
              " 'weightedRecall': 0.7681987969766585}"
            ]
          },
          "metadata": {},
          "execution_count": 26
        }
      ]
    },
    {
      "cell_type": "markdown",
      "metadata": {
        "id": "1-2sY62i-m3a"
      },
      "source": [
        "####SVM Model Performances"
      ]
    },
    {
      "cell_type": "code",
      "metadata": {
        "colab": {
          "base_uri": "https://localhost:8080/"
        },
        "id": "fP6d_6V1-m3d",
        "outputId": "08d89905-c07c-417b-b4c3-e469be7e0c07"
      },
      "source": [
        "eval_Model(predict_(LinearSVC(featuresCol=\"features\",labelCol=\"indexed_Label\").fit(train_data_balanced_by_over_Sampling),test_data))"
      ],
      "execution_count": 27,
      "outputs": [
        {
          "output_type": "execute_result",
          "data": {
            "text/plain": [
              "{'accuracy': 0.8073233607491714,\n",
              " 'fMeasureByLabel': 0.3631093849631905,\n",
              " 'weightedPrecision': 0.9393637916424984,\n",
              " 'weightedRecall': 0.8073233607491714}"
            ]
          },
          "metadata": {},
          "execution_count": 27
        }
      ]
    },
    {
      "cell_type": "markdown",
      "metadata": {
        "id": "0Eds3_Qw-m3f"
      },
      "source": [
        "####Gradient Boost Model Performances"
      ]
    },
    {
      "cell_type": "code",
      "metadata": {
        "colab": {
          "base_uri": "https://localhost:8080/"
        },
        "id": "WFM2th9k-m3h",
        "outputId": "606f7f5b-d461-49b7-d623-dd0f3fd771bc"
      },
      "source": [
        "eval_Model(predict_(GBTClassifier(maxBins=27,maxDepth=8,featuresCol=\"features\",labelCol=\"indexed_Label\").fit(train_data_balanced_by_over_Sampling),test_data))"
      ],
      "execution_count": 28,
      "outputs": [
        {
          "output_type": "execute_result",
          "data": {
            "text/plain": [
              "{'accuracy': 0.8621959560177472,\n",
              " 'fMeasureByLabel': 0.440711743772242,\n",
              " 'weightedPrecision': 0.9437432268750665,\n",
              " 'weightedRecall': 0.8621959560177472}"
            ]
          },
          "metadata": {},
          "execution_count": 28
        }
      ]
    },
    {
      "cell_type": "markdown",
      "metadata": {
        "id": "3k8y-7tYyBpn"
      },
      "source": [
        "###By Under Sampling for majoritary Class and Over Sampling for minority Class"
      ]
    },
    {
      "cell_type": "markdown",
      "metadata": {
        "id": "OqBS9IhHyBpq"
      },
      "source": [
        "\n",
        "\n",
        "####Random Forest Perforamances\n"
      ]
    },
    {
      "cell_type": "code",
      "metadata": {
        "colab": {
          "base_uri": "https://localhost:8080/"
        },
        "id": "E5LfvkCqyBps",
        "outputId": "acba506a-7844-490d-8e4f-f583a60e67c2"
      },
      "source": [
        "eval_Model(predict_(RandomForestClassifier(featuresCol=\"features\",labelCol=\"indexed_Label\").fit(train_data_by_OverandUnder_Sampling),test_data))"
      ],
      "execution_count": 373,
      "outputs": [
        {
          "output_type": "execute_result",
          "data": {
            "text/plain": [
              "{'accuracy': 0.9138768567069429,\n",
              " 'fMeasureByLabel': 0.494493051981472,\n",
              " 'weightedPrecision': 0.9382747188999763,\n",
              " 'weightedRecall': 0.9138768567069429}"
            ]
          },
          "metadata": {},
          "execution_count": 373
        }
      ]
    },
    {
      "cell_type": "markdown",
      "metadata": {
        "id": "mdrfmPHPyBpu"
      },
      "source": [
        "####SVM Model Performances"
      ]
    },
    {
      "cell_type": "code",
      "metadata": {
        "colab": {
          "base_uri": "https://localhost:8080/"
        },
        "id": "8ZD7HhZDyBpy",
        "outputId": "bdbed1de-45e5-4a96-db41-cbbceb25cfff"
      },
      "source": [
        "eval_Model(predict_(LinearSVC(featuresCol=\"features\",labelCol=\"indexed_Label\").fit(train_data_by_OverandUnder_Sampling),test_data))"
      ],
      "execution_count": 81,
      "outputs": [
        {
          "output_type": "execute_result",
          "data": {
            "text/plain": [
              "{'accuracy': 0.8940427546779369,\n",
              " 'fMeasureByLabel': 0.4578248384781048,\n",
              " 'weightedPrecision': 0.9368507113766582,\n",
              " 'weightedRecall': 0.8940427546779369}"
            ]
          },
          "metadata": {},
          "execution_count": 81
        }
      ]
    },
    {
      "cell_type": "markdown",
      "metadata": {
        "id": "V6nlDZfoyBpz"
      },
      "source": [
        "####Gradient Boost Model Performances"
      ]
    },
    {
      "cell_type": "code",
      "metadata": {
        "id": "leqE184B9hiJ"
      },
      "source": [
        "model=GBTClassifier(maxBins=25,maxDepth=7,labelCol=\"indexed_Label\").fit(train_data_by_OverandUnder_Sampling)"
      ],
      "execution_count": 51,
      "outputs": []
    },
    {
      "cell_type": "markdown",
      "metadata": {
        "id": "CsAplesPFsNf"
      },
      "source": [
        "####Importances des features avec le meilleur classfieur "
      ]
    },
    {
      "cell_type": "code",
      "metadata": {
        "colab": {
          "base_uri": "https://localhost:8080/",
          "height": 0
        },
        "id": "0hioI2X_Aesh",
        "outputId": "d5c8c918-2d83-4f90-df28-99b749bd6c8e"
      },
      "source": [
        "fig=plt.figure(figsize=(20,8))\n",
        "plt.bar(string_columns+continous_columns,[val for val in model.featureImportances])\n",
        "plt.xticks(rotation=60)\n",
        "plt.show()"
      ],
      "execution_count": 52,
      "outputs": [
        {
          "output_type": "display_data",
          "data": {
            "image/png": "[encoded data removed]",
            "text/plain": [
              "<Figure size 1440x576 with 1 Axes>"
            ]
          },
          "metadata": {
            "needs_background": "light"
          }
        }
      ]
    },
    {
      "cell_type": "code",
      "metadata": {
        "colab": {
          "base_uri": "https://localhost:8080/"
        },
        "id": "khooS3RCEbGD",
        "outputId": "421e6be3-44f7-4fa7-f2ce-ec21b1b114a7"
      },
      "source": [
        "eval_Model(predict_(model,test_data))"
      ],
      "execution_count": 53,
      "outputs": [
        {
          "output_type": "execute_result",
          "data": {
            "text/plain": [
              "{'accuracy': 0.9148413797941182,\n",
              " 'fMeasureByLabel': 0.5223293330710211,\n",
              " 'weightedPrecision': 0.9434874466004213,\n",
              " 'weightedRecall': 0.9148413797941182}"
            ]
          },
          "metadata": {},
          "execution_count": 53
        }
      ]
    },
    {
      "cell_type": "markdown",
      "metadata": {
        "id": "T2JsqpZxdwuR"
      },
      "source": [
        "##Train and test With features selection "
      ]
    },
    {
      "cell_type": "code",
      "metadata": {
        "id": "33_DkMoxOA1M"
      },
      "source": [
        "gc.collect()\n",
        "spark.sparkContext._jvm.System.gc()"
      ],
      "execution_count": 378,
      "outputs": []
    },
    {
      "cell_type": "markdown",
      "metadata": {
        "id": "IdIFrD5dh-4o"
      },
      "source": [
        "###Features selection with Threshold Variance\n",
        "Aprés les expériences nous avons remarqué que avoir les toutes les propriétées dans les données nous aide a mieux faire la classification."
      ]
    },
    {
      "cell_type": "code",
      "metadata": {
        "id": "KbPVJ8yWmdAn"
      },
      "source": [
        "from pyspark.ml.feature import VarianceThresholdSelector\n",
        "\n",
        "selector = VarianceThresholdSelector(varianceThreshold=0.5, outputCol=\"selectedFeatures\").fit(train_data_by_OverandUnder_Sampling)\n",
        "\n"
      ],
      "execution_count": 33,
      "outputs": []
    },
    {
      "cell_type": "code",
      "metadata": {
        "colab": {
          "base_uri": "https://localhost:8080/"
        },
        "id": "MfAJ1Eqfq0aN",
        "outputId": "7639f502-ea63-4f75-9eac-40c318d743e5"
      },
      "source": [
        "cleaned_data_train = selector.transform(train_data_by_OverandUnder_Sampling).\\\n",
        "select(\"selectedFeatures\",\"indexed_label\").\\\n",
        "withColumnRenamed(\"selectedFeatures\",\"features\")\n",
        "\n",
        "print(\"Output: Features with variance lower than %f are removed.\" %\n",
        "      selector.getVarianceThreshold())\n",
        "cleaned_data_train.select(\"features\",\"indexed_label\").show(5)"
      ],
      "execution_count": 34,
      "outputs": [
        {
          "output_type": "stream",
          "name": "stdout",
          "text": [
            "Output: Features with variance lower than 0.500000 are removed.\n",
            "+--------------------+-------------+\n",
            "|            features|indexed_label|\n",
            "+--------------------+-------------+\n",
            "|(9,[0,4,8],[1.0,1...|          1.0|\n",
            "|(9,[0,3,4,6,7,8],...|          1.0|\n",
            "|(9,[0,4,8],[1.0,1...|          1.0|\n",
            "|(9,[0,3,4],[3.0,2...|          1.0|\n",
            "|(9,[0,1,4,8],[5.0...|          1.0|\n",
            "+--------------------+-------------+\n",
            "only showing top 5 rows\n",
            "\n"
          ]
        }
      ]
    },
    {
      "cell_type": "code",
      "metadata": {
        "colab": {
          "base_uri": "https://localhost:8080/"
        },
        "id": "dCaEj55NaaYk",
        "outputId": "367856ae-d642-40d1-8267-e95d60fa2c10"
      },
      "source": [
        "cleaned_data_test = selector.transform(test_data).\\\n",
        "select(\"selectedFeatures\",\"indexed_label\").\\\n",
        "withColumnRenamed(\"selectedFeatures\",\"features\")\n",
        "\n",
        "print(\"Output: Features with variance lower than %f are removed.\" %\n",
        "      selector.getVarianceThreshold())\n",
        "cleaned_data_test.select(\"features\",\"indexed_label\").show(5)"
      ],
      "execution_count": 35,
      "outputs": [
        {
          "output_type": "stream",
          "name": "stdout",
          "text": [
            "Output: Features with variance lower than 0.500000 are removed.\n",
            "+--------------------+-------------+\n",
            "|            features|indexed_label|\n",
            "+--------------------+-------------+\n",
            "|(9,[0,4,8],[1.0,1...|          0.0|\n",
            "|(9,[0,2,4,8],[2.0...|          0.0|\n",
            "|(9,[0,3,5,6,7],[1...|          0.0|\n",
            "|(9,[3,4,6,7,8],[1...|          0.0|\n",
            "|(9,[1,3,4,6,7,8],...|          0.0|\n",
            "+--------------------+-------------+\n",
            "only showing top 5 rows\n",
            "\n"
          ]
        }
      ]
    },
    {
      "cell_type": "markdown",
      "metadata": {
        "id": "y8IoEleO1T8e"
      },
      "source": [
        "###Random Froest Performances"
      ]
    },
    {
      "cell_type": "code",
      "metadata": {
        "colab": {
          "base_uri": "https://localhost:8080/"
        },
        "id": "SjUL2nQPht5Q",
        "outputId": "ff2b6d94-48da-4c57-f0fd-d84a0e4d6927"
      },
      "source": [
        "eval_Model(predict_(RandomForestClassifier(labelCol=\"indexed_label\").fit(cleaned_data_train),cleaned_data_test))"
      ],
      "execution_count": 36,
      "outputs": [
        {
          "output_type": "execute_result",
          "data": {
            "text/plain": [
              "{'accuracy': 0.8835031478526209,\n",
              " 'fMeasureByLabel': 0.33350055182100935,\n",
              " 'weightedPrecision': 0.9159709540095986,\n",
              " 'weightedRecall': 0.8835031478526209}"
            ]
          },
          "metadata": {},
          "execution_count": 36
        }
      ]
    },
    {
      "cell_type": "markdown",
      "metadata": {
        "id": "PmNwQCrj1VTY"
      },
      "source": [
        "###Svm Performances"
      ]
    },
    {
      "cell_type": "code",
      "metadata": {
        "colab": {
          "base_uri": "https://localhost:8080/"
        },
        "id": "dLaU0BhNiSoX",
        "outputId": "a1309899-a157-41fa-948c-5dc6d03bd299"
      },
      "source": [
        "eval_Model(predict_(LinearSVC(labelCol=\"indexed_label\").fit(cleaned_data_train),cleaned_data_test))"
      ],
      "execution_count": 37,
      "outputs": [
        {
          "output_type": "execute_result",
          "data": {
            "text/plain": [
              "{'accuracy': 0.8430633253248689,\n",
              " 'fMeasureByLabel': 0.2892542292113414,\n",
              " 'weightedPrecision': 0.9132397378545524,\n",
              " 'weightedRecall': 0.8430633253248688}"
            ]
          },
          "metadata": {},
          "execution_count": 37
        }
      ]
    },
    {
      "cell_type": "markdown",
      "metadata": {
        "id": "VQj4pAV4yLsz"
      },
      "source": [
        "###Gradient Boost Model Performances"
      ]
    },
    {
      "cell_type": "code",
      "metadata": {
        "colab": {
          "base_uri": "https://localhost:8080/"
        },
        "id": "TE79PRYeyLs5",
        "outputId": "ea40274e-a8c4-4602-9260-3a896da4d060"
      },
      "source": [
        "eval_Model(predict_(GBTClassifier(labelCol=\"indexed_label\").fit(cleaned_data_train),cleaned_data_test))"
      ],
      "execution_count": 38,
      "outputs": [
        {
          "output_type": "execute_result",
          "data": {
            "text/plain": [
              "{'accuracy': 0.8444311944303176,\n",
              " 'fMeasureByLabel': 0.3333583828060419,\n",
              " 'weightedPrecision': 0.9222110992378715,\n",
              " 'weightedRecall': 0.8444311944303176}"
            ]
          },
          "metadata": {},
          "execution_count": 38
        }
      ]
    },
    {
      "cell_type": "markdown",
      "metadata": {
        "id": "IuGJOcLN2c7L"
      },
      "source": [
        "##Grid Search Cross Validation on SGT boost with Over and Under simpled data "
      ]
    },
    {
      "cell_type": "code",
      "metadata": {
        "id": "wJOXQwXg2brM"
      },
      "source": [
        "from pyspark.ml.tuning import CrossValidator, ParamGridBuilder\n",
        "def gridSearch_GBTClassifier():\n",
        "  gbt=GBTClassifier()\n",
        "  paramGrid = ParamGridBuilder().addGrid(gbt.maxBins,[25,27])\\\n",
        "  .addGrid(gbt.maxDepth,[6,7])\\\n",
        "  .build()\n",
        "  crossval = CrossValidator(estimator=gbt,\n",
        "                          estimatorParamMaps=paramGrid,\n",
        "                          evaluator=MulticlassClassificationEvaluator(),\n",
        "                          numFolds=4,parallelism=8)\n",
        "\n",
        "  return crossval"
      ],
      "execution_count": 62,
      "outputs": []
    },
    {
      "cell_type": "code",
      "metadata": {
        "id": "7KsE5JaP-YZy"
      },
      "source": [
        "data=train_data_by_OverandUnder_Sampling.withColumnRenamed(\"indexed_Label\",\"label\")"
      ],
      "execution_count": 64,
      "outputs": []
    },
    {
      "cell_type": "code",
      "metadata": {
        "id": "BamBveibBxm7"
      },
      "source": [
        "train_data_balanced_by_over_Sampling,train_data_balanced_by_under_Sampling,train_data_balanced_by_over_Sampling=None,None,None\n",
        "gc.collect()\n",
        "spark.sparkContext._jvm.System.gc()"
      ],
      "execution_count": 70,
      "outputs": []
    },
    {
      "cell_type": "code",
      "metadata": {
        "id": "L_OXG7J4-83b"
      },
      "source": [
        "best_model=gridSearch_GBTClassifier().fit(data)"
      ],
      "execution_count": 73,
      "outputs": []
    },
    {
      "cell_type": "code",
      "metadata": {
        "colab": {
          "base_uri": "https://localhost:8080/",
          "height": 0
        },
        "id": "0fZj4i9YuKJ7",
        "outputId": "15a9daf7-cba3-4bdd-da54-97b953848570"
      },
      "source": [
        "fig=plt.figure(figsize=(20,8))\n",
        "plt.bar(string_columns+continous_columns,[val for val in best_model.bestModel.featureImportances])\n",
        "plt.xticks(rotation=60)\n",
        "plt.show()"
      ],
      "execution_count": 75,
      "outputs": [
        {
          "output_type": "display_data",
          "data": {
            "image/png": "[encoded data removed]",
            "text/plain": [
              "<Figure size 1440x576 with 1 Axes>"
            ]
          },
          "metadata": {
            "needs_background": "light"
          }
        }
      ]
    },
    {
      "cell_type": "code",
      "metadata": {
        "colab": {
          "base_uri": "https://localhost:8080/"
        },
        "id": "PgHvj1PN4Qh5",
        "outputId": "568e63d4-cc9a-4b2d-e20f-8198ec739763"
      },
      "source": [
        "eval_Model(predict_(best_model,test_data))"
      ],
      "execution_count": 76,
      "outputs": [
        {
          "output_type": "execute_result",
          "data": {
            "text/plain": [
              "{'accuracy': 0.9132455325044281,\n",
              " 'fMeasureByLabel': 0.5199417758369723,\n",
              " 'weightedPrecision': 0.9435669504370989,\n",
              " 'weightedRecall': 0.913245532504428}"
            ]
          },
          "metadata": {},
          "execution_count": 76
        }
      ]
    }
  ]
}