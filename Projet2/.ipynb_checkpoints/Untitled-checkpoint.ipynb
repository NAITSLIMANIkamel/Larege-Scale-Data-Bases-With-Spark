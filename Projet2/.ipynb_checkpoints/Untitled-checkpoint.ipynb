{
 "cells": [
  {
   "cell_type": "code",
   "execution_count": 22,
   "id": "46ff0be2-e5de-41ed-ae53-2e51c8399b53",
   "metadata": {},
   "outputs": [],
   "source": [
    "attributslines=open(\"pseudo_shema.txt\",\"r\").readlines()\n",
    "types_lines=open(\"attributs_types.txt\",\"r\").readlines()\n",
    "map_type={\"nominal\" :\"string\",\"continuous\": \"float\"}"
   ]
  },
  {
   "cell_type": "code",
   "execution_count": 24,
   "id": "7076fc9d-84d5-4e35-aa2c-e32c2908c508",
   "metadata": {},
   "outputs": [],
   "source": [
    "attributs=[l.split(\"\\t\")[-1].split(\"\\n\")[0] for l in attributslines]\n",
    "types=[l.split(\" \")[-1].split(\"\\n\")[0] for l in types_lines]"
   ]
  },
  {
   "cell_type": "code",
   "execution_count": 25,
   "id": "399b2f1b-bd76-4299-aedd-7aac85ad4d71",
   "metadata": {},
   "outputs": [
    {
     "name": "stdout",
     "output_type": "stream",
     "text": [
      "AAGE string , \n",
      "ACLSWKR string , \n",
      "ADTIND string , \n",
      "ADTOCC string , \n",
      "AHGA string , \n",
      "AHRSPAY string , \n",
      "AHSCOL string , \n",
      "AMARITL string , \n",
      "AMJIND string , \n",
      "AMJOCC string , \n",
      "ARACE string , \n",
      "AREORGN string , \n",
      "ASEX string , \n",
      "AUNMEM string , \n",
      "AUNTYPE string , \n",
      "AWKSTAT string , \n",
      "CAPGAIN string , \n",
      "CAPLOSS string , \n",
      "DIVVAL string , \n",
      "FILESTAT string , \n",
      "GRINREG string , \n",
      "GRINST string , \n",
      "HHDFMX string , \n",
      "HHDREL string , \n",
      "MIGMTR1 string , \n",
      "MIGMTR3 string , \n",
      "MIGMTR4 string , \n",
      "MIGSAME string , \n",
      "MIGSUN string , \n",
      "NOEMP string , \n",
      "PARENT string , \n",
      "PEFNTVTY string , \n",
      "PEMNTVTY string , \n",
      "PENATVTY string , \n",
      "PRCITSHP string , \n",
      "SEOTR string , \n",
      "VETQVA string , \n",
      "VETYN string , \n",
      "WKSWORK string , \n",
      "YAR\n"
     ]
    }
   ],
   "source": [
    "print(\" string , \\n\".join(attributs))"
   ]
  },
  {
   "cell_type": "code",
   "execution_count": 28,
   "id": "6dfe0fb1-268b-4ba1-a7a9-2e44b2d8fb38",
   "metadata": {},
   "outputs": [
    {
     "name": "stdout",
     "output_type": "stream",
     "text": [
      "{'AAGE': 'continuous', 'ACLSWKR': 'nominal', 'ADTIND': 'nominal', 'ADTOCC': 'nominal', 'AHGA': 'nominal', 'AHRSPAY': 'continuous', 'AHSCOL': 'nominal', 'AMARITL': 'nominal', 'AMJIND': 'nominal', 'AMJOCC': 'nominal', 'ARACE': 'nominal', 'AREORGN': 'nominal', 'ASEX': 'nominal', 'AUNMEM': 'nominal', 'AUNTYPE': 'nominal', 'AWKSTAT': 'nominal', 'CAPGAIN': 'continuous', 'CAPLOSS': 'continuous', 'DIVVAL': 'continuous', 'FILESTAT': 'nominal', 'GRINREG': 'nominal', 'GRINST': 'nominal', 'HHDFMX': 'nominal', 'HHDREL': 'nominal', 'MIGMTR1': 'nominal', 'MIGMTR3': 'nominal', 'MIGMTR4': 'nominal', 'MIGSAME': 'nominal', 'MIGSUN': 'nominal', 'NOEMP': 'continuous', 'PARENT': 'nominal', 'PEFNTVTY': 'nominal', 'PEMNTVTY': 'nominal', 'PENATVTY': 'nominal', 'PRCITSHP': 'nominal', 'SEOTR': 'nominal', 'VETQVA': 'nominal', 'VETYN': 'nominal', 'WKSWORK': 'continuous', 'YAR': 'nominal'}\n"
     ]
    }
   ],
   "source": [
    "print(dict(zip(attributs,types)))"
   ]
  }
 ],
 "metadata": {
  "kernelspec": {
   "display_name": "Python 3 (ipykernel)",
   "language": "python",
   "name": "python3"
  },
  "language_info": {
   "codemirror_mode": {
    "name": "ipython",
    "version": 3
   },
   "file_extension": ".py",
   "mimetype": "text/x-python",
   "name": "python",
   "nbconvert_exporter": "python",
   "pygments_lexer": "ipython3",
   "version": "3.9.2"
  }
 },
 "nbformat": 4,
 "nbformat_minor": 5
}
