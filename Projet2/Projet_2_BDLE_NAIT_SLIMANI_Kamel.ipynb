{
  "nbformat": 4,
  "nbformat_minor": 0,
  "metadata": {
    "application/vnd.databricks.v1+notebook": {
      "dashboards": [],
      "language": "python",
      "notebookMetadata": {
        "pythonIndentUnit": 2
      },
      "notebookName": "Spark-RDD-2021_solutions",
      "notebookOrigID": 2832703719774903,
      "widgets": {}
    },
    "colab": {
      "name": "Projet_SparkML_Fake_jobs.ipynb",
      "provenance": [],
      "collapsed_sections": [
        "levNDESpS1hT",
        "xaVx1sukv9s8",
        "QMjfZstYdTEb",
        "veMe_NGJByHT",
        "WfE18OVb0MhN",
        "T2JsqpZxdwuR",
        "IuGJOcLN2c7L"
      ],
      "toc_visible": true
    },
    "kernelspec": {
      "display_name": "Python 3",
      "name": "python3"
    },
    "language_info": {
      "name": "python"
    }
  },
  "cells": [
    {
      "cell_type": "markdown",
      "metadata": {
        "id": "kCaImCHx_2a_"
      },
      "source": [
        "* Master DAC, BDLE, 2021 \n",
        "* Author:Kamel NAIT SLIMANI\n",
        "* Affiliation: Faculté des Sciences - Sorbonne Université\n",
        "* Email: kamel.nait_slimani@etu.sorbonne-universite.fr\n"
      ]
    },
    {
      "cell_type": "markdown",
      "metadata": {
        "id": "levNDESpS1hT"
      },
      "source": [
        "#Spark Session Préparation"
      ]
    },
    {
      "cell_type": "markdown",
      "metadata": {
        "id": "4pZBsez9S1hT"
      },
      "source": [
        "Vérifier que des ressources de calcul sont allouées à votre notebook est connecté (cf RAM  de disque indiqués en haut à droite) . Sinon cliquer sur le bouton connecter pour obtenir des ressources.\n",
        "\n",
        "\n"
      ]
    },
    {
      "cell_type": "markdown",
      "metadata": {
        "id": "CEjerqQ6Ink6"
      },
      "source": [
        "Pour accéder directement aux fichiers stockées sur votre google drive. Renseigner le code d'authentification lorsqu'il est demandé"
      ]
    },
    {
      "cell_type": "code",
      "metadata": {
        "colab": {
          "base_uri": "https://localhost:8080/"
        },
        "id": "g7Dv93rsImuM",
        "outputId": "bcd5729c-b9ea-4e8e-beed-a1612fbf1eeb"
      },
      "source": [
        "import os\n",
        "from google.colab import drive\n",
        "drive.mount(\"/content/drive\", force_remount=True)\n",
        "\n",
        "drive_dir = \"/content/drive/MyDrive/ens/bdle/dir/DM2\"\n",
        "os.makedirs(drive_dir, exist_ok=True)\n",
        "os.listdir(drive_dir)\n"
      ],
      "execution_count": 1,
      "outputs": [
        {
          "output_type": "stream",
          "name": "stdout",
          "text": [
            "Mounted at /content/drive\n"
          ]
        },
        {
          "output_type": "execute_result",
          "data": {
            "text/plain": [
              "['census-income.data.gz',\n",
              " 'census-income.data',\n",
              " 'census-income.test.gz',\n",
              " 'census-income.test',\n",
              " 'train_data.parquet',\n",
              " 'test_data.parquet']"
            ]
          },
          "metadata": {},
          "execution_count": 1
        }
      ]
    },
    {
      "cell_type": "markdown",
      "metadata": {
        "id": "7v9EXMl8aPZC"
      },
      "source": [
        "Installer pyspark et findspark :\n"
      ]
    },
    {
      "cell_type": "code",
      "metadata": {
        "id": "3zlwNHy1S8C2"
      },
      "source": [
        "!pip install -q pyspark\n",
        "!pip install -q findspark"
      ],
      "execution_count": 2,
      "outputs": []
    },
    {
      "cell_type": "markdown",
      "metadata": {
        "id": "PnEmOd_zOUo0"
      },
      "source": [
        "Démarrer la session spark"
      ]
    },
    {
      "cell_type": "code",
      "metadata": {
        "id": "W0ADH0J-VW7i"
      },
      "source": [
        "import os\n",
        "# !find /usr/local -name \"pyspark\"\n",
        "os.environ[\"SPARK_HOME\"] = \"/usr/local/lib/python3.7/dist-packages/pyspark\"\n",
        "os.environ[\"JAVA_HOME\"] = \"/usr\""
      ],
      "execution_count": 3,
      "outputs": []
    },
    {
      "cell_type": "code",
      "metadata": {
        "colab": {
          "base_uri": "https://localhost:8080/"
        },
        "id": "Q_WxQZB7TaUC",
        "outputId": "ada03b4d-8462-40a8-83de-255810f0b2f9"
      },
      "source": [
        "# Principaux import\n",
        "import findspark\n",
        "from pyspark.sql import SparkSession \n",
        "from pyspark import SparkConf  \n",
        "\n",
        "# pour les dataframe et udf\n",
        "from pyspark.sql import *  \n",
        "from pyspark.sql.functions import *\n",
        "from pyspark.sql.types import *\n",
        "from datetime import *\n",
        "\n",
        "# pour le chronomètre\n",
        "import time\n",
        "\n",
        "# initialise les variables d'environnement pour spark\n",
        "findspark.init()\n",
        "\n",
        "# Démarrage session spark \n",
        "# --------------------------\n",
        "def demarrer_spark():\n",
        "  local = \"local[*]\"\n",
        "  appName = \"TP\"\n",
        "  configLocale = SparkConf().setAppName(appName).setMaster(local).\\\n",
        "  set(\"spark.executor.memory\", \"15G\").\\\n",
        "  set(\"spark.driver.memory\",\"25G\").\\\n",
        "  set(\"spark.sql.catalogImplementation\",\"in-memory\")\n",
        "  \n",
        "  spark = SparkSession.builder.config(conf = configLocale).getOrCreate()\n",
        "  sc = spark.sparkContext\n",
        "  sc.setLogLevel(\"ERROR\")\n",
        "  \n",
        "  spark.conf.set(\"spark.sql.autoBroadcastJoinThreshold\",\"-1\")\n",
        "\n",
        "  # On ajuste l'environnement d'exécution des requêtes à la taille du cluster (4 coeurs)\n",
        "  spark.conf.set(\"spark.sql.shuffle.partitions\",\"4\")    \n",
        "  print(\"session démarrée, son id est \", sc.applicationId)\n",
        "  return spark\n",
        "spark = demarrer_spark()"
      ],
      "execution_count": 4,
      "outputs": [
        {
          "output_type": "stream",
          "name": "stdout",
          "text": [
            "session démarrée, son id est  local-1636599436622\n"
          ]
        }
      ]
    },
    {
      "cell_type": "code",
      "metadata": {
        "colab": {
          "base_uri": "https://localhost:8080/"
        },
        "id": "fj9pUgrmGpLe",
        "outputId": "1dd8d124-f4f5-4f89-f4df-9725615081af"
      },
      "source": [
        "# on utilise 8 partitions au lieu de 200 par défaut\n",
        "spark.conf.set(\"spark.sql.shuffle.partitions\", \"8\")\n",
        "print(\"Nombre de partitions utilisées : \", spark.conf.get(\"spark.sql.shuffle.partitions\"))"
      ],
      "execution_count": 5,
      "outputs": [
        {
          "output_type": "stream",
          "name": "stdout",
          "text": [
            "Nombre de partitions utilisées :  8\n"
          ]
        }
      ]
    },
    {
      "cell_type": "code",
      "metadata": {
        "id": "Xg0C-SKHTg9v"
      },
      "source": [
        "import pandas as pd\n",
        "from google.colab import data_table\n",
        "# Alternative to Databricks display function.\n",
        "pd.options.display.max_colwidth = 400\n",
        "\n",
        "def display(df, n=10000):\n",
        "  return data_table.DataTable(df.limit(n).toPandas(), include_index=False, num_rows_per_page=10)\n"
      ],
      "execution_count": 6,
      "outputs": []
    },
    {
      "cell_type": "markdown",
      "metadata": {
        "id": "xaVx1sukv9s8"
      },
      "source": [
        "#Data Downloading\n"
      ]
    },
    {
      "cell_type": "code",
      "metadata": {
        "colab": {
          "base_uri": "https://localhost:8080/"
        },
        "id": "ilsuCcjSv8b7",
        "outputId": "e61149de-dfab-454f-ef44-346280f19e67"
      },
      "source": [
        "import os\n",
        "from urllib import request\n",
        "import gzip\n",
        "\n",
        "url_train =  \"http://kdd.ics.uci.edu/databases/census-income/census-income.data.gz\"\n",
        "url_test =  \"http://kdd.ics.uci.edu/databases/census-income/census-income.test.gz\"\n",
        "# temp = \"/temp\"\n",
        "local_archive_train = drive_dir +\"/census-income.data.gz\"\n",
        "local_archive_test = drive_dir +\"/census-income.test.gz\"\n",
        "local_train=drive_dir +\"/census-income.data\"\n",
        "local_test= drive_dir +\"/census-income.test\"\n",
        "os.makedirs(drive_dir,exist_ok=True)\n",
        "\n",
        "\n",
        "if(os.path.isfile(local_train)):\n",
        "  print(\"train data already downloaded\")\n",
        "else:\n",
        "  print(\"downloading from URL: \", url_train, \"save in : \", local_archive_train)\n",
        "  request.urlretrieve(url_train, local_archive_train)\n",
        "  os.chdir(drive_dir)\n",
        "  print(drive_dir,local_archive_train)\n",
        "  with  gzip.open(local_archive_train,\"rb\") as gz_f:\n",
        "    with open(local_train,\"wb\") as f:\n",
        "      f.write(gz_f.read())\n",
        "\n",
        "\n",
        "if(os.path.isfile(local_archive_test)):\n",
        "  print(\"test data already downloaded\")\n",
        "else:\n",
        "  print(\"downloading from URL: \", url_test, \"save in : \", local_archive_test)\n",
        "  request.urlretrieve(url_test, local_archive_test)\n",
        "  os.chdir(drive_dir)\n",
        "  with  gzip.open(local_archive_test,\"rb\") as gz_f:\n",
        "    with open(local_test,\"wb\") as f:\n",
        "      f.write(gz_f.read())\n",
        "\n",
        "#liste des fichier des données \n",
        "os.listdir(drive_dir)"
      ],
      "execution_count": 7,
      "outputs": [
        {
          "output_type": "stream",
          "name": "stdout",
          "text": [
            "train data already downloaded\n",
            "test data already downloaded\n"
          ]
        },
        {
          "output_type": "execute_result",
          "data": {
            "text/plain": [
              "['census-income.data.gz',\n",
              " 'census-income.data',\n",
              " 'census-income.test.gz',\n",
              " 'census-income.test',\n",
              " 'best_clf.pkl']"
            ]
          },
          "metadata": {},
          "execution_count": 7
        }
      ]
    },
    {
      "cell_type": "markdown",
      "metadata": {
        "id": "QMjfZstYdTEb"
      },
      "source": [
        "#Data Processing"
      ]
    },
    {
      "cell_type": "markdown",
      "metadata": {
        "id": "R5ZJa3iU_2bh"
      },
      "source": [
        "##Data Loading and cleanning\n",
        "Dans cette section nous avons chercher une base de donées et nous avons crée le dataFrame suivant le schema des données puis enlever des features avec une trés grande varience et ceux qui sont présque pareil pour toutes les instances"
      ]
    },
    {
      "cell_type": "code",
      "metadata": {
        "id": "3dBDkD4ADMqi"
      },
      "source": [
        "schema=\"\"\"AAGE float , \n",
        "ACLSWKR string , \n",
        "ADTIND string , \n",
        "ADTOCC string , \n",
        "AHGA string , \n",
        "AHRSPAY float , \n",
        "AHSCOL string , \n",
        "AMARITL string , \n",
        "AMJIND string , \n",
        "AMJOCC string , \n",
        "ARACE string , \n",
        "AREORGN string , \n",
        "ASEX string , \n",
        "AUNMEM string , \n",
        "AUNTYPE string , \n",
        "AWKSTAT string , \n",
        "CAPGAIN float , \n",
        "CAPLOSS float , \n",
        "DIVVAL float , \n",
        "FILESTAT string , \n",
        "GRINREG string , \n",
        "GRINST string , \n",
        "HHDFMX string , \n",
        "HHDREL string , \n",
        "MARSUPWT float,\n",
        "MIGMTR1 string , \n",
        "MIGMTR3 string , \n",
        "MIGMTR4 string , \n",
        "MIGSAME string , \n",
        "MIGSUN string , \n",
        "NOEMP float , \n",
        "PARENT string , \n",
        "PEFNTVTY string , \n",
        "PEMNTVTY string , \n",
        "PENATVTY string , \n",
        "PRCITSHP string , \n",
        "SEOTR string , \n",
        "VETQVA string , \n",
        "VETYN string , \n",
        "WKSWORK float , \n",
        "YEAR string ,\n",
        "Label string\"\"\"\n"
      ],
      "execution_count": 14,
      "outputs": []
    },
    {
      "cell_type": "code",
      "metadata": {
        "id": "4jZSuMPaMU5h"
      },
      "source": [
        "train_dataset = spark.read.csv(path = drive_dir + \"/census-income.data\",schema=schema).persist()\n",
        "test_dataset=spark.read.csv(path = drive_dir + \"/census-income.test\",schema=schema).persist()"
      ],
      "execution_count": 39,
      "outputs": []
    },
    {
      "cell_type": "code",
      "metadata": {
        "id": "ywzEKgh0xLrs"
      },
      "source": [
        "distinct_values=train_dataset.agg(*(countDistinct(col(c)).alias(c) for c in test_dataset.columns))"
      ],
      "execution_count": 16,
      "outputs": []
    },
    {
      "cell_type": "code",
      "metadata": {
        "colab": {
          "base_uri": "https://localhost:8080/"
        },
        "id": "BfUwkRTs9JKd",
        "outputId": "098199c3-6dee-4ecd-99cf-29c5dc9abfd0"
      },
      "source": [
        "distinct_values.show()"
      ],
      "execution_count": 17,
      "outputs": [
        {
          "output_type": "stream",
          "name": "stdout",
          "text": [
            "+----+-------+------+------+----+-------+------+-------+------+------+-----+-------+----+------+-------+-------+-------+-------+------+--------+-------+------+------+------+--------+-------+-------+-------+-------+------+-----+------+--------+--------+--------+--------+-----+------+-----+-------+----+-----+\n",
            "|AAGE|ACLSWKR|ADTIND|ADTOCC|AHGA|AHRSPAY|AHSCOL|AMARITL|AMJIND|AMJOCC|ARACE|AREORGN|ASEX|AUNMEM|AUNTYPE|AWKSTAT|CAPGAIN|CAPLOSS|DIVVAL|FILESTAT|GRINREG|GRINST|HHDFMX|HHDREL|MARSUPWT|MIGMTR1|MIGMTR3|MIGMTR4|MIGSAME|MIGSUN|NOEMP|PARENT|PEFNTVTY|PEMNTVTY|PENATVTY|PRCITSHP|SEOTR|VETQVA|VETYN|WKSWORK|YEAR|Label|\n",
            "+----+-------+------+------+----+-------+------+-------+------+------+-----+-------+----+------+-------+-------+-------+-------+------+--------+-------+------+------+------+--------+-------+-------+-------+-------+------+-----+------+--------+--------+--------+--------+-----+------+-----+-------+----+-----+\n",
            "|  91|      9|    52|    47|  17|   1240|     3|      7|    24|    15|    5|     10|   2|     3|      6|      8|    132|    113|  1478|       6|      6|    51|    38|     8|   99800|     10|      9|     10|      3|     4|    7|     5|      43|      43|      43|       5|    3|     3|    3|     53|   2|    2|\n",
            "+----+-------+------+------+----+-------+------+-------+------+------+-----+-------+----+------+-------+-------+-------+-------+------+--------+-------+------+------+------+--------+-------+-------+-------+-------+------+-----+------+--------+--------+--------+--------+-----+------+-----+-------+----+-----+\n",
            "\n"
          ]
        }
      ]
    },
    {
      "cell_type": "code",
      "metadata": {
        "colab": {
          "base_uri": "https://localhost:8080/",
          "height": 662
        },
        "id": "D6PhqPd6tm5t",
        "outputId": "099ac912-3831-40fe-f9d8-784607a582cc"
      },
      "source": [
        "import matplotlib.pyplot as plt\n",
        "fig=plt.figure(figsize=(120,120))\n",
        "\n",
        "histogram = distinct_values.rdd.histogram(1)\n",
        "\n",
        "# Loading the Computed Histogram into a Pandas Dataframe for plotting\n",
        "print()\n",
        "pd.DataFrame(\n",
        "    [list(histogram[0][0])],columns=distinct_values.columns\n",
        ").plot(kind='bar',figsize=(10,10))\n",
        "plt.legend( bbox_to_anchor=(1.3, 1.05),\n",
        "          ncol=3, fancybox=True, shadow=True)"
      ],
      "execution_count": 18,
      "outputs": [
        {
          "output_type": "stream",
          "name": "stdout",
          "text": [
            "\n"
          ]
        },
        {
          "output_type": "execute_result",
          "data": {
            "text/plain": [
              "<matplotlib.legend.Legend at 0x7fd31b9395d0>"
            ]
          },
          "metadata": {},
          "execution_count": 18
        },
        {
          "output_type": "display_data",
          "data": {
            "text/plain": [
              "<Figure size 8640x8640 with 0 Axes>"
            ]
          },
          "metadata": {}
        },
        {
          "output_type": "display_data",
          "data": {
            "image/png": "[encoded data removed]",
            "text/plain": [
              "<Figure size 720x720 with 1 Axes>"
            ]
          },
          "metadata": {
            "needs_background": "light"
          }
        }
      ]
    },
    {
      "cell_type": "code",
      "metadata": {
        "id": "HkI8hBh-xFM5"
      },
      "source": [
        "cols_to_remove=[\"YEAR\",\"MIGSAME\"]"
      ],
      "execution_count": 40,
      "outputs": []
    },
    {
      "cell_type": "code",
      "metadata": {
        "id": "5suieJAjhJu6"
      },
      "source": [
        "test_dataset=test_dataset.drop(*cols_to_remove)\n",
        "train_dataset=train_dataset.drop(*cols_to_remove)\n",
        "test_dataset=test_dataset.dropDuplicates()\n",
        "train_dataset=train_dataset.dropDuplicates()"
      ],
      "execution_count": 41,
      "outputs": []
    },
    {
      "cell_type": "markdown",
      "metadata": {
        "id": "BkXWXj85mrxv"
      },
      "source": [
        "##Data Transformation\n",
        "Dans cette section nous avons éffectué des transformation:\n"
      ]
    },
    {
      "cell_type": "code",
      "metadata": {
        "id": "y-Gq024xI2WU",
        "colab": {
          "base_uri": "https://localhost:8080/"
        },
        "outputId": "e97cb263-87f3-4ebd-b7ba-a242a653104c"
      },
      "source": [
        "from pyspark.ml.feature import MinMaxScaler,VectorIndexer , VectorAssembler,StringIndexer \n",
        "from pyspark.ml import Pipeline\n",
        "import gc\n",
        "gc.collect()"
      ],
      "execution_count": 19,
      "outputs": [
        {
          "output_type": "execute_result",
          "data": {
            "text/plain": [
              "480"
            ]
          },
          "metadata": {},
          "execution_count": 19
        }
      ]
    },
    {
      "cell_type": "code",
      "metadata": {
        "id": "MMd5s1AwdlYK"
      },
      "source": [
        "def normalizer(col):\n",
        "  assembler=VectorAssembler(inputCols=[col],outputCol=\"vect_\"+col)\n",
        "  scaler=MinMaxScaler(inputCol=\"vect_\"+col,outputCol=\"scal_\"+col)\n",
        "  return Pipeline(stages=[assembler, scaler])"
      ],
      "execution_count": 22,
      "outputs": []
    },
    {
      "cell_type": "code",
      "metadata": {
        "id": "CGJAr_wlMcWj"
      },
      "source": [
        "string_columns=[ c.split(\" \")[0]  for c in  schema.split('\\n') if c.split(\" \")[1]==\"string\" and c.split(\" \")[0] not in cols_to_remove ]\n",
        "continous_columns=[ c.split(\" \")[0]  for c in  schema.split('\\n') if c.split(\" \")[1]==\"float\" and c.split(\" \")[0] not in cols_to_remove ]\n",
        "label = 'Label'\n",
        "features_col= string_columns\n",
        "features_col.remove(label)\n",
        "index_prefix = 'indexed_'\n",
        "\n",
        "label_string_indexer= StringIndexer(inputCol=label, outputCol=index_prefix+label)\n",
        "\n",
        "features_str_col= list(map(lambda c:index_prefix+c, features_col))\n",
        "\n",
        "features_string_indexer= StringIndexer(inputCols=features_col,outputCols=features_str_col)\n",
        "\n",
        "#Columns values normalizers to have values between 0-1\n",
        "features_normalizers = [ normalizer(c) for c in (features_string_indexer.getOutputCols()+continous_columns) ]\n",
        "\n",
        "Scal_cols=[ \"scal_\"+c for c in (features_string_indexer.getOutputCols()+continous_columns)]\n",
        "\n",
        "vec_assembler= VectorAssembler(inputCols=Scal_cols,outputCol= 'vector')\n",
        "vec_indexer= VectorIndexer(inputCol='vector',outputCol='features', maxCategories=15)\n",
        "\n"
      ],
      "execution_count": 23,
      "outputs": []
    },
    {
      "cell_type": "code",
      "metadata": {
        "id": "spSmcAfoO-6y"
      },
      "source": [
        "from pyspark.ml import Pipeline\n",
        "stages = [label_string_indexer,features_string_indexer]\n",
        "stages.extend(features_normalizers)\n",
        "stages.extend([vec_assembler,vec_indexer])\n",
        "pipeline = Pipeline(stages = stages)"
      ],
      "execution_count": 24,
      "outputs": []
    },
    {
      "cell_type": "code",
      "metadata": {
        "id": "An-vDwJ-mfxQ"
      },
      "source": [
        "train_data= pipeline.fit(train_dataset).transform(train_dataset)"
      ],
      "execution_count": 42,
      "outputs": []
    },
    {
      "cell_type": "code",
      "metadata": {
        "id": "NjWlTvdoFEgz"
      },
      "source": [
        "test_data= pipeline.fit(test_dataset).transform(test_dataset)"
      ],
      "execution_count": 45,
      "outputs": []
    },
    {
      "cell_type": "code",
      "metadata": {
        "id": "WIOKpyO1F9xz"
      },
      "source": [
        "train_dataset,test_dataset=None,None\n",
        "gc.collect()\n",
        "spark.sparkContext._jvm.System.gc()"
      ],
      "execution_count": 77,
      "outputs": []
    },
    {
      "cell_type": "markdown",
      "metadata": {
        "id": "TOaJHj_Xnq3s"
      },
      "source": [
        "##Data Statistics and dashboards"
      ]
    },
    {
      "cell_type": "code",
      "metadata": {
        "id": "P-Ndi6UeFx_C"
      },
      "source": [
        "description=train_data.select(features_string_indexer.getOutputCols()+continous_columns).describe()"
      ],
      "execution_count": null,
      "outputs": []
    },
    {
      "cell_type": "code",
      "metadata": {
        "colab": {
          "base_uri": "https://localhost:8080/",
          "height": 226
        },
        "id": "rgzOgSF-hIC3",
        "outputId": "7ab3ffd3-06f7-44a0-8cfb-695af5ac89be"
      },
      "source": [
        "description.toPandas()"
      ],
      "execution_count": null,
      "outputs": [
        {
          "data": {
            "text/html": [
              "<div>\n",
              "<style scoped>\n",
              "    .dataframe tbody tr th:only-of-type {\n",
              "        vertical-align: middle;\n",
              "    }\n",
              "\n",
              "    .dataframe tbody tr th {\n",
              "        vertical-align: top;\n",
              "    }\n",
              "\n",
              "    .dataframe thead th {\n",
              "        text-align: right;\n",
              "    }\n",
              "</style>\n",
              "<table border=\"1\" class=\"dataframe\">\n",
              "  <thead>\n",
              "    <tr style=\"text-align: right;\">\n",
              "      <th></th>\n",
              "      <th>summary</th>\n",
              "      <th>indexed_ACLSWKR</th>\n",
              "      <th>indexed_ADTIND</th>\n",
              "      <th>indexed_ADTOCC</th>\n",
              "      <th>indexed_AHGA</th>\n",
              "      <th>indexed_AHSCOL</th>\n",
              "      <th>indexed_AMARITL</th>\n",
              "      <th>indexed_AMJIND</th>\n",
              "      <th>indexed_AMJOCC</th>\n",
              "      <th>indexed_ARACE</th>\n",
              "      <th>indexed_AREORGN</th>\n",
              "      <th>indexed_ASEX</th>\n",
              "      <th>indexed_AUNMEM</th>\n",
              "      <th>indexed_AUNTYPE</th>\n",
              "      <th>indexed_AWKSTAT</th>\n",
              "      <th>indexed_FILESTAT</th>\n",
              "      <th>indexed_GRINREG</th>\n",
              "      <th>indexed_GRINST</th>\n",
              "      <th>indexed_HHDFMX</th>\n",
              "      <th>indexed_HHDREL</th>\n",
              "      <th>indexed_MIGMTR1</th>\n",
              "      <th>indexed_MIGMTR3</th>\n",
              "      <th>indexed_MIGMTR4</th>\n",
              "      <th>indexed_MIGSUN</th>\n",
              "      <th>indexed_PARENT</th>\n",
              "      <th>indexed_PEFNTVTY</th>\n",
              "      <th>indexed_PEMNTVTY</th>\n",
              "      <th>indexed_PENATVTY</th>\n",
              "      <th>indexed_PRCITSHP</th>\n",
              "      <th>indexed_SEOTR</th>\n",
              "      <th>indexed_VETQVA</th>\n",
              "      <th>indexed_VETYN</th>\n",
              "      <th>AAGE</th>\n",
              "      <th>AHRSPAY</th>\n",
              "      <th>CAPGAIN</th>\n",
              "      <th>CAPLOSS</th>\n",
              "      <th>DIVVAL</th>\n",
              "      <th>NOEMP</th>\n",
              "      <th>WKSWORK</th>\n",
              "    </tr>\n",
              "  </thead>\n",
              "  <tbody>\n",
              "    <tr>\n",
              "      <th>0</th>\n",
              "      <td>count</td>\n",
              "      <td>25432</td>\n",
              "      <td>25432</td>\n",
              "      <td>25432</td>\n",
              "      <td>25432</td>\n",
              "      <td>25432</td>\n",
              "      <td>25432</td>\n",
              "      <td>25432</td>\n",
              "      <td>25432</td>\n",
              "      <td>25432</td>\n",
              "      <td>25432</td>\n",
              "      <td>25432</td>\n",
              "      <td>25432</td>\n",
              "      <td>25432</td>\n",
              "      <td>25432</td>\n",
              "      <td>25432</td>\n",
              "      <td>25432</td>\n",
              "      <td>25432</td>\n",
              "      <td>25432</td>\n",
              "      <td>25432</td>\n",
              "      <td>25432</td>\n",
              "      <td>25432</td>\n",
              "      <td>25432</td>\n",
              "      <td>25432</td>\n",
              "      <td>25432</td>\n",
              "      <td>25432</td>\n",
              "      <td>25432</td>\n",
              "      <td>25432</td>\n",
              "      <td>25432</td>\n",
              "      <td>25432</td>\n",
              "      <td>25432</td>\n",
              "      <td>25432</td>\n",
              "      <td>25432</td>\n",
              "      <td>25432</td>\n",
              "      <td>25432</td>\n",
              "      <td>25432</td>\n",
              "      <td>25432</td>\n",
              "      <td>25432</td>\n",
              "      <td>25432</td>\n",
              "    </tr>\n",
              "    <tr>\n",
              "      <th>1</th>\n",
              "      <td>mean</td>\n",
              "      <td>1.1380150990877635</td>\n",
              "      <td>8.30795847750865</td>\n",
              "      <td>8.749252909720038</td>\n",
              "      <td>3.2892418999685438</td>\n",
              "      <td>0.05166719094054734</td>\n",
              "      <td>0.6620399496697075</td>\n",
              "      <td>4.947389116074238</td>\n",
              "      <td>2.5783658383139354</td>\n",
              "      <td>0.2129207297892419</td>\n",
              "      <td>0.29360648002516515</td>\n",
              "      <td>0.3850660585089651</td>\n",
              "      <td>0.1593661528782636</td>\n",
              "      <td>0.05221767851525637</td>\n",
              "      <td>0.6859861591695502</td>\n",
              "      <td>0.9639823843976093</td>\n",
              "      <td>0.154451085246933</td>\n",
              "      <td>0.9616231519345706</td>\n",
              "      <td>1.6117096571248821</td>\n",
              "      <td>0.8661528782636049</td>\n",
              "      <td>0.6114737338785782</td>\n",
              "      <td>0.6309374016986474</td>\n",
              "      <td>0.640059767222397</td>\n",
              "      <td>0.5747483485372759</td>\n",
              "      <td>0.19939446366782007</td>\n",
              "      <td>1.5736080528468073</td>\n",
              "      <td>1.5487967914438503</td>\n",
              "      <td>0.9652799622522806</td>\n",
              "      <td>0.17914438502673796</td>\n",
              "      <td>0.1520918527838943</td>\n",
              "      <td>0.016160742371815036</td>\n",
              "      <td>0.14969329977980497</td>\n",
              "      <td>40.2864108210129</td>\n",
              "      <td>68.73273828247876</td>\n",
              "      <td>2424.4072428436616</td>\n",
              "      <td>108.66974677571564</td>\n",
              "      <td>824.9200613400441</td>\n",
              "      <td>2.8988282478766907</td>\n",
              "      <td>34.6493787354514</td>\n",
              "    </tr>\n",
              "    <tr>\n",
              "      <th>2</th>\n",
              "      <td>stddev</td>\n",
              "      <td>1.577978081125802</td>\n",
              "      <td>10.555314023322502</td>\n",
              "      <td>10.89407640436182</td>\n",
              "      <td>3.5117353078153917</td>\n",
              "      <td>0.2851707816454263</td>\n",
              "      <td>1.022614670306638</td>\n",
              "      <td>5.335666121973219</td>\n",
              "      <td>2.9476566684425745</td>\n",
              "      <td>0.6421926482262595</td>\n",
              "      <td>1.0762418796197488</td>\n",
              "      <td>0.48662048885944237</td>\n",
              "      <td>0.4259987458628453</td>\n",
              "      <td>0.38454752745306564</td>\n",
              "      <td>1.0112863439635495</td>\n",
              "      <td>1.2498280777387818</td>\n",
              "      <td>0.65998726598968</td>\n",
              "      <td>4.964814835139912</td>\n",
              "      <td>2.641598727813081</td>\n",
              "      <td>1.2735051159964321</td>\n",
              "      <td>0.8646785899490358</td>\n",
              "      <td>0.9287456368026131</td>\n",
              "      <td>0.9864623176277336</td>\n",
              "      <td>0.6844556582911927</td>\n",
              "      <td>0.5557960343802585</td>\n",
              "      <td>5.104508080288965</td>\n",
              "      <td>5.033173906496141</td>\n",
              "      <td>4.134407426614481</td>\n",
              "      <td>0.5881739316387553</td>\n",
              "      <td>0.4342548517794222</td>\n",
              "      <td>0.13885927222480973</td>\n",
              "      <td>0.39526102399864466</td>\n",
              "      <td>19.055339527674455</td>\n",
              "      <td>359.17787356068305</td>\n",
              "      <td>12081.657377078773</td>\n",
              "      <td>463.293810935986</td>\n",
              "      <td>4999.058394592555</td>\n",
              "      <td>2.4706900076989853</td>\n",
              "      <td>23.322568824923472</td>\n",
              "    </tr>\n",
              "    <tr>\n",
              "      <th>3</th>\n",
              "      <td>min</td>\n",
              "      <td>0.0</td>\n",
              "      <td>0.0</td>\n",
              "      <td>0.0</td>\n",
              "      <td>0.0</td>\n",
              "      <td>0.0</td>\n",
              "      <td>0.0</td>\n",
              "      <td>0.0</td>\n",
              "      <td>0.0</td>\n",
              "      <td>0.0</td>\n",
              "      <td>0.0</td>\n",
              "      <td>0.0</td>\n",
              "      <td>0.0</td>\n",
              "      <td>0.0</td>\n",
              "      <td>0.0</td>\n",
              "      <td>0.0</td>\n",
              "      <td>0.0</td>\n",
              "      <td>0.0</td>\n",
              "      <td>0.0</td>\n",
              "      <td>0.0</td>\n",
              "      <td>0.0</td>\n",
              "      <td>0.0</td>\n",
              "      <td>0.0</td>\n",
              "      <td>0.0</td>\n",
              "      <td>0.0</td>\n",
              "      <td>0.0</td>\n",
              "      <td>0.0</td>\n",
              "      <td>0.0</td>\n",
              "      <td>0.0</td>\n",
              "      <td>0.0</td>\n",
              "      <td>0.0</td>\n",
              "      <td>0.0</td>\n",
              "      <td>0.0</td>\n",
              "      <td>0.0</td>\n",
              "      <td>0.0</td>\n",
              "      <td>0.0</td>\n",
              "      <td>0.0</td>\n",
              "      <td>0.0</td>\n",
              "      <td>0.0</td>\n",
              "    </tr>\n",
              "    <tr>\n",
              "      <th>4</th>\n",
              "      <td>max</td>\n",
              "      <td>8.0</td>\n",
              "      <td>50.0</td>\n",
              "      <td>46.0</td>\n",
              "      <td>16.0</td>\n",
              "      <td>2.0</td>\n",
              "      <td>6.0</td>\n",
              "      <td>23.0</td>\n",
              "      <td>14.0</td>\n",
              "      <td>4.0</td>\n",
              "      <td>9.0</td>\n",
              "      <td>1.0</td>\n",
              "      <td>2.0</td>\n",
              "      <td>5.0</td>\n",
              "      <td>7.0</td>\n",
              "      <td>5.0</td>\n",
              "      <td>5.0</td>\n",
              "      <td>50.0</td>\n",
              "      <td>29.0</td>\n",
              "      <td>7.0</td>\n",
              "      <td>9.0</td>\n",
              "      <td>8.0</td>\n",
              "      <td>9.0</td>\n",
              "      <td>3.0</td>\n",
              "      <td>4.0</td>\n",
              "      <td>42.0</td>\n",
              "      <td>42.0</td>\n",
              "      <td>41.0</td>\n",
              "      <td>4.0</td>\n",
              "      <td>2.0</td>\n",
              "      <td>2.0</td>\n",
              "      <td>2.0</td>\n",
              "      <td>90.0</td>\n",
              "      <td>9999.0</td>\n",
              "      <td>99999.0</td>\n",
              "      <td>4356.0</td>\n",
              "      <td>99999.0</td>\n",
              "      <td>6.0</td>\n",
              "      <td>52.0</td>\n",
              "    </tr>\n",
              "  </tbody>\n",
              "</table>\n",
              "</div>"
            ],
            "text/plain": [
              "  summary     indexed_ACLSWKR  ...               NOEMP             WKSWORK\n",
              "0   count               25432  ...               25432               25432\n",
              "1    mean  1.1380150990877635  ...  2.8988282478766907    34.6493787354514\n",
              "2  stddev   1.577978081125802  ...  2.4706900076989853  23.322568824923472\n",
              "3     min                 0.0  ...                 0.0                 0.0\n",
              "4     max                 8.0  ...                 6.0                52.0\n",
              "\n",
              "[5 rows x 39 columns]"
            ]
          },
          "execution_count": 27,
          "metadata": {},
          "output_type": "execute_result"
        }
      ]
    },
    {
      "cell_type": "code",
      "metadata": {
        "colab": {
          "base_uri": "https://localhost:8080/",
          "height": 434
        },
        "id": "fR0fXfCghc_k",
        "outputId": "d2823767-7419-4c30-ea4d-7df2361f517d"
      },
      "source": [
        "train_data.select(\"Label\",\"CAPGAIN\",\"DIVVAL\").toPandas().hist(figsize=(15,6),by=\"Label\",column=[\"CAPGAIN\",\"DIVVAL\"],legend=True)\n",
        "plt.legend()"
      ],
      "execution_count": null,
      "outputs": [
        {
          "data": {
            "text/plain": [
              "<matplotlib.legend.Legend at 0x7f4d35264f50>"
            ]
          },
          "execution_count": 28,
          "metadata": {},
          "output_type": "execute_result"
        },
        {
          "data": {
            "image/png": "[encoded data removed]",
            "text/plain": [
              "<Figure size 1080x432 with 2 Axes>"
            ]
          },
          "metadata": {},
          "output_type": "display_data"
        }
      ]
    },
    {
      "cell_type": "code",
      "metadata": {
        "colab": {
          "base_uri": "https://localhost:8080/",
          "height": 427
        },
        "id": "GGb36GOmrd2Y",
        "outputId": "ee220d10-8161-482f-9b14-5b310bbde637"
      },
      "source": [
        "train_data.select(\"Label\",\"AHRSPAY\",\"CAPLOSS\").toPandas().hist(figsize=(15,6),by=\"Label\",column=[\"AHRSPAY\",\"CAPLOSS\"],legend=True)\n",
        "plt.legend()"
      ],
      "execution_count": null,
      "outputs": [
        {
          "data": {
            "text/plain": [
              "<matplotlib.legend.Legend at 0x7fd4ca9e4f90>"
            ]
          },
          "execution_count": 117,
          "metadata": {},
          "output_type": "execute_result"
        },
        {
          "data": {
            "image/png": "[encoded data removed]",
            "text/plain": [
              "<Figure size 1080x432 with 2 Axes>"
            ]
          },
          "metadata": {},
          "output_type": "display_data"
        }
      ]
    },
    {
      "cell_type": "code",
      "metadata": {
        "colab": {
          "base_uri": "https://localhost:8080/",
          "height": 445
        },
        "id": "HBy3LITUpiyn",
        "outputId": "2997346f-8ca2-4c6f-8463-f84574a84f46"
      },
      "source": [
        "train_data.select(\"Label\",\"WKSWORK\",\"aage\").toPandas().hist(figsize=(15,6),by=\"Label\",column=[\"WKSWORK\",\"aage\"],legend=True)"
      ],
      "execution_count": null,
      "outputs": [
        {
          "data": {
            "text/plain": [
              "array([<matplotlib.axes._subplots.AxesSubplot object at 0x7fd4c9bd8f10>,\n",
              "       <matplotlib.axes._subplots.AxesSubplot object at 0x7fd4c9eba250>],\n",
              "      dtype=object)"
            ]
          },
          "execution_count": 118,
          "metadata": {},
          "output_type": "execute_result"
        },
        {
          "data": {
            "image/png": "[encoded data removed]",
            "text/plain": [
              "<Figure size 1080x432 with 2 Axes>"
            ]
          },
          "metadata": {},
          "output_type": "display_data"
        }
      ]
    },
    {
      "cell_type": "code",
      "metadata": {
        "colab": {
          "base_uri": "https://localhost:8080/",
          "height": 178
        },
        "id": "I5ZSLpg2sRQ7",
        "outputId": "df0ad6be-a7bd-4b6e-ba83-a3a50f6f207e"
      },
      "source": [
        "train_data.select(\"Label\",\"ACLSWKR\").groupBy(\"ACLSWKR\",\"Label\").count().orderBy(\"Label\",col(\"count\")).toPandas().transpose()"
      ],
      "execution_count": 52,
      "outputs": [
        {
          "output_type": "execute_result",
          "data": {
            "text/html": [
              "<div>\n",
              "<style scoped>\n",
              "    .dataframe tbody tr th:only-of-type {\n",
              "        vertical-align: middle;\n",
              "    }\n",
              "\n",
              "    .dataframe tbody tr th {\n",
              "        vertical-align: top;\n",
              "    }\n",
              "\n",
              "    .dataframe thead th {\n",
              "        text-align: right;\n",
              "    }\n",
              "</style>\n",
              "<table border=\"1\" class=\"dataframe\">\n",
              "  <thead>\n",
              "    <tr style=\"text-align: right;\">\n",
              "      <th></th>\n",
              "      <th>0</th>\n",
              "      <th>1</th>\n",
              "      <th>2</th>\n",
              "      <th>3</th>\n",
              "      <th>4</th>\n",
              "      <th>5</th>\n",
              "      <th>6</th>\n",
              "      <th>7</th>\n",
              "      <th>8</th>\n",
              "      <th>9</th>\n",
              "      <th>10</th>\n",
              "      <th>11</th>\n",
              "      <th>12</th>\n",
              "      <th>13</th>\n",
              "      <th>14</th>\n",
              "      <th>15</th>\n",
              "      <th>16</th>\n",
              "      <th>17</th>\n",
              "    </tr>\n",
              "  </thead>\n",
              "  <tbody>\n",
              "    <tr>\n",
              "      <th>ACLSWKR</th>\n",
              "      <td>Without pay</td>\n",
              "      <td>Never worked</td>\n",
              "      <td>Self-employed-incorporated</td>\n",
              "      <td>Federal government</td>\n",
              "      <td>State government</td>\n",
              "      <td>Local government</td>\n",
              "      <td>Self-employed-not incorporated</td>\n",
              "      <td>Private</td>\n",
              "      <td>Not in universe</td>\n",
              "      <td>Without pay</td>\n",
              "      <td>Never worked</td>\n",
              "      <td>State government</td>\n",
              "      <td>Federal government</td>\n",
              "      <td>Local government</td>\n",
              "      <td>Not in universe</td>\n",
              "      <td>Self-employed-not incorporated</td>\n",
              "      <td>Self-employed-incorporated</td>\n",
              "      <td>Private</td>\n",
              "    </tr>\n",
              "    <tr>\n",
              "      <th>Label</th>\n",
              "      <td>- 50000.</td>\n",
              "      <td>- 50000.</td>\n",
              "      <td>- 50000.</td>\n",
              "      <td>- 50000.</td>\n",
              "      <td>- 50000.</td>\n",
              "      <td>- 50000.</td>\n",
              "      <td>- 50000.</td>\n",
              "      <td>- 50000.</td>\n",
              "      <td>- 50000.</td>\n",
              "      <td>50000+.</td>\n",
              "      <td>50000+.</td>\n",
              "      <td>50000+.</td>\n",
              "      <td>50000+.</td>\n",
              "      <td>50000+.</td>\n",
              "      <td>50000+.</td>\n",
              "      <td>50000+.</td>\n",
              "      <td>50000+.</td>\n",
              "      <td>50000+.</td>\n",
              "    </tr>\n",
              "    <tr>\n",
              "      <th>count</th>\n",
              "      <td>164</td>\n",
              "      <td>436</td>\n",
              "      <td>2130</td>\n",
              "      <td>2328</td>\n",
              "      <td>3742</td>\n",
              "      <td>6936</td>\n",
              "      <td>7352</td>\n",
              "      <td>64699</td>\n",
              "      <td>96125</td>\n",
              "      <td>1</td>\n",
              "      <td>2</td>\n",
              "      <td>485</td>\n",
              "      <td>597</td>\n",
              "      <td>847</td>\n",
              "      <td>904</td>\n",
              "      <td>1090</td>\n",
              "      <td>1134</td>\n",
              "      <td>7322</td>\n",
              "    </tr>\n",
              "  </tbody>\n",
              "</table>\n",
              "</div>"
            ],
            "text/plain": [
              "                   0              1   ...                           16        17\n",
              "ACLSWKR   Without pay   Never worked  ...   Self-employed-incorporated   Private\n",
              "Label        - 50000.       - 50000.  ...                      50000+.   50000+.\n",
              "count             164            436  ...                         1134      7322\n",
              "\n",
              "[3 rows x 18 columns]"
            ]
          },
          "metadata": {},
          "execution_count": 52
        }
      ]
    },
    {
      "cell_type": "code",
      "metadata": {
        "colab": {
          "base_uri": "https://localhost:8080/",
          "height": 175
        },
        "id": "kCFtS3fVyX2o",
        "outputId": "9dabe77b-4727-4a41-f4be-9cf30c7000c4"
      },
      "source": [
        "train_data.select(\"Label\",\"ASEX\").groupBy(\"ASEX\",\"Label\").count().toPandas() \t"
      ],
      "execution_count": null,
      "outputs": [
        {
          "data": {
            "text/html": [
              "<div>\n",
              "<style scoped>\n",
              "    .dataframe tbody tr th:only-of-type {\n",
              "        vertical-align: middle;\n",
              "    }\n",
              "\n",
              "    .dataframe tbody tr th {\n",
              "        vertical-align: top;\n",
              "    }\n",
              "\n",
              "    .dataframe thead th {\n",
              "        text-align: right;\n",
              "    }\n",
              "</style>\n",
              "<table border=\"1\" class=\"dataframe\">\n",
              "  <thead>\n",
              "    <tr style=\"text-align: right;\">\n",
              "      <th></th>\n",
              "      <th>ASEX</th>\n",
              "      <th>Label</th>\n",
              "      <th>count</th>\n",
              "    </tr>\n",
              "  </thead>\n",
              "  <tbody>\n",
              "    <tr>\n",
              "      <th>0</th>\n",
              "      <td>Female</td>\n",
              "      <td>50000+.</td>\n",
              "      <td>2663</td>\n",
              "    </tr>\n",
              "    <tr>\n",
              "      <th>1</th>\n",
              "      <td>Male</td>\n",
              "      <td>50000+.</td>\n",
              "      <td>9719</td>\n",
              "    </tr>\n",
              "    <tr>\n",
              "      <th>2</th>\n",
              "      <td>Female</td>\n",
              "      <td>- 50000.</td>\n",
              "      <td>7133</td>\n",
              "    </tr>\n",
              "    <tr>\n",
              "      <th>3</th>\n",
              "      <td>Male</td>\n",
              "      <td>- 50000.</td>\n",
              "      <td>6059</td>\n",
              "    </tr>\n",
              "  </tbody>\n",
              "</table>\n",
              "</div>"
            ],
            "text/plain": [
              "      ASEX      Label  count\n",
              "0   Female    50000+.   2663\n",
              "1     Male    50000+.   9719\n",
              "2   Female   - 50000.   7133\n",
              "3     Male   - 50000.   6059"
            ]
          },
          "execution_count": 158,
          "metadata": {},
          "output_type": "execute_result"
        }
      ]
    },
    {
      "cell_type": "markdown",
      "metadata": {
        "id": "41u6SHgty8A6"
      },
      "source": [
        "####Normalizted Features\n"
      ]
    },
    {
      "cell_type": "code",
      "metadata": {
        "colab": {
          "base_uri": "https://localhost:8080/"
        },
        "id": "HNOc9LV-O-tW",
        "outputId": "fd0f9a4f-57bf-46ec-bca6-d1de99a9da25"
      },
      "source": [
        "train_data.select(Scal_cols).show()"
      ],
      "execution_count": null,
      "outputs": [
        {
          "name": "stdout",
          "output_type": "stream",
          "text": [
            "+--------------------+--------------------+--------------------+-----------------+-------------------+--------------------+--------------------+--------------------+------------------+--------------------+-----------------+-------------------+--------------------+--------------------+---------------------+--------------------+--------------------+--------------------+--------------------+--------------------+--------------------+--------------------+--------------------+-------------------+---------------------+---------------------+---------------------+---------------------+------------------+-------------------+------------------+--------------------+--------------------+------------+------------+-----------+--------------------+--------------------+\n",
            "|scal_indexed_ACLSWKR| scal_indexed_ADTIND| scal_indexed_ADTOCC|scal_indexed_AHGA|scal_indexed_AHSCOL|scal_indexed_AMARITL| scal_indexed_AMJIND| scal_indexed_AMJOCC|scal_indexed_ARACE|scal_indexed_AREORGN|scal_indexed_ASEX|scal_indexed_AUNMEM|scal_indexed_AUNTYPE|scal_indexed_AWKSTAT|scal_indexed_FILESTAT|scal_indexed_GRINREG| scal_indexed_GRINST| scal_indexed_HHDFMX| scal_indexed_HHDREL|scal_indexed_MIGMTR1|scal_indexed_MIGMTR3|scal_indexed_MIGMTR4| scal_indexed_MIGSUN|scal_indexed_PARENT|scal_indexed_PEFNTVTY|scal_indexed_PEMNTVTY|scal_indexed_PENATVTY|scal_indexed_PRCITSHP|scal_indexed_SEOTR|scal_indexed_VETQVA|scal_indexed_VETYN|           scal_AAGE|        scal_AHRSPAY|scal_CAPGAIN|scal_CAPLOSS|scal_DIVVAL|          scal_NOEMP|        scal_WKSWORK|\n",
            "+--------------------+--------------------+--------------------+-----------------+-------------------+--------------------+--------------------+--------------------+------------------+--------------------+-----------------+-------------------+--------------------+--------------------+---------------------+--------------------+--------------------+--------------------+--------------------+--------------------+--------------------+--------------------+--------------------+-------------------+---------------------+---------------------+---------------------+---------------------+------------------+-------------------+------------------+--------------------+--------------------+------------+------------+-----------+--------------------+--------------------+\n",
            "|             [0.125]|[0.09803921568627...|[0.2391304347826087]|            [0.0]|              [0.0]|[0.3333333333333333]|[0.3913043478260869]|[0.21428571428571...|             [0.0]|               [0.0]|            [0.0]|              [0.0]|               [0.0]|               [0.0]|                [0.8]|               [0.0]|               [0.0]|               [0.0]|               [0.0]|[0.1111111111111111]|             [0.125]|[0.1111111111111111]|[0.3333333333333333]|              [0.0]|                [0.0]|                [0.0]|                [0.0]|                [0.0]|             [0.5]|              [0.0]|             [0.0]|[0.3888888888888889]|               [0.0]|       [0.0]|       [0.0]|      [0.0]|[0.8333333333333333]|               [1.0]|\n",
            "|               [0.0]|               [0.0]|               [0.0]|         [0.3125]|              [0.0]|[0.16666666666666...|               [0.0]|               [0.0]|             [0.0]|               [0.0]|            [1.0]|              [0.0]|               [0.0]|[0.2857142857142857]|                [0.0]|               [0.0]|               [0.0]|               [0.0]|               [0.0]|               [0.0]|               [0.0]|               [0.0]|               [0.0]|              [0.0]|                [0.0]|                [0.0]|                [0.0]|                [0.0]|             [0.0]|              [0.0]|             [0.0]|[0.9444444444444445]|               [0.0]|       [0.0]|       [0.0]|      [0.0]|               [0.0]|               [0.0]|\n",
            "|             [0.125]|[0.0196078431372549]|[0.08695652173913...|          [0.125]|              [0.0]|               [0.0]|[0.04347826086956...|[0.2857142857142857]|             [0.0]|               [0.0]|            [1.0]|              [0.5]|               [0.0]|               [0.0]|                [0.4]|               [0.0]|               [0.0]|[0.1388888888888889]|[0.7142857142857142]|[0.1111111111111111]|             [0.125]|[0.1111111111111111]|[0.3333333333333333]|              [0.0]|                [0.0]|                [0.0]|                [0.0]|                [0.0]|             [0.0]|              [0.0]|             [0.0]|[0.2888888888888889]|[0.04292929292929...|       [0.0]|       [0.0]|      [0.0]|               [1.0]|[0.3269230769230769]|\n",
            "|             [0.125]|[0.3333333333333333]|[0.2608695652173913]|          [0.125]|              [0.0]|               [0.0]|[0.7391304347826086]|[0.07142857142857...|             [0.0]|               [0.0]|            [0.0]|              [0.0]|               [0.0]|               [0.0]|                [0.4]|               [0.0]|               [0.0]|[0.5277777777777778]|[0.5714285714285714]|[0.1111111111111111]|             [0.125]|[0.1111111111111111]|[0.3333333333333333]|              [0.0]|                [0.0]|                [0.0]|                [0.0]|                [0.0]|             [0.0]|              [0.0]|             [0.0]|               [0.3]|               [0.0]|       [0.0]|       [0.0]|      [0.0]|               [0.5]|               [1.0]|\n",
            "|             [0.125]|[0.13725490196078...|[0.04347826086956...|          [0.625]|              [0.0]|               [0.0]|[0.30434782608695...|[0.07142857142857...|             [0.0]|               [0.0]|            [1.0]|              [0.0]|               [0.2]|               [0.0]|                [0.4]|               [0.0]|               [0.0]|[0.1111111111111111]|[0.42857142857142...|[0.1111111111111111]|             [0.125]|[0.1111111111111111]|[0.3333333333333333]|              [0.0]|                [0.0]|                [0.0]|                [0.0]|                [0.0]|             [0.0]|              [0.0]|             [0.0]|[0.2555555555555556]|               [0.0]|       [0.0]|       [0.0]|      [0.0]|[0.16666666666666...|[0.46153846153846...|\n",
            "|             [0.875]|               [0.0]|               [0.0]|         [0.3125]|              [0.5]|               [0.0]|               [0.0]|               [0.0]|             [0.0]|               [0.0]|            [0.0]|              [0.0]|               [1.0]|               [0.0]|                [0.0]|               [0.0]|               [0.0]|[0.02777777777777...|[0.14285714285714...|[0.1111111111111111]|             [0.125]|[0.1111111111111111]|[0.3333333333333333]|             [0.25]|                [0.0]|                [0.0]|                [0.0]|                [0.0]|             [0.0]|              [0.0]|             [0.0]|[0.17777777777777...|               [0.0]|       [0.0]|       [0.0]|      [0.0]|               [0.0]|               [0.0]|\n",
            "|               [0.0]|               [0.0]|               [0.0]|            [0.0]|              [0.0]|[0.16666666666666...|               [0.0]|               [0.0]|             [0.0]|[0.1111111111111111]|            [0.0]|              [0.0]|               [0.0]|[0.2857142857142857]|                [0.0]|               [0.0]|               [0.0]|[0.05555555555555...|[0.2857142857142857]|               [0.0]|               [0.0]|               [0.0]|               [0.0]|              [0.0]| [0.02380952380952...| [0.02380952380952...|                [0.0]|                [0.0]|             [0.0]|              [0.0]|             [0.0]|[0.6555555555555556]|               [0.0]|       [0.0]|       [0.0]|      [0.0]|               [0.0]|               [0.0]|\n",
            "|               [0.0]|               [0.0]|               [0.0]|           [0.75]|              [0.5]|               [0.0]|               [0.0]|               [0.0]|             [0.0]|[0.4444444444444444]|            [1.0]|              [0.0]|               [0.0]|[0.2857142857142857]|                [0.0]|               [0.0]|               [0.0]|[0.1111111111111111]|[0.42857142857142...|               [0.0]|               [0.0]|               [0.0]|               [0.0]|              [0.0]| [0.07142857142857...| [0.07142857142857...| [0.07142857142857...|                [1.0]|             [0.0]|              [0.0]|             [0.0]|               [0.2]|               [0.0]|       [0.0]|       [0.0]|      [0.0]|               [0.0]|               [0.0]|\n",
            "|             [0.125]|[0.1568627450980392]|[0.6086956521739131]|          [0.125]|              [0.0]|               [0.0]|[0.5217391304347826]|[0.7857142857142857]|            [0.25]|               [0.0]|            [0.0]|              [0.0]|               [0.0]|               [0.0]|                [0.4]|               [0.2]|[0.8200000000000001]|[0.08333333333333...|               [0.0]|[0.2222222222222222]|              [0.25]|[0.2222222222222222]|               [1.0]|              [0.0]|                [0.0]|                [0.0]|                [0.0]|                [0.0]|             [0.0]|              [0.0]|             [0.0]|[0.35555555555555...|               [0.0]|       [0.0]|       [0.0]|      [0.0]|               [0.5]|               [1.0]|\n",
            "|               [0.0]|               [0.0]|               [0.0]|           [0.25]|              [0.0]|               [0.5]|               [0.0]|               [0.0]|             [0.0]|               [0.0]|            [0.0]|              [0.0]|               [0.0]|[0.2857142857142857]|                [0.4]|               [0.0]|               [0.0]|[0.08333333333333...|               [0.0]|               [0.0]|               [0.0]|               [0.0]|               [0.0]|              [0.0]| [0.14285714285714...| [0.11904761904761...|                [0.0]|                [0.0]|             [0.0]|              [0.0]|             [0.0]|[0.9222222222222223]|               [0.0]|       [0.0]|       [0.0]|      [0.0]|               [0.0]|               [0.0]|\n",
            "|               [0.0]|               [0.0]|               [0.0]|         [0.1875]|              [0.0]|[0.16666666666666...|               [0.0]|               [0.0]|             [0.0]|               [0.0]|            [0.0]|              [0.0]|               [0.0]|               [0.0]|                [0.2]|               [0.0]|               [0.0]|[0.05555555555555...|[0.2857142857142857]|[0.1111111111111111]|             [0.125]|[0.1111111111111111]|[0.3333333333333333]|              [0.0]|                [0.0]|                [0.0]|                [0.0]|                [0.0]|             [0.0]|              [0.0]|             [0.0]|[0.3666666666666667]|               [0.0]|       [0.0]|       [0.0]|      [0.0]|               [0.0]|               [0.0]|\n",
            "|             [0.375]|[0.0392156862745098]|[0.4782608695652174]|            [0.0]|              [0.0]|               [0.0]|[0.13043478260869...|[0.07142857142857...|            [0.25]|               [0.0]|            [0.0]|              [0.0]|               [0.0]|               [0.0]|                [0.4]|               [0.0]|               [0.0]|[0.1388888888888889]|[0.7142857142857142]|[0.1111111111111111]|             [0.125]|[0.1111111111111111]|[0.3333333333333333]|              [0.0]|                [0.0]|                [0.0]|                [0.0]|                [0.0]|             [0.0]|              [0.0]|             [0.0]|[0.35555555555555...|               [0.0]|       [0.0]|       [0.0]|      [0.0]|               [1.0]|               [1.0]|\n",
            "|               [0.0]|               [0.0]|               [0.0]|         [0.0625]|              [0.0]|               [0.0]|               [0.0]|               [0.0]|             [0.0]|               [0.0]|            [1.0]|              [0.0]|               [0.0]|               [0.0]|                [0.0]|               [0.0]|               [0.0]|[0.02777777777777...|[0.14285714285714...|               [0.0]|               [0.0]|               [0.0]|               [0.0]|             [0.25]|                [0.0]|                [0.0]|                [0.0]|                [0.0]|             [0.0]|              [0.0]|             [0.5]|[0.15555555555555...|               [0.0]|       [0.0]|       [0.0]|      [0.0]|               [0.0]|               [0.0]|\n",
            "|               [0.0]|               [0.0]|               [0.0]|         [0.0625]|              [0.0]|               [0.0]|               [0.0]|               [0.0]|             [0.0]|               [0.0]|            [1.0]|              [0.0]|               [0.0]|               [0.0]|                [0.0]|               [0.0]|               [0.0]|[0.02777777777777...|[0.14285714285714...|               [0.0]|               [0.0]|               [0.0]|               [0.0]|             [0.25]|                [0.0]|                [0.0]|                [0.0]|                [0.0]|             [0.0]|              [0.0]|             [0.5]|[0.14444444444444...|               [0.0]|       [0.0]|       [0.0]|      [0.0]|               [0.0]|               [0.0]|\n",
            "|              [0.25]|[0.1764705882352941]|[0.17391304347826...|          [0.125]|              [0.0]|[0.16666666666666...|[0.5652173913043478]|[0.3571428571428571]|             [0.0]|               [0.0]|            [1.0]|              [0.0]|               [0.2]|[0.5714285714285714]|                [0.2]|               [0.0]|               [0.0]|[0.05555555555555...|[0.2857142857142857]|               [0.0]|               [0.0]|               [0.0]|               [0.0]|              [0.0]|                [0.0]|                [0.0]|                [0.0]|                [0.0]|             [0.0]|              [0.0]|             [0.0]|[0.6333333333333333]|               [0.0]|       [0.0]|       [0.0]|      [0.0]|               [0.0]|               [0.0]|\n",
            "|             [0.125]|[0.0196078431372549]|[0.08695652173913...|            [0.0]|              [0.0]|               [0.0]|[0.04347826086956...|[0.2857142857142857]|             [0.0]|               [0.0]|            [0.0]|              [0.5]|               [0.0]|               [0.0]|                [0.0]|               [0.0]|               [0.0]|[0.02777777777777...|[0.14285714285714...|[0.1111111111111111]|             [0.125]|[0.1111111111111111]|[0.3333333333333333]|             [0.75]|                [0.0]|                [0.0]|                [0.0]|                [0.0]|             [0.5]|              [0.0]|             [0.0]|[0.18888888888888...|[0.04292929292929...|       [0.0]|       [0.0]|      [0.0]|               [1.0]|[0.11538461538461...|\n",
            "|             [0.125]|[0.0196078431372549]|[0.41304347826086...|            [0.0]|              [0.0]|               [0.0]|[0.04347826086956...|[0.2857142857142857]|             [1.0]|               [0.0]|            [0.0]|              [0.0]|               [0.0]|[0.14285714285714...|                [0.4]|               [0.0]|               [0.0]|[0.2222222222222222]|[0.5714285714285714]|               [0.0]|               [0.0]|               [0.0]|               [0.0]|              [0.0]|                [0.0]|                [0.0]|                [0.0]|                [0.0]|             [0.5]|              [0.0]|             [0.0]|[0.2888888888888889]|               [0.0]|       [0.0]|       [0.0]|      [0.0]|[0.16666666666666...|               [1.0]|\n",
            "|             [0.125]|[0.0196078431372549]|[0.04347826086956...|            [0.0]|              [0.0]|[0.16666666666666...|[0.04347826086956...|[0.07142857142857...|             [0.0]|               [0.0]|            [0.0]|              [0.0]|               [0.2]|[0.5714285714285714]|                [0.2]|               [0.0]|               [0.0]|[0.05555555555555...|[0.2857142857142857]|               [0.0]|               [0.0]|               [0.0]|               [0.0]|              [0.0]|                [0.0]|                [0.0]|                [0.0]|                [0.0]|             [0.5]|              [0.0]|             [0.0]|[0.6222222222222222]|               [0.0]|       [0.0]|       [0.0]|      [0.0]|               [1.0]|[0.7692307692307693]|\n",
            "|             [0.125]|[0.0784313725490196]|[0.41304347826086...|           [0.25]|              [0.0]|[0.16666666666666...|[0.34782608695652...|[0.2857142857142857]|            [0.75]|[0.2222222222222222]|            [0.0]|              [0.0]|               [0.0]|               [0.0]|                [0.2]|               [0.0]|               [0.0]|[0.05555555555555...|[0.2857142857142857]|[0.1111111111111111]|             [0.125]|[0.1111111111111111]|[0.3333333333333333]|              [0.0]| [0.02380952380952...| [0.02380952380952...| [0.02380952380952...|               [0.25]|             [0.0]|              [0.0]|             [0.0]|[0.41111111111111...|               [0.0]|       [0.0]|       [0.0]|      [0.0]|[0.16666666666666...|[0.8846153846153847]|\n",
            "|             [0.125]|[0.0784313725490196]|[0.10869565217391...|            [0.0]|              [0.0]|               [0.0]|[0.34782608695652...|               [0.5]|            [0.25]|               [0.0]|            [0.0]|              [0.0]|               [0.0]|               [0.0]|                [0.4]|               [0.0]|               [0.0]|[0.1111111111111111]|[0.42857142857142...|[0.1111111111111111]|             [0.125]|[0.1111111111111111]|[0.3333333333333333]|              [0.0]|                [0.0]|                [0.0]|                [0.0]|                [0.0]|             [0.0]|              [0.0]|             [0.0]|[0.4666666666666667]|               [0.0]|       [0.0]|       [0.0]|      [0.0]|               [0.5]|               [1.0]|\n",
            "+--------------------+--------------------+--------------------+-----------------+-------------------+--------------------+--------------------+--------------------+------------------+--------------------+-----------------+-------------------+--------------------+--------------------+---------------------+--------------------+--------------------+--------------------+--------------------+--------------------+--------------------+--------------------+--------------------+-------------------+---------------------+---------------------+---------------------+---------------------+------------------+-------------------+------------------+--------------------+--------------------+------------+------------+-----------+--------------------+--------------------+\n",
            "only showing top 20 rows\n",
            "\n"
          ]
        }
      ]
    },
    {
      "cell_type": "markdown",
      "metadata": {
        "id": "MeBQqkcWttnc"
      },
      "source": [
        "##Data features label Selection"
      ]
    },
    {
      "cell_type": "code",
      "metadata": {
        "id": "CWeVneWTPepV"
      },
      "source": [
        "train_data=train_data.select('features','indexed_Label')"
      ],
      "execution_count": 49,
      "outputs": []
    },
    {
      "cell_type": "code",
      "metadata": {
        "id": "EyDpf3BiOchD"
      },
      "source": [
        "test_data=test_data.select('features','indexed_Label')"
      ],
      "execution_count": 50,
      "outputs": []
    },
    {
      "cell_type": "code",
      "metadata": {
        "id": "Svji7wmLM8Lj"
      },
      "source": [
        "gc.collect()\n",
        "spark.sparkContext._jvm.System.gc()"
      ],
      "execution_count": 51,
      "outputs": []
    },
    {
      "cell_type": "markdown",
      "metadata": {
        "id": "xTrfxUMki0D7"
      },
      "source": [
        "##Transformed_data saving\n",
        "Nous sauvegardons les features et les labels de train et de test si on a un probléme pour ne pas exécuter tout le pipeline à chaque fois que la session plante. "
      ]
    },
    {
      "cell_type": "code",
      "metadata": {
        "id": "O2cVx5gXiA23"
      },
      "source": [
        "train_data.write.save(drive_dir+\"/train_data.parquet\")"
      ],
      "execution_count": 72,
      "outputs": []
    },
    {
      "cell_type": "code",
      "metadata": {
        "id": "tD5IhkN2lsl4"
      },
      "source": [
        "test_data.write.save(drive_dir+\"/test_data.parquet\",)"
      ],
      "execution_count": 73,
      "outputs": []
    },
    {
      "cell_type": "markdown",
      "metadata": {
        "id": "edg3aPUli7zV"
      },
      "source": [
        "##Transformed Data Loading"
      ]
    },
    {
      "cell_type": "code",
      "metadata": {
        "id": "gDxR-9HYjflm"
      },
      "source": [
        "train_data= spark.read.load(drive_dir+\"/train_data.parquet\")\n",
        "test_data=spark.read.load(drive_dir+\"/test_data.parquet\")"
      ],
      "execution_count": 81,
      "outputs": []
    },
    {
      "cell_type": "markdown",
      "metadata": {
        "id": "veMe_NGJByHT"
      },
      "source": [
        "##Data Balancing\n",
        "Pour êtres dans la limite des données demandée nous avons fait un undersampling sur la classes majoritaire dans les données de train et de test"
      ]
    },
    {
      "cell_type": "code",
      "metadata": {
        "id": "PpSQAhdfK0gZ"
      },
      "source": [
        "train_Positive_class = train_data.filter(col(\"indexed_Label\") == 1 )\n",
        "train_Negative_class =train_data.filter(col(\"indexed_Label\") == 0 )\n",
        "test_Positive_class=test_data.filter(col(\"indexed_Label\") == 1 )\n",
        "test_Negative_class=test_data.filter(col(\"indexed_Label\") ==  0 )"
      ],
      "execution_count": 82,
      "outputs": []
    },
    {
      "cell_type": "code",
      "metadata": {
        "colab": {
          "base_uri": "https://localhost:8080/"
        },
        "id": "Z8BXkA0F8LGL",
        "outputId": "c8543a6a-a4e9-47bc-a4d5-98df6086b664"
      },
      "source": [
        "minor_class_train=int(train_Positive_class.count())\n",
        "train_ratio = int(train_Negative_class.count()/minor_class_train)\n",
        "test_ratio=int(test_Negative_class.count()/test_Positive_class.count())\n",
        "print(\"train ratio: {}, test ratio: {}\".format(train_ratio,test_ratio))"
      ],
      "execution_count": 83,
      "outputs": [
        {
          "output_type": "stream",
          "name": "stdout",
          "text": [
            "train ratio: 14, test ratio: 14\n"
          ]
        }
      ]
    },
    {
      "cell_type": "code",
      "metadata": {
        "id": "qH0qjmY1Dc-H"
      },
      "source": [
        "train_data_balanced_by_under_Sampling=train_Positive_class.unionAll(train_Negative_class.sample(False, 1/train_ratio))\n",
        "fact=3\n",
        "df=train_Positive_class.sample(0.99999999)\n",
        "for x in range(int(train_ratio/8)):\n",
        "  df=df.unionAll(train_Positive_class.sample(0.999999))\n",
        "train_data_balanced_by_over_Sampling=df.unionAll(train_Negative_class.sample(False, 1/2))"
      ],
      "execution_count": 94,
      "outputs": []
    },
    {
      "cell_type": "code",
      "metadata": {
        "id": "1EnuiFo0_bxT"
      },
      "source": [
        "#Pour qu'il garde pas les données en Ram\n",
        "train_Positive_class,train_Negative_class,test_Positive_class,test_Negative_class=None,None,None,None\n",
        "gc.collect()\n",
        "spark.sparkContext._jvm.System.gc()"
      ],
      "execution_count": 77,
      "outputs": []
    },
    {
      "cell_type": "code",
      "metadata": {
        "id": "NreyTP-i0LV1",
        "colab": {
          "base_uri": "https://localhost:8080/",
          "height": 112
        },
        "outputId": "6dab9f0d-24ca-4828-c467-31acec06cef0"
      },
      "source": [
        "train_data_balanced_by_under_Sampling.groupBy(\"indexed_Label\").count().toPandas()"
      ],
      "execution_count": 51,
      "outputs": [
        {
          "output_type": "execute_result",
          "data": {
            "text/html": [
              "<div>\n",
              "<style scoped>\n",
              "    .dataframe tbody tr th:only-of-type {\n",
              "        vertical-align: middle;\n",
              "    }\n",
              "\n",
              "    .dataframe tbody tr th {\n",
              "        vertical-align: top;\n",
              "    }\n",
              "\n",
              "    .dataframe thead th {\n",
              "        text-align: right;\n",
              "    }\n",
              "</style>\n",
              "<table border=\"1\" class=\"dataframe\">\n",
              "  <thead>\n",
              "    <tr style=\"text-align: right;\">\n",
              "      <th></th>\n",
              "      <th>indexed_Label</th>\n",
              "      <th>count</th>\n",
              "    </tr>\n",
              "  </thead>\n",
              "  <tbody>\n",
              "    <tr>\n",
              "      <th>0</th>\n",
              "      <td>1.0</td>\n",
              "      <td>12382</td>\n",
              "    </tr>\n",
              "    <tr>\n",
              "      <th>1</th>\n",
              "      <td>0.0</td>\n",
              "      <td>13216</td>\n",
              "    </tr>\n",
              "  </tbody>\n",
              "</table>\n",
              "</div>"
            ],
            "text/plain": [
              "   indexed_Label  count\n",
              "0            1.0  12382\n",
              "1            0.0  13216"
            ]
          },
          "metadata": {},
          "execution_count": 51
        }
      ]
    },
    {
      "cell_type": "code",
      "metadata": {
        "colab": {
          "base_uri": "https://localhost:8080/",
          "height": 112
        },
        "id": "YzVE313fDwyZ",
        "outputId": "70eda5ea-72d6-47b7-8fa8-c1f3ec28baff"
      },
      "source": [
        "train_data_balanced_by_over_Sampling.groupBy(\"indexed_Label\").count().toPandas()"
      ],
      "execution_count": 95,
      "outputs": [
        {
          "output_type": "execute_result",
          "data": {
            "text/html": [
              "<div>\n",
              "<style scoped>\n",
              "    .dataframe tbody tr th:only-of-type {\n",
              "        vertical-align: middle;\n",
              "    }\n",
              "\n",
              "    .dataframe tbody tr th {\n",
              "        vertical-align: top;\n",
              "    }\n",
              "\n",
              "    .dataframe thead th {\n",
              "        text-align: right;\n",
              "    }\n",
              "</style>\n",
              "<table border=\"1\" class=\"dataframe\">\n",
              "  <thead>\n",
              "    <tr style=\"text-align: right;\">\n",
              "      <th></th>\n",
              "      <th>indexed_Label</th>\n",
              "      <th>count</th>\n",
              "    </tr>\n",
              "  </thead>\n",
              "  <tbody>\n",
              "    <tr>\n",
              "      <th>0</th>\n",
              "      <td>1.0</td>\n",
              "      <td>24764</td>\n",
              "    </tr>\n",
              "    <tr>\n",
              "      <th>1</th>\n",
              "      <td>0.0</td>\n",
              "      <td>91676</td>\n",
              "    </tr>\n",
              "  </tbody>\n",
              "</table>\n",
              "</div>"
            ],
            "text/plain": [
              "   indexed_Label  count\n",
              "0            1.0  24764\n",
              "1            0.0  91676"
            ]
          },
          "metadata": {},
          "execution_count": 95
        }
      ]
    },
    {
      "cell_type": "code",
      "metadata": {
        "colab": {
          "base_uri": "https://localhost:8080/",
          "height": 112
        },
        "id": "2I85Pu6Q1H-g",
        "outputId": "cf532391-2494-4d5e-aeca-9873796b923b"
      },
      "source": [
        "train_data.groupBy(\"indexed_Label\").count().toPandas()"
      ],
      "execution_count": 30,
      "outputs": [
        {
          "output_type": "execute_result",
          "data": {
            "text/html": [
              "<div>\n",
              "<style scoped>\n",
              "    .dataframe tbody tr th:only-of-type {\n",
              "        vertical-align: middle;\n",
              "    }\n",
              "\n",
              "    .dataframe tbody tr th {\n",
              "        vertical-align: top;\n",
              "    }\n",
              "\n",
              "    .dataframe thead th {\n",
              "        text-align: right;\n",
              "    }\n",
              "</style>\n",
              "<table border=\"1\" class=\"dataframe\">\n",
              "  <thead>\n",
              "    <tr style=\"text-align: right;\">\n",
              "      <th></th>\n",
              "      <th>indexed_Label</th>\n",
              "      <th>count</th>\n",
              "    </tr>\n",
              "  </thead>\n",
              "  <tbody>\n",
              "    <tr>\n",
              "      <th>0</th>\n",
              "      <td>0.0</td>\n",
              "      <td>183912</td>\n",
              "    </tr>\n",
              "    <tr>\n",
              "      <th>1</th>\n",
              "      <td>1.0</td>\n",
              "      <td>12382</td>\n",
              "    </tr>\n",
              "  </tbody>\n",
              "</table>\n",
              "</div>"
            ],
            "text/plain": [
              "   indexed_Label   count\n",
              "0            0.0  183912\n",
              "1            1.0   12382"
            ]
          },
          "metadata": {},
          "execution_count": 30
        }
      ]
    },
    {
      "cell_type": "markdown",
      "metadata": {
        "id": "WfE18OVb0MhN"
      },
      "source": [
        "#Training And Testing Models"
      ]
    },
    {
      "cell_type": "code",
      "metadata": {
        "id": "j8iIv1BzKZ9D"
      },
      "source": [
        "from pyspark.ml.classification import RandomForestClassifier ,LinearSVC,GBTClassifier\n",
        "from  pyspark.ml.evaluation import BinaryClassificationEvaluator,MulticlassClassificationEvaluator"
      ],
      "execution_count": 21,
      "outputs": []
    },
    {
      "cell_type": "code",
      "metadata": {
        "id": "j96LiU8_cxdM"
      },
      "source": [
        "def predict_(model,data_test,col_features=\"features\"):\n",
        "  return model.transform(\n",
        "      data_test.select(col_features,\"indexed_Label\").withColumnRenamed(\"indexed_Label\",\"label\")\n",
        "      ).select(\"label\",\"prediction\")\n"
      ],
      "execution_count": 22,
      "outputs": []
    },
    {
      "cell_type": "code",
      "metadata": {
        "id": "YF7hFXr1KhD9"
      },
      "source": [
        "def eval_Model(predictions):\n",
        "  #Preppate test data\n",
        "  mytrics=[\"accuracy\",\"weightedPrecision\",\"weightedRecall\",\"fMeasureByLabel\"]\n",
        "  evaluator = MulticlassClassificationEvaluator(metricName='fMeasureByLabel', metricLabel=1, beta=1.0) \n",
        "  evalulations={}\n",
        "  for mytric in mytrics:\n",
        "    evaluator.setMetricName(mytric)\n",
        "    evalulations[mytric]=evaluator.evaluate(predictions)\n",
        "  return evalulations"
      ],
      "execution_count": 23,
      "outputs": []
    },
    {
      "cell_type": "markdown",
      "metadata": {
        "id": "9oOaBJgawg3D"
      },
      "source": [
        "##Train and Test with unbalanced data\n",
        "\n"
      ]
    },
    {
      "cell_type": "markdown",
      "metadata": {
        "id": "FpTu1EVMw5f1"
      },
      "source": [
        "###Random Forest Perforamances\n"
      ]
    },
    {
      "cell_type": "code",
      "metadata": {
        "colab": {
          "base_uri": "https://localhost:8080/"
        },
        "id": "bEdHw_hnw5f4",
        "outputId": "6c7adc27-2565-4ef4-c668-c232815b112a"
      },
      "source": [
        "eval_Model(predict_(RandomForestClassifier(featuresCol=\"features\",labelCol=\"indexed_Label\").fit(train_data),test_data))"
      ],
      "execution_count": 118,
      "outputs": [
        {
          "output_type": "execute_result",
          "data": {
            "text/plain": [
              "{'accuracy': 0.9387837660170512,\n",
              " 'fMeasureByLabel': 0.04421285330806884,\n",
              " 'weightedPrecision': 0.9396154458012305,\n",
              " 'weightedRecall': 0.9387837660170512}"
            ]
          },
          "metadata": {},
          "execution_count": 118
        }
      ]
    },
    {
      "cell_type": "markdown",
      "metadata": {
        "id": "z6nrkm7ww5f7"
      },
      "source": [
        "###SVM Model Performances"
      ]
    },
    {
      "cell_type": "code",
      "metadata": {
        "colab": {
          "base_uri": "https://localhost:8080/"
        },
        "id": "acbB8Mxlw5f-",
        "outputId": "b832cb0c-a532-4bef-f351-228243b16091"
      },
      "source": [
        "eval_Model(predict_(LinearSVC(featuresCol=\"features\",labelCol=\"indexed_Label\").fit(train_data),test_data))"
      ],
      "execution_count": 115,
      "outputs": [
        {
          "output_type": "execute_result",
          "data": {
            "text/plain": [
              "{'accuracy': 0.943213422465842,\n",
              " 'fMeasureByLabel': 0.18658554251774592,\n",
              " 'weightedPrecision': 0.9407048131562592,\n",
              " 'weightedRecall': 0.9432134224658422}"
            ]
          },
          "metadata": {},
          "execution_count": 115
        }
      ]
    },
    {
      "cell_type": "markdown",
      "metadata": {
        "id": "P11nPZ6_xLpa"
      },
      "source": [
        "###Gradient Boost Model Performances"
      ]
    },
    {
      "cell_type": "code",
      "metadata": {
        "colab": {
          "base_uri": "https://localhost:8080/"
        },
        "id": "wAVcKvN2xLpi",
        "outputId": "b5e4beb7-9ef1-4df0-c005-a27a9ed142d3"
      },
      "source": [
        "eval_Model(predict_(GBTClassifier(featuresCol=\"features\",labelCol=\"indexed_Label\").fit(train_data),test_data))"
      ],
      "execution_count": 122,
      "outputs": [
        {
          "output_type": "execute_result",
          "data": {
            "text/plain": [
              "{'accuracy': 0.9488364566793758,\n",
              " 'fMeasureByLabel': 0.43632311977715876,\n",
              " 'weightedPrecision': 0.9401117730762191,\n",
              " 'weightedRecall': 0.9488364566793758}"
            ]
          },
          "metadata": {},
          "execution_count": 122
        }
      ]
    },
    {
      "cell_type": "markdown",
      "metadata": {
        "id": "w9FXvnrDdeDC"
      },
      "source": [
        "##Train and Test with balanced data\n"
      ]
    },
    {
      "cell_type": "code",
      "metadata": {
        "id": "rVPciYbU4miY"
      },
      "source": [
        "gc.collect()\n",
        "spark.sparkContext._jvm.System.gc()"
      ],
      "execution_count": null,
      "outputs": []
    },
    {
      "cell_type": "markdown",
      "metadata": {
        "id": "9Bcfz0gD970e"
      },
      "source": [
        "###By Under Sampling"
      ]
    },
    {
      "cell_type": "markdown",
      "metadata": {
        "id": "2BrripYxgnFH"
      },
      "source": [
        "\n",
        "\n",
        "####Random Forest Perforamances\n"
      ]
    },
    {
      "cell_type": "code",
      "metadata": {
        "colab": {
          "base_uri": "https://localhost:8080/"
        },
        "id": "vSRY755Cggsk",
        "outputId": "39aad225-f5b3-47f4-8495-37c6be96968c"
      },
      "source": [
        "eval_Model(predict_(RandomForestClassifier(featuresCol=\"features\",labelCol=\"indexed_Label\").fit(train_data_balanced_by_under_Sampling),test_data))"
      ],
      "execution_count": 119,
      "outputs": [
        {
          "output_type": "execute_result",
          "data": {
            "text/plain": [
              "{'accuracy': 0.7990877739459339,\n",
              " 'fMeasureByLabel': 0.357420106093932,\n",
              " 'weightedPrecision': 0.9430589080820581,\n",
              " 'weightedRecall': 0.7990877739459339}"
            ]
          },
          "metadata": {},
          "execution_count": 119
        }
      ]
    },
    {
      "cell_type": "markdown",
      "metadata": {
        "id": "JrS5V2fGgwJw"
      },
      "source": [
        "####SVM Model Performances"
      ]
    },
    {
      "cell_type": "code",
      "metadata": {
        "colab": {
          "base_uri": "https://localhost:8080/"
        },
        "id": "uCcB2HwSg0xT",
        "outputId": "e8d7527e-548e-45df-80ff-5796251f6707"
      },
      "source": [
        "eval_Model(predict_(LinearSVC(featuresCol=\"features\",labelCol=\"indexed_Label\").fit(train_data_balanced_by_under_Sampling),test_data))"
      ],
      "execution_count": 120,
      "outputs": [
        {
          "output_type": "execute_result",
          "data": {
            "text/plain": [
              "{'accuracy': 0.943213422465842,\n",
              " 'fMeasureByLabel': 0.18658554251774592,\n",
              " 'weightedPrecision': 0.9407048131562592,\n",
              " 'weightedRecall': 0.9432134224658422}"
            ]
          },
          "metadata": {},
          "execution_count": 120
        }
      ]
    },
    {
      "cell_type": "markdown",
      "metadata": {
        "id": "yUpBGldFxmds"
      },
      "source": [
        "####Gradient Boost Model Performances"
      ]
    },
    {
      "cell_type": "code",
      "metadata": {
        "colab": {
          "base_uri": "https://localhost:8080/"
        },
        "id": "37fboMaKxmdv",
        "outputId": "1c29c88a-a382-498a-9574-39a2a5ad3f9d"
      },
      "source": [
        "eval_Model(predict_(GBTClassifier(featuresCol=\"features\",labelCol=\"indexed_Label\").fit(train_data_balanced_by_under_Sampling),test_data))"
      ],
      "execution_count": 123,
      "outputs": [
        {
          "output_type": "execute_result",
          "data": {
            "text/plain": [
              "{'accuracy': 0.8453564457569352,\n",
              " 'fMeasureByLabel': 0.4183498801780212,\n",
              " 'weightedPrecision': 0.9463764506494498,\n",
              " 'weightedRecall': 0.8453564457569351}"
            ]
          },
          "metadata": {},
          "execution_count": 123
        }
      ]
    },
    {
      "cell_type": "markdown",
      "metadata": {
        "id": "Cu07o4bq-m3P"
      },
      "source": [
        "###By Over Sampling"
      ]
    },
    {
      "cell_type": "markdown",
      "metadata": {
        "id": "qdVbUT_F-m3T"
      },
      "source": [
        "\n",
        "\n",
        "####Random Forest Perforamances\n"
      ]
    },
    {
      "cell_type": "code",
      "metadata": {
        "colab": {
          "base_uri": "https://localhost:8080/"
        },
        "id": "bjyMs5BL-m3X",
        "outputId": "f4e078b4-335a-4b06-d2a3-b0078091e021"
      },
      "source": [
        "eval_Model(predict_(RandomForestClassifier(featuresCol=\"features\",labelCol=\"indexed_Label\").fit(train_data_balanced_by_over_Sampling),test_data))"
      ],
      "execution_count": 97,
      "outputs": [
        {
          "output_type": "execute_result",
          "data": {
            "text/plain": [
              "{'accuracy': 0.9432437625785051,\n",
              " 'fMeasureByLabel': 0.5295103957075789,\n",
              " 'weightedPrecision': 0.9413690193176931,\n",
              " 'weightedRecall': 0.943243762578505}"
            ]
          },
          "metadata": {},
          "execution_count": 97
        }
      ]
    },
    {
      "cell_type": "markdown",
      "metadata": {
        "id": "1-2sY62i-m3a"
      },
      "source": [
        "####SVM Model Performances"
      ]
    },
    {
      "cell_type": "code",
      "metadata": {
        "colab": {
          "base_uri": "https://localhost:8080/"
        },
        "id": "fP6d_6V1-m3d",
        "outputId": "a5bea80b-fd48-4fe9-a302-61729b73eddf"
      },
      "source": [
        "eval_Model(predict_(LinearSVC(featuresCol=\"features\",labelCol=\"indexed_Label\").fit(train_data_balanced_by_over_Sampling),test_data))"
      ],
      "execution_count": 98,
      "outputs": [
        {
          "output_type": "execute_result",
          "data": {
            "text/plain": [
              "{'accuracy': 0.9321089412312018,\n",
              " 'fMeasureByLabel': 0.498842851810377,\n",
              " 'weightedPrecision': 0.9373390019374337,\n",
              " 'weightedRecall': 0.9321089412312018}"
            ]
          },
          "metadata": {},
          "execution_count": 98
        }
      ]
    },
    {
      "cell_type": "markdown",
      "metadata": {
        "id": "0Eds3_Qw-m3f"
      },
      "source": [
        "####Gradient Boost Model Performances"
      ]
    },
    {
      "cell_type": "code",
      "metadata": {
        "colab": {
          "base_uri": "https://localhost:8080/"
        },
        "id": "WFM2th9k-m3h",
        "outputId": "59c42421-bec3-48f9-f627-5ee9d0cebc0b"
      },
      "source": [
        "eval_Model(predict_(GBTClassifier(maxBins=25,maxDepth=8,featuresCol=\"features\",labelCol=\"indexed_Label\").fit(train_data_balanced_by_over_Sampling),test_data))"
      ],
      "execution_count": 99,
      "outputs": [
        {
          "output_type": "execute_result",
          "data": {
            "text/plain": [
              "{'accuracy': 0.9335652666390235,\n",
              " 'fMeasureByLabel': 0.5613941376777726,\n",
              " 'weightedPrecision': 0.9467322134903953,\n",
              " 'weightedRecall': 0.9335652666390234}"
            ]
          },
          "metadata": {},
          "execution_count": 99
        }
      ]
    },
    {
      "cell_type": "markdown",
      "metadata": {
        "id": "T2JsqpZxdwuR"
      },
      "source": [
        "##Train and test With features selection on overSampling balanced data"
      ]
    },
    {
      "cell_type": "code",
      "metadata": {
        "id": "33_DkMoxOA1M"
      },
      "source": [
        "gc.collect()\n",
        "spark.sparkContext._jvm.System.gc()"
      ],
      "execution_count": 100,
      "outputs": []
    },
    {
      "cell_type": "markdown",
      "metadata": {
        "id": "IdIFrD5dh-4o"
      },
      "source": [
        "###Features selection with Threshold Variance\n",
        "Aprés les expériences nous avons remarqué que avoir les toutes les propriétées dans les données nous aide a mieux faire la classification."
      ]
    },
    {
      "cell_type": "code",
      "metadata": {
        "id": "KbPVJ8yWmdAn"
      },
      "source": [
        "from pyspark.ml.feature import VarianceThresholdSelector\n",
        "\n",
        "selector = VarianceThresholdSelector(varianceThreshold=0.5, outputCol=\"selectedFeatures\").fit(train_data_balanced_by_over_Sampling)\n",
        "\n"
      ],
      "execution_count": 101,
      "outputs": []
    },
    {
      "cell_type": "code",
      "metadata": {
        "colab": {
          "base_uri": "https://localhost:8080/"
        },
        "id": "MfAJ1Eqfq0aN",
        "outputId": "ac6d9c40-3d13-449e-a872-c23a206593ab"
      },
      "source": [
        "cleaned_data_train = selector.transform(train_data_balanced_by_over_Sampling).\\\n",
        "select(\"selectedFeatures\",\"indexed_label\").\\\n",
        "withColumnRenamed(\"selectedFeatures\",\"features\")\n",
        "\n",
        "print(\"Output: Features with variance lower than %f are removed.\" %\n",
        "      selector.getVarianceThreshold())\n",
        "cleaned_data_train.select(\"features\",\"indexed_label\").show(5)"
      ],
      "execution_count": 102,
      "outputs": [
        {
          "output_type": "stream",
          "name": "stdout",
          "text": [
            "Output: Features with variance lower than 0.500000 are removed.\n",
            "+--------------------+-------------+\n",
            "|            features|indexed_label|\n",
            "+--------------------+-------------+\n",
            "|(12,[0,2,5,7,8,9,...|          1.0|\n",
            "|(12,[0,1,2,5,8,9,...|          1.0|\n",
            "|(12,[0,2,5,8,9,10...|          1.0|\n",
            "|(12,[0,2,5,8,9,10...|          1.0|\n",
            "|(12,[0,2,4,5,7,11...|          1.0|\n",
            "+--------------------+-------------+\n",
            "only showing top 5 rows\n",
            "\n"
          ]
        }
      ]
    },
    {
      "cell_type": "code",
      "metadata": {
        "colab": {
          "base_uri": "https://localhost:8080/"
        },
        "id": "dCaEj55NaaYk",
        "outputId": "a5547e5c-7b63-466f-c6df-1dae4d195736"
      },
      "source": [
        "cleaned_data_test = selector.transform(test_data).\\\n",
        "select(\"selectedFeatures\",\"indexed_label\").\\\n",
        "withColumnRenamed(\"selectedFeatures\",\"features\")\n",
        "\n",
        "print(\"Output: Features with variance lower than %f are removed.\" %\n",
        "      selector.getVarianceThreshold())\n",
        "cleaned_data_test.select(\"features\",\"indexed_label\").show(5)"
      ],
      "execution_count": 103,
      "outputs": [
        {
          "output_type": "stream",
          "name": "stdout",
          "text": [
            "Output: Features with variance lower than 0.500000 are removed.\n",
            "+--------------------+-------------+\n",
            "|            features|indexed_label|\n",
            "+--------------------+-------------+\n",
            "|(12,[0,1,2,4,5,7,...|          0.0|\n",
            "|(12,[0,2,5,7,8,9,...|          0.0|\n",
            "|      (12,[7],[4.0])|          0.0|\n",
            "|(12,[1,5,8,9,10],...|          0.0|\n",
            "|(12,[0,1,2,3,4,5,...|          0.0|\n",
            "+--------------------+-------------+\n",
            "only showing top 5 rows\n",
            "\n"
          ]
        }
      ]
    },
    {
      "cell_type": "markdown",
      "metadata": {
        "id": "y8IoEleO1T8e"
      },
      "source": [
        "###Random Froest Performances"
      ]
    },
    {
      "cell_type": "code",
      "metadata": {
        "colab": {
          "base_uri": "https://localhost:8080/"
        },
        "id": "SjUL2nQPht5Q",
        "outputId": "3505eef1-1b0b-4855-8b21-dab4f4b6f6ea"
      },
      "source": [
        "eval_Model(predict_(RandomForestClassifier(labelCol=\"indexed_label\").fit(cleaned_data_train),cleaned_data_test))"
      ],
      "execution_count": 104,
      "outputs": [
        {
          "output_type": "execute_result",
          "data": {
            "text/plain": [
              "{'accuracy': 0.9262532994872521,\n",
              " 'fMeasureByLabel': 0.27123725764541273,\n",
              " 'weightedPrecision': 0.912040780188376,\n",
              " 'weightedRecall': 0.9262532994872521}"
            ]
          },
          "metadata": {},
          "execution_count": 104
        }
      ]
    },
    {
      "cell_type": "markdown",
      "metadata": {
        "id": "PmNwQCrj1VTY"
      },
      "source": [
        "###Svm Performances"
      ]
    },
    {
      "cell_type": "code",
      "metadata": {
        "colab": {
          "base_uri": "https://localhost:8080/"
        },
        "id": "dLaU0BhNiSoX",
        "outputId": "e7db50a5-d482-44c0-dd27-b7c01cd07d3a"
      },
      "source": [
        "eval_Model(predict_(LinearSVC(labelCol=\"indexed_label\").fit(cleaned_data_train),cleaned_data_test))"
      ],
      "execution_count": 105,
      "outputs": [
        {
          "output_type": "execute_result",
          "data": {
            "text/plain": [
              "{'accuracy': 0.9316740662830328,\n",
              " 'fMeasureByLabel': 0.07375925418151905,\n",
              " 'weightedPrecision': 0.8958944877933679,\n",
              " 'weightedRecall': 0.9316740662830327}"
            ]
          },
          "metadata": {},
          "execution_count": 105
        }
      ]
    },
    {
      "cell_type": "markdown",
      "metadata": {
        "id": "VQj4pAV4yLsz"
      },
      "source": [
        "###Gradient Boost Model Performances"
      ]
    },
    {
      "cell_type": "code",
      "metadata": {
        "colab": {
          "base_uri": "https://localhost:8080/"
        },
        "id": "TE79PRYeyLs5",
        "outputId": "e2413188-935e-43db-e552-4a9c078bed45"
      },
      "source": [
        "eval_Model(predict_(GBTClassifier(labelCol=\"indexed_label\").fit(cleaned_data_train),cleaned_data_test))"
      ],
      "execution_count": 106,
      "outputs": [
        {
          "output_type": "execute_result",
          "data": {
            "text/plain": [
              "{'accuracy': 0.9086560341427401,\n",
              " 'fMeasureByLabel': 0.4180412371134021,\n",
              " 'weightedPrecision': 0.9283821214359986,\n",
              " 'weightedRecall': 0.9086560341427402}"
            ]
          },
          "metadata": {},
          "execution_count": 106
        }
      ]
    },
    {
      "cell_type": "markdown",
      "metadata": {
        "id": "IuGJOcLN2c7L"
      },
      "source": [
        "##Grid Search Cross Validation on SGT boost with over simpled data "
      ]
    },
    {
      "cell_type": "code",
      "metadata": {
        "id": "wJOXQwXg2brM"
      },
      "source": [
        "from pyspark.ml.tuning import CrossValidator, ParamGridBuilder\n",
        "def gridSearch_random_forest():\n",
        "  gbt=GBTClassifier()\n",
        "  paramGrid = ParamGridBuilder().addGrid(gbt.maxBins,[25,27])\\\n",
        "  .addGrid(gbt.maxDepth,[6,7])\\\n",
        "  .build()\n",
        "  crossval = CrossValidator(estimator=gbt,\n",
        "                          estimatorParamMaps=paramGrid,\n",
        "                          evaluator=MulticlassClassificationEvaluator(),\n",
        "                          numFolds=3,parallelism=8)\n",
        "\n",
        "  return crossval"
      ],
      "execution_count": 107,
      "outputs": []
    },
    {
      "cell_type": "code",
      "metadata": {
        "id": "7KsE5JaP-YZy"
      },
      "source": [
        "data=train_data_balanced_by_over_Sampling.withColumnRenamed(\"indexed_Label\",\"label\")"
      ],
      "execution_count": 108,
      "outputs": []
    },
    {
      "cell_type": "code",
      "metadata": {
        "id": "BamBveibBxm7"
      },
      "source": [
        "gc.collect()\n",
        "spark.sparkContext._jvm.System.gc()"
      ],
      "execution_count": 109,
      "outputs": []
    },
    {
      "cell_type": "code",
      "metadata": {
        "id": "L_OXG7J4-83b"
      },
      "source": [
        "best_model=gridSearch_random_forest().fit(data)"
      ],
      "execution_count": 110,
      "outputs": []
    },
    {
      "cell_type": "code",
      "metadata": {
        "colab": {
          "base_uri": "https://localhost:8080/"
        },
        "id": "PgHvj1PN4Qh5",
        "outputId": "5be3ac67-3fcf-4125-9c5a-d1c7fa7cc42b"
      },
      "source": [
        "eval_Model(predict_(best_model,test_data))"
      ],
      "execution_count": 111,
      "outputs": [
        {
          "output_type": "execute_result",
          "data": {
            "text/plain": [
              "{'accuracy': 0.9327460835971237,\n",
              " 'fMeasureByLabel': 0.5639344262295083,\n",
              " 'weightedPrecision': 0.9474330271569962,\n",
              " 'weightedRecall': 0.9327460835971237}"
            ]
          },
          "metadata": {},
          "execution_count": 111
        }
      ]
    }
  ]
}